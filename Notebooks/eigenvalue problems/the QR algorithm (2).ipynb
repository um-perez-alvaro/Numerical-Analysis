{
 "cells": [
  {
   "cell_type": "code",
   "execution_count": 1,
   "id": "e5f09f9c",
   "metadata": {},
   "outputs": [],
   "source": [
    "import numpy as np\n",
    "import matplotlib.pyplot as plt"
   ]
  },
  {
   "cell_type": "code",
   "execution_count": 2,
   "id": "0c0521d3",
   "metadata": {},
   "outputs": [],
   "source": [
    "def my_hessenberg(A):\n",
    "    # reduces A (real matrix) to upper Hessenberg form\n",
    "    n = A.shape[0]\n",
    "    H = A.copy()\n",
    "    Q = np.eye(n)\n",
    "    for k in range(n-2):\n",
    "        # set up reflector\n",
    "        x = H[k+1:n,k].copy().reshape(-1,1)\n",
    "        if np.linalg.norm(x)==0:\n",
    "            gamma=0\n",
    "        else:        \n",
    "            tau = np.sign(x[0])*np.linalg.norm(x)\n",
    "            x[0] = x[0]+tau\n",
    "            gamma = x[0]/tau\n",
    "            x = x/x[0]\n",
    "        # multiply from the left\n",
    "        H[k+1:n,:] = H[k+1:n,:] - gamma*x.dot(x.T.dot(H[k+1:n,:]))\n",
    "        # multiply from the right\n",
    "        H[:,k+1:n] = H[:,k+1:n] - gamma*(H[:,k+1:n].dot(x)).dot(x.T)\n",
    "        # multiply Q by the reflector\n",
    "        Q[k+1:n,:] = Q[k+1:n,:] - gamma*x.dot(x.T.dot(Q[k+1:n,:]))\n",
    "    return H,Q"
   ]
  },
  {
   "cell_type": "code",
   "execution_count": 3,
   "id": "b79296c5",
   "metadata": {},
   "outputs": [],
   "source": [
    "A = np.random.randn(10,10)\n",
    "H,Q = my_hessenberg(A)"
   ]
  },
  {
   "cell_type": "code",
   "execution_count": 4,
   "id": "0042292f",
   "metadata": {},
   "outputs": [
    {
     "data": {
      "text/plain": [
       "<matplotlib.image.AxesImage at 0x240a5a8b520>"
      ]
     },
     "execution_count": 4,
     "metadata": {},
     "output_type": "execute_result"
    },
    {
     "data": {
      "image/png": "[encoded data removed]",
      "text/plain": [
       "<Figure size 432x288 with 1 Axes>"
      ]
     },
     "metadata": {
      "needs_background": "light"
     },
     "output_type": "display_data"
    }
   ],
   "source": [
    "plt.spy(H,precision=1e-10)"
   ]
  },
  {
   "cell_type": "code",
   "execution_count": 5,
   "id": "dc398252",
   "metadata": {},
   "outputs": [
    {
     "data": {
      "text/plain": [
       "4.7568250266244844e-15"
      ]
     },
     "execution_count": 5,
     "metadata": {},
     "output_type": "execute_result"
    }
   ],
   "source": [
    "# QAQ^T = H\n",
    "np.linalg.norm(Q.dot(A).dot(Q.T)-H)"
   ]
  },
  {
   "cell_type": "code",
   "execution_count": 6,
   "id": "24c69af7",
   "metadata": {},
   "outputs": [
    {
     "data": {
      "text/plain": [
       "array([-3.15415073+0.j        ,  3.25372143+0.j        ,\n",
       "        0.56142315+2.77872975j,  0.56142315-2.77872975j,\n",
       "        1.48599097+1.253902j  ,  1.48599097-1.253902j  ,\n",
       "       -1.594019  +0.j        ,  0.31320661+1.18335436j,\n",
       "        0.31320661-1.18335436j,  0.10753416+0.j        ])"
      ]
     },
     "execution_count": 6,
     "metadata": {},
     "output_type": "execute_result"
    }
   ],
   "source": [
    "evalues, evectors = np.linalg.eig(A)\n",
    "evalues"
   ]
  },
  {
   "cell_type": "code",
   "execution_count": 7,
   "id": "8cfe1a37",
   "metadata": {},
   "outputs": [
    {
     "data": {
      "text/plain": [
       "array([-3.15415073+0.j        ,  3.25372143+0.j        ,\n",
       "        0.56142315+2.77872975j,  0.56142315-2.77872975j,\n",
       "        1.48599097+1.253902j  ,  1.48599097-1.253902j  ,\n",
       "       -1.594019  +0.j        ,  0.31320661+1.18335436j,\n",
       "        0.31320661-1.18335436j,  0.10753416+0.j        ])"
      ]
     },
     "execution_count": 7,
     "metadata": {},
     "output_type": "execute_result"
    }
   ],
   "source": [
    "evalues, evectors = np.linalg.eig(H)\n",
    "evalues"
   ]
  },
  {
   "cell_type": "markdown",
   "id": "e5da1133",
   "metadata": {},
   "source": [
    "## QR factorization of Hessenberg matrix"
   ]
  },
  {
   "cell_type": "code",
   "execution_count": 8,
   "id": "f8f6137b",
   "metadata": {},
   "outputs": [
    {
     "data": {
      "text/plain": [
       "array([2.-3.j])"
      ]
     },
     "execution_count": 8,
     "metadata": {},
     "output_type": "execute_result"
    }
   ],
   "source": [
    "np.array([2+3*1j]).conj()"
   ]
  },
  {
   "cell_type": "code",
   "execution_count": 9,
   "id": "cb4d6fc7",
   "metadata": {},
   "outputs": [],
   "source": [
    "def my_qr_hess(A):\n",
    "    'computes the QR factorization of a Hessenberg matrix'\n",
    "    n = A.shape[0]\n",
    "    R = A.copy()\n",
    "    Q = np.eye(n) + 0*1j\n",
    "    for i in range(n-1):\n",
    "        x = R[[i,i+1],i]\n",
    "        if np.linalg.norm(x)==0:\n",
    "            rotator = np.array([[1,0],[0,1]])\n",
    "        else:\n",
    "            rotator = np.array([[x[0].conj(),x[1].conj()],\n",
    "                                [-x[1],x[0]]])/np.linalg.norm(x)\n",
    "        # multiply R by the rotator\n",
    "        R[[i,i+1],:] = rotator.dot(R[[i,i+1],:])\n",
    "        Q[[i,i+1],:] = rotator.dot(Q[[i,i+1],:])\n",
    "    return R,Q.conj().T"
   ]
  },
  {
   "cell_type": "code",
   "execution_count": 10,
   "id": "935a1a76",
   "metadata": {},
   "outputs": [
    {
     "data": {
      "text/plain": [
       "<matplotlib.image.AxesImage at 0x240a6228a00>"
      ]
     },
     "execution_count": 10,
     "metadata": {},
     "output_type": "execute_result"
    },
    {
     "data": {
      "image/png": "[encoded data removed]",
      "text/plain": [
       "<Figure size 432x288 with 1 Axes>"
      ]
     },
     "metadata": {
      "needs_background": "light"
     },
     "output_type": "display_data"
    }
   ],
   "source": [
    "plt.spy(H,precision=1e-10)"
   ]
  },
  {
   "cell_type": "code",
   "execution_count": 11,
   "id": "7a6cff9e",
   "metadata": {},
   "outputs": [
    {
     "data": {
      "text/plain": [
       "<matplotlib.image.AxesImage at 0x240a66bc070>"
      ]
     },
     "execution_count": 11,
     "metadata": {},
     "output_type": "execute_result"
    },
    {
     "data": {
      "image/png": "[encoded data removed]",
      "text/plain": [
       "<Figure size 432x288 with 1 Axes>"
      ]
     },
     "metadata": {
      "needs_background": "light"
     },
     "output_type": "display_data"
    }
   ],
   "source": [
    "R,Q = my_qr_hess(H)\n",
    "plt.spy(R,precision=1e-10)"
   ]
  },
  {
   "cell_type": "code",
   "execution_count": 12,
   "id": "7f8fc1ed",
   "metadata": {},
   "outputs": [
    {
     "data": {
      "text/plain": [
       "1.801187911319997e-15"
      ]
     },
     "execution_count": 12,
     "metadata": {},
     "output_type": "execute_result"
    }
   ],
   "source": [
    "# H = QR\n",
    "np.linalg.norm(H-Q.dot(R))"
   ]
  },
  {
   "cell_type": "code",
   "execution_count": 13,
   "id": "7ea39fb9",
   "metadata": {},
   "outputs": [],
   "source": [
    "# complex matrix\n",
    "A = np.random.randn(10,10)+1j*np.random.randn(10,10)"
   ]
  },
  {
   "cell_type": "code",
   "execution_count": 14,
   "id": "84aaa861",
   "metadata": {},
   "outputs": [],
   "source": [
    "from scipy.linalg import hessenberg\n",
    "H,Q = hessenberg(A,calc_q=True)"
   ]
  },
  {
   "cell_type": "code",
   "execution_count": 15,
   "id": "13f1c61c",
   "metadata": {},
   "outputs": [],
   "source": [
    "R,Q = my_qr_hess(H)"
   ]
  },
  {
   "cell_type": "code",
   "execution_count": 16,
   "id": "dbfb1595",
   "metadata": {},
   "outputs": [
    {
     "data": {
      "text/plain": [
       "<matplotlib.image.AxesImage at 0x240a6e08ee0>"
      ]
     },
     "execution_count": 16,
     "metadata": {},
     "output_type": "execute_result"
    },
    {
     "data": {
      "image/png": "[encoded data removed]",
      "text/plain": [
       "<Figure size 432x288 with 1 Axes>"
      ]
     },
     "metadata": {
      "needs_background": "light"
     },
     "output_type": "display_data"
    }
   ],
   "source": [
    "plt.spy(R,precision=1e-10)"
   ]
  },
  {
   "cell_type": "markdown",
   "id": "05c6e54f",
   "metadata": {},
   "source": [
    "## implicit qr algorithm"
   ]
  },
  {
   "cell_type": "code",
   "execution_count": 17,
   "id": "8f7152db",
   "metadata": {},
   "outputs": [],
   "source": [
    "A = np.random.randn(10,10)+1j*np.random.randn(10,10)\n",
    "# reduce A to Hessenberg form\n",
    "from scipy.linalg import hessenberg\n",
    "A = hessenberg(A)"
   ]
  },
  {
   "cell_type": "code",
   "execution_count": 18,
   "id": "70dc988d",
   "metadata": {},
   "outputs": [
    {
     "data": {
      "text/plain": [
       "<matplotlib.image.AxesImage at 0x240a6e6ae20>"
      ]
     },
     "execution_count": 18,
     "metadata": {},
     "output_type": "execute_result"
    },
    {
     "data": {
      "image/png": "[encoded data removed]",
      "text/plain": [
       "<Figure size 432x288 with 1 Axes>"
      ]
     },
     "metadata": {
      "needs_background": "light"
     },
     "output_type": "display_data"
    }
   ],
   "source": [
    "plt.spy(A,precision=1e-5)"
   ]
  },
  {
   "cell_type": "code",
   "execution_count": 19,
   "id": "25842965",
   "metadata": {},
   "outputs": [
    {
     "data": {
      "text/plain": [
       "<matplotlib.image.AxesImage at 0x240a6edb6a0>"
      ]
     },
     "execution_count": 19,
     "metadata": {},
     "output_type": "execute_result"
    },
    {
     "data": {
      "image/png": "[encoded data removed]",
      "text/plain": [
       "<Figure size 432x288 with 1 Axes>"
      ]
     },
     "metadata": {
      "needs_background": "light"
     },
     "output_type": "display_data"
    }
   ],
   "source": [
    "x = A[[0,1],0]\n",
    "rotator = np.array([[x[0].conj(), x[1].conj()],[-x[1],x[0]]])/np.linalg.norm(x)\n",
    "# multiply A by Q from the left\n",
    "A[[0,1],:] = rotator.dot(A[[0,1],:])\n",
    "# multiply A by Q^* from the right\n",
    "A[:,[0,1]] = A[:,[0,1]].dot(rotator.conj().T)\n",
    "plt.spy(A,precision=1e-5)"
   ]
  },
  {
   "cell_type": "code",
   "execution_count": 20,
   "id": "df165997",
   "metadata": {},
   "outputs": [],
   "source": [
    "i = 0"
   ]
  },
  {
   "cell_type": "code",
   "execution_count": 21,
   "id": "c19f2d7f",
   "metadata": {},
   "outputs": [
    {
     "data": {
      "image/png": "[encoded data removed]",
      "text/plain": [
       "<Figure size 432x288 with 1 Axes>"
      ]
     },
     "metadata": {
      "needs_background": "light"
     },
     "output_type": "display_data"
    }
   ],
   "source": [
    "\n",
    "# build the rotator\n",
    "x = A[[i+1,i+2],i]\n",
    "rotator = np.array([[x[0].conj(),x[1].conj()],\n",
    "                    [-x[1],x[0]]])/np.linalg.norm(x)\n",
    "# multiply by the rotator from the left\n",
    "A[[i+1,i+2]] = rotator.dot(A[[i+1,i+2]])\n",
    "# multiply by the rotator from the right\n",
    "A[:,[i+1,i+2]] = A[:,[i+1,i+2]].dot(rotator.conj().T)\n",
    "plt.spy(A,precision=1e-5)\n",
    "i += 1"
   ]
  },
  {
   "cell_type": "code",
   "execution_count": 22,
   "id": "0f7d6e42",
   "metadata": {},
   "outputs": [],
   "source": [
    "A = np.random.randn(10,10)+1j*np.random.randn(10,10)\n",
    "A = hessenberg(A)"
   ]
  },
  {
   "cell_type": "code",
   "execution_count": 23,
   "id": "f7f1e0dd",
   "metadata": {},
   "outputs": [],
   "source": [
    "n = A.shape[0]"
   ]
  },
  {
   "cell_type": "code",
   "execution_count": 24,
   "id": "1183a5b3",
   "metadata": {},
   "outputs": [],
   "source": [
    "from IPython.display import clear_output"
   ]
  },
  {
   "cell_type": "code",
   "execution_count": 25,
   "id": "51346652",
   "metadata": {},
   "outputs": [
    {
     "data": {
      "image/png": "[encoded data removed]",
      "text/plain": [
       "<Figure size 432x288 with 1 Axes>"
      ]
     },
     "metadata": {
      "needs_background": "light"
     },
     "output_type": "display_data"
    }
   ],
   "source": [
    "max_iter = 100\n",
    "for it in range(max_iter):\n",
    "    x = A[[0,1],0]\n",
    "    rotator = np.array([[x[0].conj(),x[1].conj()],\n",
    "                    [-x[1],x[0]]])/np.linalg.norm(x)\n",
    "    A[[0,1]] = rotator.dot(A[[0,1]])\n",
    "    A[:,[0,1]] = A[:,[0,1]].dot(rotator.conj().T)\n",
    "    for i in range(n-2):\n",
    "        clear_output(wait=True)\n",
    "        x = A[[i+1,i+2],i]\n",
    "        rotator = np.array([[x[0].conj(),x[1].conj()],\n",
    "                    [-x[1],x[0]]])/np.linalg.norm(x)\n",
    "        A[[i+1,i+2]] = rotator.dot(A[[i+1,i+2]])\n",
    "        A[:,[i+1,i+2]] = A[:,[i+1,i+2]].dot(rotator.conj().T)\n",
    "        plt.spy(A,precision=1e-5)\n",
    "        plt.pause(0.1)"
   ]
  },
  {
   "cell_type": "code",
   "execution_count": 40,
   "id": "b187aff9",
   "metadata": {},
   "outputs": [],
   "source": [
    "A = np.random.randn(10,10)+1j*np.random.randn(10,10)\n",
    "A = hessenberg(A)"
   ]
  },
  {
   "cell_type": "code",
   "execution_count": 41,
   "id": "1e263336",
   "metadata": {},
   "outputs": [],
   "source": [
    "evalues, evectors = np.linalg.eig(A)"
   ]
  },
  {
   "cell_type": "code",
   "execution_count": 42,
   "id": "2cad046a",
   "metadata": {},
   "outputs": [
    {
     "data": {
      "image/png": "[encoded data removed]",
      "text/plain": [
       "<Figure size 432x288 with 1 Axes>"
      ]
     },
     "metadata": {
      "needs_background": "light"
     },
     "output_type": "display_data"
    }
   ],
   "source": [
    "n = A.shape[0]\n",
    "for j in range(1,n):\n",
    "    while np.abs(A[n-1,n-2])>1e-16*(np.abs(A[n-2,n-2])+np.abs(A[n-1,n-1])):\n",
    "        shift = A[n-1,n-1]\n",
    "        x = A[[0,1],0]-np.array([shift,0])\n",
    "        rotator = np.array([[x[0].conj(),x[1].conj()],\n",
    "                        [-x[1],x[0]]])/np.linalg.norm(x)\n",
    "        A[[0,1]] = rotator.dot(A[[0,1]])\n",
    "        A[:,[0,1]] = A[:,[0,1]].dot(rotator.conj().T)\n",
    "        clear_output(wait=True)\n",
    "        plt.spy(A,precision=1e-5)\n",
    "        plt.pause(0.05)\n",
    "        for i in range(n-2):\n",
    "            clear_output(wait=True)\n",
    "            x = A[[i+1,i+2],i]\n",
    "            rotator = np.array([[x[0].conj(),x[1].conj()],\n",
    "                        [-x[1],x[0]]])/np.linalg.norm(x)\n",
    "            A[[i+1,i+2]] = rotator.dot(A[[i+1,i+2]])\n",
    "            A[:,[i+1,i+2]] = A[:,[i+1,i+2]].dot(rotator.conj().T)\n",
    "            plt.spy(A,precision=1e-5)\n",
    "            plt.pause(0.05)\n",
    "    n = n-1"
   ]
  },
  {
   "cell_type": "code",
   "execution_count": 43,
   "id": "17b37333",
   "metadata": {},
   "outputs": [
    {
     "data": {
      "text/plain": [
       "array([-0.60398352+4.34631145j,  2.0317654 +2.95444139j,\n",
       "        3.50447149+1.25524478j,  1.85179524-3.79343851j,\n",
       "       -1.07254377+2.29320096j, -2.70079097-0.44531246j,\n",
       "       -1.40506397+0.82472088j,  1.27312025-1.89638821j,\n",
       "        1.51811053-0.15168289j, -1.0918782 -1.6447569j ])"
      ]
     },
     "execution_count": 43,
     "metadata": {},
     "output_type": "execute_result"
    }
   ],
   "source": [
    "np.diag(A)"
   ]
  },
  {
   "cell_type": "code",
   "execution_count": 44,
   "id": "5937923e",
   "metadata": {},
   "outputs": [
    {
     "data": {
      "text/plain": [
       "array([-0.60398352+4.34631145j,  2.0317654 +2.95444139j,\n",
       "        3.50447149+1.25524478j,  1.85179524-3.79343851j,\n",
       "       -1.07254377+2.29320096j, -2.70079097-0.44531246j,\n",
       "       -1.40506397+0.82472088j,  1.51811053-0.15168289j,\n",
       "        1.27312025-1.89638821j, -1.0918782 -1.6447569j ])"
      ]
     },
     "execution_count": 44,
     "metadata": {},
     "output_type": "execute_result"
    }
   ],
   "source": [
    "evalues"
   ]
  },
  {
   "cell_type": "code",
   "execution_count": 58,
   "id": "427a0dd6",
   "metadata": {},
   "outputs": [],
   "source": [
    "def my_eig(A):\n",
    "    n = A.shape[0]\n",
    "    H = A.copy()\n",
    "    H = hessenberg(H)\n",
    "    for j in range(1,n):\n",
    "        while np.abs(H[n-1,n-2])>1e-16*(np.abs(H[n-2,n-2])+np.abs(H[n-1,n-1])):\n",
    "            shift = H[n-1,n-1]\n",
    "            x = H[[0,1],0]-np.array([shift,0])\n",
    "            rotator = np.array([[x[0].conj(),x[1].conj()],\n",
    "                            [-x[1],x[0]]])/np.linalg.norm(x)\n",
    "            H[[0,1]] = rotator.dot(H[[0,1]])\n",
    "            H[:,[0,1]] = H[:,[0,1]].dot(rotator.conj().T)\n",
    "            for i in range(n-2):\n",
    "                x = H[[i+1,i+2],i]\n",
    "                rotator = np.array([[x[0].conj(),x[1].conj()],\n",
    "                            [-x[1],x[0]]])/np.linalg.norm(x)\n",
    "                H[[i+1,i+2]] = rotator.dot(H[[i+1,i+2]])\n",
    "                H[:,[i+1,i+2]] = H[:,[i+1,i+2]].dot(rotator.conj().T)\n",
    "        n = n-1\n",
    "    evalues = np.diag(H)\n",
    "    # eigenvectors\n",
    "    n = A.shape[0]\n",
    "    evectors = np.random.randn(n,n) +1j*np.random.randn(n,n)\n",
    "    for i in range(n):\n",
    "        # apply two iterations of shift-and-invert\n",
    "        evectors[:,i] = np.linalg.solve(A-evalues[i]*np.eye(n,dtype='complex128'),evectors[:,i])\n",
    "        evectors[:,i] = evectors[:,i]/np.linalg.norm(evectors[:,i])\n",
    "        \n",
    "        evectors[:,i] = np.linalg.solve(A-evalues[i]*np.eye(n,dtype='complex128'),evectors[:,i])\n",
    "        evectors[:,i] = evectors[:,i]/np.linalg.norm(evectors[:,i])\n",
    "    return evalues, evectors"
   ]
  },
  {
   "cell_type": "code",
   "execution_count": 67,
   "id": "504bfb57",
   "metadata": {},
   "outputs": [],
   "source": [
    "A = np.random.randn(10,10) + 1j*np.random.randn(10,10)"
   ]
  },
  {
   "cell_type": "code",
   "execution_count": 68,
   "id": "0886b562",
   "metadata": {},
   "outputs": [],
   "source": [
    "evalues, evectors = my_eig(A)"
   ]
  },
  {
   "cell_type": "code",
   "execution_count": 69,
   "id": "fdc4df4f",
   "metadata": {},
   "outputs": [],
   "source": [
    "# compute residuals to check the quality of the computed eigenvalues and eigenvectors\n",
    "n = A.shape[0]\n",
    "residuals = np.zeros(n)\n",
    "for i in range(n):\n",
    "    residuals[i] = np.linalg.norm(A.dot(evectors[:,i])-evalues[i]*evectors[:,i])"
   ]
  },
  {
   "cell_type": "code",
   "execution_count": 70,
   "id": "553b9aa2",
   "metadata": {},
   "outputs": [
    {
     "data": {
      "text/plain": [
       "[<matplotlib.lines.Line2D at 0x240a80044f0>]"
      ]
     },
     "execution_count": 70,
     "metadata": {},
     "output_type": "execute_result"
    },
    {
     "data": {
      "image/png": "[encoded data removed]",
      "text/plain": [
       "<Figure size 432x288 with 1 Axes>"
      ]
     },
     "metadata": {
      "needs_background": "light"
     },
     "output_type": "display_data"
    }
   ],
   "source": [
    "plt.semilogy(residuals,'o--')"
   ]
  },
  {
   "cell_type": "code",
   "execution_count": null,
   "id": "f53dcea7",
   "metadata": {},
   "outputs": [],
   "source": []
  }
 ],
 "metadata": {
  "kernelspec": {
   "display_name": "Python 3 (ipykernel)",
   "language": "python",
   "name": "python3"
  },
  "language_info": {
   "codemirror_mode": {
    "name": "ipython",
    "version": 3
   },
   "file_extension": ".py",
   "mimetype": "text/x-python",
   "name": "python",
   "nbconvert_exporter": "python",
   "pygments_lexer": "ipython3",
   "version": "3.9.12"
  }
 },
 "nbformat": 4,
 "nbformat_minor": 5
}
