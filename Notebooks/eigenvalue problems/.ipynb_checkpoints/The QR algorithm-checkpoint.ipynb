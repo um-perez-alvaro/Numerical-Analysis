{
 "cells": [
  {
   "cell_type": "code",
   "execution_count": 1,
   "id": "a055755d",
   "metadata": {},
   "outputs": [],
   "source": [
    "import numpy as np\n",
    "import matplotlib.pyplot as plt"
   ]
  },
  {
   "cell_type": "markdown",
   "id": "8a2d38f6",
   "metadata": {},
   "source": [
    "## reduction to Hessenberg form"
   ]
  },
  {
   "cell_type": "code",
   "execution_count": 93,
   "id": "439cce9d",
   "metadata": {},
   "outputs": [
    {
     "data": {
      "text/plain": [
       "array([[ 0.89622241, -2.20533192,  0.55107691, -0.93243889,  0.13075046,\n",
       "         0.431379  ,  2.2287798 , -0.56431888,  0.73049438, -3.33083905],\n",
       "       [ 1.03892708, -0.45343231,  0.22512309,  0.56259   , -3.12214127,\n",
       "        -0.24330876,  1.32341009, -0.05130163,  0.29226435,  0.78176911],\n",
       "       [-0.13508551,  0.15512738, -0.22022534,  0.81602356,  0.78615867,\n",
       "         0.92977541, -1.41643166,  0.55234127, -1.63853348,  0.92837689],\n",
       "       [ 1.01657485,  1.10417854, -0.37909645,  1.87964022, -1.06691209,\n",
       "        -0.15406458, -0.06335965,  0.91946225, -0.25240658, -0.74042156],\n",
       "       [ 1.26849793,  0.07590695,  0.94286893, -0.82015587,  0.26180251,\n",
       "        -2.87215536, -0.29798508, -0.83769921,  0.21522394, -0.12562822],\n",
       "       [-0.52337284,  1.38214838, -0.40913551, -0.3773081 ,  0.33488842,\n",
       "        -0.91674613, -0.76912244, -1.06667698, -0.85205805,  0.4426761 ],\n",
       "       [ 0.79036974, -0.23146331, -0.50131499, -1.01052933,  0.54252856,\n",
       "         0.08222762,  0.29235785, -0.42176043,  0.84041006, -0.6624612 ],\n",
       "       [-0.66854531, -1.23339336,  0.87903983,  0.70469667,  1.01967075,\n",
       "        -0.84294402,  0.54032598,  0.63752583, -0.47984936,  0.06155029],\n",
       "       [-0.52756009, -0.57558982,  0.20437078, -1.42335994,  0.76613588,\n",
       "         0.02636157, -0.25720245, -0.98011973, -0.47074642, -0.69900361],\n",
       "       [-1.06093622,  0.55364733, -0.11109165, -1.38858131,  0.32538019,\n",
       "         1.34246858, -0.81105795, -0.66440891,  1.74542198,  0.36377633]])"
      ]
     },
     "execution_count": 93,
     "metadata": {},
     "output_type": "execute_result"
    }
   ],
   "source": [
    "A = np.random.randn(10,10)\n",
    "A"
   ]
  },
  {
   "cell_type": "code",
   "execution_count": 94,
   "id": "66707f90",
   "metadata": {},
   "outputs": [
    {
     "data": {
      "text/plain": [
       "10"
      ]
     },
     "execution_count": 94,
     "metadata": {},
     "output_type": "execute_result"
    }
   ],
   "source": [
    "n = A.shape[0]\n",
    "n"
   ]
  },
  {
   "cell_type": "code",
   "execution_count": 95,
   "id": "61065e7f",
   "metadata": {},
   "outputs": [],
   "source": [
    "H = A.copy()\n",
    "Q = np.eye(n)"
   ]
  },
  {
   "cell_type": "code",
   "execution_count": 68,
   "id": "f0868736",
   "metadata": {},
   "outputs": [
    {
     "data": {
      "text/plain": [
       "array([[ 1.        ],\n",
       "       [ 0.43110686],\n",
       "       [-0.18021525],\n",
       "       [ 0.55970861]])"
      ]
     },
     "execution_count": 68,
     "metadata": {},
     "output_type": "execute_result"
    }
   ],
   "source": [
    "k = 0\n",
    "x = H[k+1:n,k].copy().reshape(-1,1)\n",
    "tau = np.sign(x[0])*np.linalg.norm(x)\n",
    "x[0] = tau + x[0]\n",
    "gamma = x[0]/tau\n",
    "x[1:] = x[1:]/x[0]\n",
    "x[0] = 1\n",
    "tau = tau\n",
    "x"
   ]
  },
  {
   "cell_type": "code",
   "execution_count": 69,
   "id": "941cdcc0",
   "metadata": {},
   "outputs": [
    {
     "data": {
      "text/plain": [
       "array([[ 1.81257666, -1.5189402 , -0.29306553, -0.13922121, -0.46117946]])"
      ]
     },
     "execution_count": 69,
     "metadata": {},
     "output_type": "execute_result"
    }
   ],
   "source": [
    "x.T.dot(H[k+1:n,:])"
   ]
  },
  {
   "cell_type": "code",
   "execution_count": 70,
   "id": "3e4e1203",
   "metadata": {},
   "outputs": [
    {
     "data": {
      "text/plain": [
       "array([[-1.76702179,  1.31163841, -0.3954329 ,  0.37723106,  0.47678107],\n",
       "       [-1.81257666,  1.14953286,  0.56011307, -0.71838312,  0.75218878],\n",
       "       [ 0.        , -0.44271737,  1.04702281, -0.65541469,  0.16850346],\n",
       "       [ 0.        , -0.22564917,  0.84154404, -1.35184496,  1.89049033],\n",
       "       [ 0.        ,  0.92834093, -1.01261119,  1.60178888, -0.04101623]])"
      ]
     },
     "execution_count": 70,
     "metadata": {},
     "output_type": "execute_result"
    }
   ],
   "source": [
    "H[k+1:n,:]  = H[k+1:n,:] - gamma*x.dot((x.T.dot(H[k+1:n,:])))\n",
    "H"
   ]
  },
  {
   "cell_type": "code",
   "execution_count": 73,
   "id": "dcde3bcd",
   "metadata": {},
   "outputs": [],
   "source": [
    "H[:,k+1:n] = H[:,k+1:n] - gamma*(H[:,k+1:n].dot(x)).dot(x.T)"
   ]
  },
  {
   "cell_type": "code",
   "execution_count": 98,
   "id": "56e56c2a",
   "metadata": {},
   "outputs": [],
   "source": [
    "for k in range(n-1):\n",
    "    # set up reflector\n",
    "    x = H[k+1:n,k].copy().reshape(-1,1)\n",
    "    tau = np.sign(x[0])*np.linalg.norm(x)\n",
    "    x[0] = tau + x[0]\n",
    "    gamma = x[0]/tau\n",
    "    x[1:] = x[1:]/x[0]\n",
    "    x[0] = 1\n",
    "    tau = tau\n",
    "    \n",
    "    # multiply on the left\n",
    "    H[k+1:n,:]  = H[k+1:n,:] - gamma*x.dot((x.T.dot(H[k+1:n,:])))\n",
    "    \n",
    "    # multiply on the right (reflectors are symmetric)\n",
    "    H[:,k+1:n] = H[:,k+1:n] - gamma*(H[:,k+1:n].dot(x)).dot(x.T)"
   ]
  },
  {
   "cell_type": "code",
   "execution_count": 97,
   "id": "e4c4dca9",
   "metadata": {},
   "outputs": [
    {
     "data": {
      "text/plain": [
       "<matplotlib.image.AxesImage at 0x1d45c69d790>"
      ]
     },
     "execution_count": 97,
     "metadata": {},
     "output_type": "execute_result"
    },
    {
     "data": {
      "image/png": "[encoded data removed]",
      "text/plain": [
       "<Figure size 432x288 with 1 Axes>"
      ]
     },
     "metadata": {
      "needs_background": "light"
     },
     "output_type": "display_data"
    }
   ],
   "source": [
    "plt.spy(H,precision=1e-5)"
   ]
  },
  {
   "cell_type": "markdown",
   "id": "2589dbe3",
   "metadata": {},
   "source": [
    "## Complex reflectors"
   ]
  },
  {
   "cell_type": "code",
   "execution_count": 2,
   "id": "3b9ebed0",
   "metadata": {},
   "outputs": [
    {
     "data": {
      "text/plain": [
       "array([ 1.39906072+0.71947009j, -0.18165361+1.50413778j])"
      ]
     },
     "execution_count": 2,
     "metadata": {},
     "output_type": "execute_result"
    }
   ],
   "source": [
    "x = np.random.randn(2)+1j*np.random.randn(2)\n",
    "x"
   ]
  },
  {
   "cell_type": "code",
   "execution_count": 7,
   "id": "839fd293",
   "metadata": {},
   "outputs": [
    {
     "data": {
      "text/plain": [
       "array([[ 0.64055658-0.32940765j, -0.08316967-0.68866586j],\n",
       "       [ 0.08316967-0.68866586j,  0.64055658+0.32940765j]])"
      ]
     },
     "execution_count": 7,
     "metadata": {},
     "output_type": "execute_result"
    }
   ],
   "source": [
    "Q = np.array([[x[0].conj(), x[1].conj()],[-x[1],x[0]]])/np.linalg.norm(x)\n",
    "Q"
   ]
  },
  {
   "cell_type": "code",
   "execution_count": 8,
   "id": "8903db2b",
   "metadata": {},
   "outputs": [
    {
     "data": {
      "text/plain": [
       "array([ 2.18413292e+00+1.11022302e-16j, -1.38777878e-17+0.00000000e+00j])"
      ]
     },
     "execution_count": 8,
     "metadata": {},
     "output_type": "execute_result"
    }
   ],
   "source": [
    "Q.dot(x)"
   ]
  },
  {
   "cell_type": "code",
   "execution_count": null,
   "id": "a2393015",
   "metadata": {},
   "outputs": [],
   "source": []
  }
 ],
 "metadata": {
  "kernelspec": {
   "display_name": "Python 3 (ipykernel)",
   "language": "python",
   "name": "python3"
  },
  "language_info": {
   "codemirror_mode": {
    "name": "ipython",
    "version": 3
   },
   "file_extension": ".py",
   "mimetype": "text/x-python",
   "name": "python",
   "nbconvert_exporter": "python",
   "pygments_lexer": "ipython3",
   "version": "3.9.12"
  }
 },
 "nbformat": 4,
 "nbformat_minor": 5
}
