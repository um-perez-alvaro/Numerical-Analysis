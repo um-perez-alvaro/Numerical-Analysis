{
 "cells": [
  {
   "cell_type": "code",
   "execution_count": 1,
   "id": "947fa396",
   "metadata": {},
   "outputs": [],
   "source": [
    "import numpy as np\n",
    "import matplotlib.pyplot as plt"
   ]
  },
  {
   "cell_type": "code",
   "execution_count": 2,
   "id": "a4bb4568",
   "metadata": {},
   "outputs": [],
   "source": [
    "S = np.random.randn(5,5)\n",
    "D = np.diag([5,4,3,2,1])\n",
    "A = np.linalg.inv(S).dot(D).dot(S) "
   ]
  },
  {
   "cell_type": "code",
   "execution_count": 3,
   "id": "637bf7e1",
   "metadata": {},
   "outputs": [
    {
     "data": {
      "text/plain": [
       "(5, 5)"
      ]
     },
     "execution_count": 3,
     "metadata": {},
     "output_type": "execute_result"
    }
   ],
   "source": [
    "A.shape"
   ]
  },
  {
   "cell_type": "code",
   "execution_count": 4,
   "id": "9903efdb",
   "metadata": {},
   "outputs": [],
   "source": [
    "# choose a vector\n",
    "q = np.random.randn(5)\n",
    "max_iter = 100\n",
    "res =[]\n",
    "for i in range(max_iter):\n",
    "    q = A.dot(q)\n",
    "    q = q/np.linalg.norm(q) # to avoid overflow\n",
    "    lam = q.T.dot(A).dot(q)\n",
    "    res.append(np.linalg.norm(A.dot(q)-lam*q)/np.linalg.norm(A))"
   ]
  },
  {
   "cell_type": "code",
   "execution_count": 5,
   "id": "08162ff9",
   "metadata": {},
   "outputs": [
    {
     "data": {
      "text/plain": [
       "[<matplotlib.lines.Line2D at 0x2490a4aba60>]"
      ]
     },
     "execution_count": 5,
     "metadata": {},
     "output_type": "execute_result"
    },
    {
     "data": {
      "image/png": "[encoded data removed]",
      "text/plain": [
       "<Figure size 432x288 with 1 Axes>"
      ]
     },
     "metadata": {
      "needs_background": "light"
     },
     "output_type": "display_data"
    }
   ],
   "source": [
    "plt.semilogy(res,'o--')"
   ]
  },
  {
   "cell_type": "code",
   "execution_count": 6,
   "id": "4320c842",
   "metadata": {},
   "outputs": [
    {
     "data": {
      "text/plain": [
       "4.999999997798277"
      ]
     },
     "execution_count": 6,
     "metadata": {},
     "output_type": "execute_result"
    }
   ],
   "source": [
    "lam"
   ]
  },
  {
   "cell_type": "code",
   "execution_count": 7,
   "id": "9cd06931",
   "metadata": {},
   "outputs": [
    {
     "data": {
      "text/plain": [
       "array([-0.16440834,  0.77436694,  0.02110076,  0.2605692 , -0.55225374])"
      ]
     },
     "execution_count": 7,
     "metadata": {},
     "output_type": "execute_result"
    }
   ],
   "source": [
    "q"
   ]
  },
  {
   "cell_type": "code",
   "execution_count": 8,
   "id": "2a78f50c",
   "metadata": {},
   "outputs": [
    {
     "data": {
      "text/plain": [
       "4.660646303633308e-11"
      ]
     },
     "execution_count": 8,
     "metadata": {},
     "output_type": "execute_result"
    }
   ],
   "source": [
    "# residual\n",
    "np.linalg.norm(A.dot(q)-lam*q)/np.linalg.norm(A)"
   ]
  },
  {
   "cell_type": "code",
   "execution_count": 9,
   "id": "f51a87a0",
   "metadata": {},
   "outputs": [],
   "source": [
    "## Rounding errors can be beneficial\n",
    "A = np.array([[0.4,-0.6,0.2],[-0.3,0.7,-0.4],[-0.1,-0.4,0.5]])\n",
    "q = np.array([1,1,1])\n",
    "# power method\n",
    "max_iter = 100\n",
    "res =[]\n",
    "for i in range(max_iter):\n",
    "    q = A.dot(q)\n",
    "    q = q/np.linalg.norm(q) # to avoid overflow\n",
    "    lam = q.T.dot(A).dot(q)\n",
    "    res.append(np.linalg.norm(A.dot(q)-lam*q)/np.linalg.norm(A))"
   ]
  },
  {
   "cell_type": "code",
   "execution_count": 10,
   "id": "a55b786c",
   "metadata": {},
   "outputs": [
    {
     "data": {
      "text/plain": [
       "1.1605551275463986"
      ]
     },
     "execution_count": 10,
     "metadata": {},
     "output_type": "execute_result"
    }
   ],
   "source": [
    "lam"
   ]
  },
  {
   "cell_type": "code",
   "execution_count": 11,
   "id": "7abcfbc3",
   "metadata": {},
   "outputs": [
    {
     "data": {
      "text/plain": [
       "array([ 0.63685249, -0.69842825,  0.32652241])"
      ]
     },
     "execution_count": 11,
     "metadata": {},
     "output_type": "execute_result"
    }
   ],
   "source": [
    "q "
   ]
  },
  {
   "cell_type": "code",
   "execution_count": 12,
   "id": "58363d39",
   "metadata": {},
   "outputs": [
    {
     "data": {
      "text/plain": [
       "[<matplotlib.lines.Line2D at 0x2490a6d4400>]"
      ]
     },
     "execution_count": 12,
     "metadata": {},
     "output_type": "execute_result"
    },
    {
     "data": {
      "image/png": "[encoded data removed]",
      "text/plain": [
       "<Figure size 432x288 with 1 Axes>"
      ]
     },
     "metadata": {
      "needs_background": "light"
     },
     "output_type": "display_data"
    }
   ],
   "source": [
    "plt.semilogy(res)"
   ]
  },
  {
   "cell_type": "markdown",
   "id": "41a3ece7",
   "metadata": {},
   "source": [
    "## Inverse iteration"
   ]
  },
  {
   "cell_type": "code",
   "execution_count": 13,
   "id": "0c5533f8",
   "metadata": {},
   "outputs": [],
   "source": [
    "# random matrix with eigenvalues 1,2,3,4,5\n",
    "S = np.random.randn(5,5)\n",
    "D = np.diag([5,4,3,2,1])\n",
    "A = np.linalg.inv(S).dot(D).dot(S) "
   ]
  },
  {
   "cell_type": "code",
   "execution_count": 14,
   "id": "03d7fa48",
   "metadata": {},
   "outputs": [],
   "source": [
    "from scipy.linalg import lu_factor\n",
    "from scipy.linalg import lu_solve"
   ]
  },
  {
   "cell_type": "code",
   "execution_count": 15,
   "id": "762a4952",
   "metadata": {},
   "outputs": [],
   "source": [
    "q = np.random.randn(5)\n",
    "max_iter = 100\n",
    "res = []\n",
    "# LU factorization of A\n",
    "lu, p = lu_factor(A)\n",
    "# inverse iteration\n",
    "for k in range(max_iter):\n",
    "    q = lu_solve((lu,p),q) # approximate eigenvector\n",
    "    q = q/np.linalg.norm(q) \n",
    "    lam = q.T.dot(A).dot(q) # approximate eigenvalue\n",
    "    res.append(np.linalg.norm(A.dot(q)-lam*q)/np.linalg.norm(A))"
   ]
  },
  {
   "cell_type": "code",
   "execution_count": 16,
   "id": "0b37126b",
   "metadata": {},
   "outputs": [
    {
     "data": {
      "text/plain": [
       "0.9999999999999999"
      ]
     },
     "execution_count": 16,
     "metadata": {},
     "output_type": "execute_result"
    }
   ],
   "source": [
    "lam"
   ]
  },
  {
   "cell_type": "code",
   "execution_count": 17,
   "id": "592c71cf",
   "metadata": {},
   "outputs": [
    {
     "data": {
      "text/plain": [
       "[<matplotlib.lines.Line2D at 0x2490ba25b20>]"
      ]
     },
     "execution_count": 17,
     "metadata": {},
     "output_type": "execute_result"
    },
    {
     "data": {
      "image/png": "[encoded data removed]",
      "text/plain": [
       "<Figure size 432x288 with 1 Axes>"
      ]
     },
     "metadata": {
      "needs_background": "light"
     },
     "output_type": "display_data"
    }
   ],
   "source": [
    "plt.semilogy(res)"
   ]
  },
  {
   "cell_type": "markdown",
   "id": "b65cd372",
   "metadata": {},
   "source": [
    "## shift-and-invert iteration"
   ]
  },
  {
   "cell_type": "code",
   "execution_count": 18,
   "id": "2006af27",
   "metadata": {},
   "outputs": [],
   "source": [
    "shift = 2\n",
    "max_iter = 100\n",
    "res = []\n",
    "lu,p = lu_factor(A-shift*np.eye(5))\n",
    "q = np.random.randn(5)\n",
    "for k in range(max_iter):\n",
    "    q = lu_solve((lu,p),q)\n",
    "    q = q/np.linalg.norm(q)\n",
    "    lam = q.T.dot(A).dot(q)\n",
    "    res.append(np.linalg.norm(A.dot(q)-lam*q)/np.linalg.norm(A))"
   ]
  },
  {
   "cell_type": "code",
   "execution_count": 19,
   "id": "f65d8336",
   "metadata": {},
   "outputs": [
    {
     "data": {
      "text/plain": [
       "2.0000000000000004"
      ]
     },
     "execution_count": 19,
     "metadata": {},
     "output_type": "execute_result"
    }
   ],
   "source": [
    "lam"
   ]
  },
  {
   "cell_type": "code",
   "execution_count": 20,
   "id": "fc2fc4a9",
   "metadata": {},
   "outputs": [
    {
     "data": {
      "text/plain": [
       "[<matplotlib.lines.Line2D at 0x2490ba55fd0>]"
      ]
     },
     "execution_count": 20,
     "metadata": {},
     "output_type": "execute_result"
    },
    {
     "data": {
      "image/png": "[encoded data removed]",
      "text/plain": [
       "<Figure size 432x288 with 1 Axes>"
      ]
     },
     "metadata": {
      "needs_background": "light"
     },
     "output_type": "display_data"
    }
   ],
   "source": [
    "plt.semilogy(res)"
   ]
  },
  {
   "cell_type": "markdown",
   "id": "d04f4560",
   "metadata": {},
   "source": [
    "## The west0479 matrix"
   ]
  },
  {
   "cell_type": "code",
   "execution_count": 21,
   "id": "be56e5c9",
   "metadata": {},
   "outputs": [],
   "source": [
    "from scipy.io import mmread # to load matrices from the matrix market\n",
    "A = mmread('west0479.mtx.gz')"
   ]
  },
  {
   "cell_type": "code",
   "execution_count": 22,
   "id": "700df76f",
   "metadata": {},
   "outputs": [
    {
     "data": {
      "text/plain": [
       "<479x479 sparse matrix of type '<class 'numpy.float64'>'\n",
       "\twith 1910 stored elements in COOrdinate format>"
      ]
     },
     "execution_count": 22,
     "metadata": {},
     "output_type": "execute_result"
    }
   ],
   "source": [
    "# A is sparse; numpy stores only the nonzero entries\n",
    "A"
   ]
  },
  {
   "cell_type": "code",
   "execution_count": 23,
   "id": "1c20378b",
   "metadata": {},
   "outputs": [
    {
     "data": {
      "text/plain": [
       "<matplotlib.lines.Line2D at 0x2490bb8f310>"
      ]
     },
     "execution_count": 23,
     "metadata": {},
     "output_type": "execute_result"
    },
    {
     "data": {
      "image/png": "[encoded data removed]",
      "text/plain": [
       "<Figure size 432x288 with 1 Axes>"
      ]
     },
     "metadata": {
      "needs_background": "light"
     },
     "output_type": "display_data"
    }
   ],
   "source": [
    "# display the nonzero entries of A\n",
    "plt.spy(A,markersize=1)"
   ]
  },
  {
   "cell_type": "code",
   "execution_count": 24,
   "id": "e23de6d9",
   "metadata": {},
   "outputs": [],
   "source": [
    "# A as a dense matrix\n",
    "A = A.toarray() "
   ]
  },
  {
   "cell_type": "code",
   "execution_count": 25,
   "id": "17b54abd",
   "metadata": {},
   "outputs": [
    {
     "data": {
      "text/plain": [
       "array([ 9.21360904e-03+1.70066232e+03j,  9.21360904e-03-1.70066232e+03j,\n",
       "        1.08125256e+02+5.40659386e+01j,  1.08125256e+02-5.40659386e+01j,\n",
       "       -7.24015165e+00+1.20672188e+02j, -7.24015165e+00-1.20672188e+02j,\n",
       "       -1.00885104e+02+6.66062491e+01j, -1.00885104e+02-6.66062491e+01j,\n",
       "       -7.46535209e+01+0.00000000e+00j, -2.33008454e+01+7.06894790e+01j,\n",
       "       -2.33008454e+01-7.06894790e+01j,  5.97889701e+01+4.36888114e+01j,\n",
       "        5.97889701e+01-4.36888114e+01j,  7.46354391e+01+0.00000000e+00j,\n",
       "        4.30619433e+01+3.91642807e+01j,  4.30619433e+01-3.91642807e+01j,\n",
       "       -3.51604828e+01+3.93977635e+01j, -3.51604828e+01-3.93977635e+01j,\n",
       "        1.75485461e+01+3.42378225e+01j,  1.75485461e+01-3.42378225e+01j,\n",
       "        3.37069530e+01+1.75567223e+01j,  3.37069530e+01-1.75567223e+01j,\n",
       "        2.52160374e+01+2.52168500e+01j,  2.52160374e+01-2.52168500e+01j,\n",
       "       -2.52159383e+01+2.52167700e+01j, -2.52159383e+01-2.52167700e+01j,\n",
       "       -3.16797902e+01+1.71254837e+01j, -3.16797902e+01-1.71254837e+01j,\n",
       "       -1.55037983e-05+3.56608352e+01j, -1.55037983e-05-3.56608352e+01j,\n",
       "       -2.76583315e+00+3.47182416e+01j, -2.76583315e+00-3.47182416e+01j,\n",
       "       -1.69694873e+01+3.05516228e+01j, -1.69694873e+01-3.05516228e+01j,\n",
       "       -3.56621044e+01+0.00000000e+00j, -3.37389146e+01+0.00000000e+00j,\n",
       "        3.56618691e+01+0.00000000e+00j,  3.38714815e+01+0.00000000e+00j,\n",
       "       -4.98176273e+00+2.62890101e+01j, -4.98176273e+00-2.62890101e+01j,\n",
       "        1.81091859e+01+4.66498709e+00j,  1.81091859e+01-4.66498709e+00j,\n",
       "        1.34030409e+01+1.22139449e+01j,  1.34030409e+01-1.22139449e+01j,\n",
       "       -1.78251073e+01+4.63763714e+00j, -1.78251073e+01-4.63763714e+00j,\n",
       "       -1.11727972e+01+1.45153119e+01j, -1.11727972e+01-1.45153119e+01j,\n",
       "       -2.10088937e-01+1.93347371e+01j, -2.10088937e-01-1.93347371e+01j,\n",
       "       -1.13997352e-05+1.88853827e+01j, -1.13997352e-05-1.88853827e+01j,\n",
       "        6.39694919e+00+1.62037507e+01j,  6.39694919e+00-1.62037507e+01j,\n",
       "       -1.49876802e+01+7.28278977e+00j, -1.49876802e+01-7.28278977e+00j,\n",
       "       -1.69324902e+01+0.00000000e+00j, -7.18384859e+00+1.38213492e+01j,\n",
       "       -7.18384859e+00-1.38213492e+01j, -2.48528125e-01+1.47478447e+01j,\n",
       "       -2.48528125e-01-1.47478447e+01j,  1.28186887e+01+0.00000000e+00j,\n",
       "       -1.06573204e-04+1.31390815e+01j, -1.06573204e-04-1.31390815e+01j,\n",
       "        9.09238262e+00+7.63357669e+00j,  9.09238262e+00-7.63357669e+00j,\n",
       "        2.09777256e+00+1.07918814e+01j,  2.09777256e+00-1.07918814e+01j,\n",
       "       -1.00038118e+01+0.00000000e+00j,  8.43744280e+00+4.55448830e+00j,\n",
       "        8.43744280e+00-4.55448830e+00j,  1.78764237e+00+9.53514766e+00j,\n",
       "        1.78764237e+00-9.53514766e+00j, -5.30599915e+00+6.73380010e+00j,\n",
       "       -5.30599915e+00-6.73380010e+00j, -6.16844925e+00+5.07404697e+00j,\n",
       "       -6.16844925e+00-5.07404697e+00j,  7.07402748e+00+0.00000000e+00j,\n",
       "        6.44497149e+00+2.40450714e+00j,  6.44497149e+00-2.40450714e+00j,\n",
       "        6.73859323e+00+0.00000000e+00j,  5.81493193e+00+2.94006960e+00j,\n",
       "        5.81493193e+00-2.94006960e+00j, -2.64400601e+00+6.40595910e+00j,\n",
       "       -2.64400601e+00-6.40595910e+00j,  4.93147180e+00+3.49672853e+00j,\n",
       "        4.93147180e+00-3.49672853e+00j,  2.08196414e+00+5.63398828e+00j,\n",
       "        2.08196414e+00-5.63398828e+00j,  1.15779469e+00+5.94984686e+00j,\n",
       "        1.15779469e+00-5.94984686e+00j,  5.24270345e+00+2.39278213e+00j,\n",
       "        5.24270345e+00-2.39278213e+00j,  5.82291178e+00+0.00000000e+00j,\n",
       "        5.40600182e+00+0.00000000e+00j,  3.70188137e+00+4.18908422e+00j,\n",
       "        3.70188137e+00-4.18908422e+00j, -3.46365733e+00+5.80253211e+00j,\n",
       "       -3.46365733e+00-5.80253211e+00j, -3.03203516e+00+5.90114910e+00j,\n",
       "       -3.03203516e+00-5.90114910e+00j,  2.61174094e+00+4.84055258e+00j,\n",
       "        2.61174094e+00-4.84055258e+00j, -5.15491494e+00+3.45060861e+00j,\n",
       "       -5.15491494e+00-3.45060861e+00j, -4.87289750e+00+3.84337701e+00j,\n",
       "       -4.87289750e+00-3.84337701e+00j, -1.60003362e+00+5.53408837e+00j,\n",
       "       -1.60003362e+00-5.53408837e+00j, -5.76747150e-01+5.50180719e+00j,\n",
       "       -5.76747150e-01-5.50180719e+00j, -6.04881323e+00+0.00000000e+00j,\n",
       "       -5.82368363e+00+0.00000000e+00j, -5.68824152e+00+0.00000000e+00j,\n",
       "       -4.66543866e+00+2.91045247e+00j, -4.66543866e+00-2.91045247e+00j,\n",
       "       -2.22594214e+00+4.99849213e+00j, -2.22594214e+00-4.99849213e+00j,\n",
       "       -3.62276109e+00+4.04173869e+00j, -3.62276109e+00-4.04173869e+00j,\n",
       "        4.33211470e+00+2.77855992e+00j,  4.33211470e+00-2.77855992e+00j,\n",
       "        2.74025766e+00+4.36264026e+00j,  2.74025766e+00-4.36264026e+00j,\n",
       "       -7.07083132e-02+4.87918177e+00j, -7.07083132e-02-4.87918177e+00j,\n",
       "        4.74586325e+00+0.00000000e+00j,  4.32900938e+00+1.01506549e+00j,\n",
       "        4.32900938e+00-1.01506549e+00j, -4.72253606e+00+1.41944025e+00j,\n",
       "       -4.72253606e+00-1.41944025e+00j, -5.00462985e+00+0.00000000e+00j,\n",
       "       -4.57189144e+00+9.74743935e-02j, -4.57189144e+00-9.74743935e-02j,\n",
       "       -3.90912114e+00+1.94224101e+00j, -3.90912114e+00-1.94224101e+00j,\n",
       "        3.74979778e+00+2.36255579e+00j,  3.74979778e+00-2.36255579e+00j,\n",
       "        2.80225436e+00+3.27839076e+00j,  2.80225436e+00-3.27839076e+00j,\n",
       "        3.98524694e+00+0.00000000e+00j,  1.54964399e+00+3.89973665e+00j,\n",
       "        1.54964399e+00-3.89973665e+00j, -1.17639794e+00+4.10117740e+00j,\n",
       "       -1.17639794e+00-4.10117740e+00j,  2.74003268e+00+2.15977477e+00j,\n",
       "        2.74003268e+00-2.15977477e+00j,  1.28074302e+00+3.41808833e+00j,\n",
       "        1.28074302e+00-3.41808833e+00j,  5.02717579e-01+3.70430512e+00j,\n",
       "        5.02717579e-01-3.70430512e+00j, -2.28520346e+00+3.05476413e+00j,\n",
       "       -2.28520346e+00-3.05476413e+00j, -6.87449680e-01+3.76545164e+00j,\n",
       "       -6.87449680e-01-3.76545164e+00j, -1.59681463e+00+3.29484310e+00j,\n",
       "       -1.59681463e+00-3.29484310e+00j, -2.89310263e-01+3.73438851e+00j,\n",
       "       -2.89310263e-01-3.73438851e+00j, -3.17971884e+00+1.62699221e+00j,\n",
       "       -3.17971884e+00-1.62699221e+00j, -3.12923810e+00+1.09678775e+00j,\n",
       "       -3.12923810e+00-1.09678775e+00j, -3.08966464e+00+3.77268125e-01j,\n",
       "       -3.08966464e+00-3.77268125e-01j,  1.70585316e+00+2.71439071e+00j,\n",
       "        1.70585316e+00-2.71439071e+00j, -8.89212107e-01+2.94850611e+00j,\n",
       "       -8.89212107e-01-2.94850611e+00j, -2.18898093e+00+2.02905268e+00j,\n",
       "       -2.18898093e+00-2.02905268e+00j, -2.62158165e+00+1.03804782e+00j,\n",
       "       -2.62158165e+00-1.03804782e+00j, -2.77509841e+00+0.00000000e+00j,\n",
       "       -1.74963200e+00+2.24346325e+00j, -1.74963200e+00-2.24346325e+00j,\n",
       "       -1.53010785e+00+2.36479165e+00j, -1.53010785e+00-2.36479165e+00j,\n",
       "        3.12370197e+00+1.50906521e-01j,  3.12370197e+00-1.50906521e-01j,\n",
       "        3.96655700e-01+2.51282092e+00j,  3.96655700e-01-2.51282092e+00j,\n",
       "        2.49599233e-01+2.39629827e+00j,  2.49599233e-01-2.39629827e+00j,\n",
       "        2.86512952e+00+6.75945859e-01j,  2.86512952e+00-6.75945859e-01j,\n",
       "        2.53636985e+00+1.44578354e+00j,  2.53636985e+00-1.44578354e+00j,\n",
       "        1.67409963e+00+2.07707136e+00j,  1.67409963e+00-2.07707136e+00j,\n",
       "        2.08367846e+00+1.69626745e+00j,  2.08367846e+00-1.69626745e+00j,\n",
       "        1.90266142e+00+1.54024296e+00j,  1.90266142e+00-1.54024296e+00j,\n",
       "        2.59296673e+00+0.00000000e+00j,  2.34943030e+00+8.83898086e-01j,\n",
       "        2.34943030e+00-8.83898086e-01j,  2.63235525e-02+2.77413447e+00j,\n",
       "        2.63235525e-02-2.77413447e+00j, -8.80498599e-01+2.61963312e+00j,\n",
       "       -8.80498599e-01-2.61963312e+00j, -2.37622734e+00+1.35436743e+00j,\n",
       "       -2.37622734e+00-1.35436743e+00j, -2.21640315e+00+1.31065407e+00j,\n",
       "       -2.21640315e+00-1.31065407e+00j, -1.07547769e+00+2.09863731e+00j,\n",
       "       -1.07547769e+00-2.09863731e+00j, -2.34115072e+00+0.00000000e+00j,\n",
       "       -2.31612026e+00+2.53137169e-01j, -2.31612026e+00-2.53137169e-01j,\n",
       "       -1.87731865e+00+9.11948015e-01j, -1.87731865e+00-9.11948015e-01j,\n",
       "       -1.41223902e+00+1.54314796e+00j, -1.41223902e+00-1.54314796e+00j,\n",
       "        2.20705850e+00+3.95248757e-01j,  2.20705850e+00-3.95248757e-01j,\n",
       "        6.20272953e-01+2.21682969e+00j,  6.20272953e-01-2.21682969e+00j,\n",
       "        3.28564355e-01+2.21916200e+00j,  3.28564355e-01-2.21916200e+00j,\n",
       "       -3.00326800e-01+2.06580446e+00j, -3.00326800e-01-2.06580446e+00j,\n",
       "        2.06751384e+00+0.00000000e+00j,  1.25347897e+00+1.74104310e+00j,\n",
       "        1.25347897e+00-1.74104310e+00j,  1.06421002e+00+1.83891204e+00j,\n",
       "        1.06421002e+00-1.83891204e+00j,  9.53410408e-01+1.78073458e+00j,\n",
       "        9.53410408e-01-1.78073458e+00j,  1.92475536e+00+2.78497650e-01j,\n",
       "        1.92475536e+00-2.78497650e-01j,  1.64673113e+00+1.06102912e+00j,\n",
       "        1.64673113e+00-1.06102912e+00j,  1.66785563e+00+9.08769996e-01j,\n",
       "        1.66785563e+00-9.08769996e-01j, -1.92367939e+00+3.45113681e-01j,\n",
       "       -1.92367939e+00-3.45113681e-01j,  9.98546882e-02+1.84424585e+00j,\n",
       "        9.98546882e-02-1.84424585e+00j, -1.06203367e-01+1.85449040e+00j,\n",
       "       -1.06203367e-01-1.85449040e+00j, -1.30258638e+00+1.50256127e+00j,\n",
       "       -1.30258638e+00-1.50256127e+00j, -1.42380135e+00+1.30268675e+00j,\n",
       "       -1.42380135e+00-1.30268675e+00j, -1.53547223e+00+1.01811984e+00j,\n",
       "       -1.53547223e+00-1.01811984e+00j, -7.06117229e-01+1.58913884e+00j,\n",
       "       -7.06117229e-01-1.58913884e+00j, -8.80759295e-01+1.46952337e+00j,\n",
       "       -8.80759295e-01-1.46952337e+00j, -1.45350101e+00+5.67629675e-01j,\n",
       "       -1.45350101e+00-5.67629675e-01j, -1.46142608e+00+5.35676610e-01j,\n",
       "       -1.46142608e+00-5.35676610e-01j, -8.07648479e-01+1.42499080e+00j,\n",
       "       -8.07648479e-01-1.42499080e+00j, -4.13489129e-01+1.55758674e+00j,\n",
       "       -4.13489129e-01-1.55758674e+00j,  8.11542925e-01+1.43675092e+00j,\n",
       "        8.11542925e-01-1.43675092e+00j,  9.44803653e-01+1.27564308e+00j,\n",
       "        9.44803653e-01-1.27564308e+00j,  1.32303331e+00+8.56276898e-01j,\n",
       "        1.32303331e+00-8.56276898e-01j,  1.32754121e+00+7.60094779e-01j,\n",
       "        1.32754121e+00-7.60094779e-01j,  7.69095036e-01+1.33936564e+00j,\n",
       "        7.69095036e-01-1.33936564e+00j,  2.52795061e-01+1.47848747e+00j,\n",
       "        2.52795061e-01-1.47848747e+00j, -1.42608047e+00+2.24043665e-01j,\n",
       "       -1.42608047e+00-2.24043665e-01j, -1.23721514e+00+6.33608289e-01j,\n",
       "       -1.23721514e+00-6.33608289e-01j, -1.38197017e+00+0.00000000e+00j,\n",
       "       -1.01821721e+00+9.20016753e-01j, -1.01821721e+00-9.20016753e-01j,\n",
       "       -3.85108726e-01+1.38349735e+00j, -3.85108726e-01-1.38349735e+00j,\n",
       "        8.70482655e-01+1.16918532e+00j,  8.70482655e-01-1.16918532e+00j,\n",
       "       -7.56466933e-02+1.33068592e+00j, -7.56466933e-02-1.33068592e+00j,\n",
       "        2.96159323e-01+1.31420826e+00j,  2.96159323e-01-1.31420826e+00j,\n",
       "        9.10592056e-01+9.88702545e-01j,  9.10592056e-01-9.88702545e-01j,\n",
       "        1.41308969e+00+2.37850895e-01j,  1.41308969e+00-2.37850895e-01j,\n",
       "        1.40118076e+00+1.43360044e-01j,  1.40118076e+00-1.43360044e-01j,\n",
       "        1.30450412e+00+2.17395665e-01j,  1.30450412e+00-2.17395665e-01j,\n",
       "       -1.26293077e+00+0.00000000e+00j, -8.63398360e-01+9.19677868e-01j,\n",
       "       -8.63398360e-01-9.19677868e-01j, -2.36554207e-01+1.23650020e+00j,\n",
       "       -2.36554207e-01-1.23650020e+00j,  1.14262511e+00+4.75405952e-01j,\n",
       "        1.14262511e+00-4.75405952e-01j, -7.37987349e-01+9.35836675e-01j,\n",
       "       -7.37987349e-01-9.35836675e-01j,  9.83595168e-01+6.10489076e-01j,\n",
       "        9.83595168e-01-6.10489076e-01j, -5.92597349e-01+9.16624510e-01j,\n",
       "       -5.92597349e-01-9.16624510e-01j, -1.11921841e+00+0.00000000e+00j,\n",
       "       -8.73119533e-01+5.97827941e-01j, -8.73119533e-01-5.97827941e-01j,\n",
       "       -1.00607883e+00+2.84069996e-01j, -1.00607883e+00-2.84069996e-01j,\n",
       "       -1.00049168e+00+0.00000000e+00j, -6.43149705e-01+8.22127476e-01j,\n",
       "       -6.43149705e-01-8.22127476e-01j, -8.30420119e-01+3.74315455e-01j,\n",
       "       -8.30420119e-01-3.74315455e-01j, -1.91433293e-01+1.03944674e+00j,\n",
       "       -1.91433293e-01-1.03944674e+00j, -3.97691766e-01+9.19282447e-01j,\n",
       "       -3.97691766e-01-9.19282447e-01j,  6.58258116e-01+9.16437545e-01j,\n",
       "        6.58258116e-01-9.16437545e-01j,  4.61877237e-01+9.91119398e-01j,\n",
       "        4.61877237e-01-9.91119398e-01j,  1.94633201e-01+1.04704910e+00j,\n",
       "        1.94633201e-01-1.04704910e+00j, -2.17880283e-01+9.03800238e-01j,\n",
       "       -2.17880283e-01-9.03800238e-01j,  2.95708675e-01+9.33421107e-01j,\n",
       "        2.95708675e-01-9.33421107e-01j,  8.19890037e-01+6.14877844e-01j,\n",
       "        8.19890037e-01-6.14877844e-01j,  9.65968579e-01+3.85121587e-01j,\n",
       "        9.65968579e-01-3.85121587e-01j,  9.94692360e-01+1.99687335e-01j,\n",
       "        9.94692360e-01-1.99687335e-01j, -4.64525662e-02+8.97339387e-01j,\n",
       "       -4.64525662e-02-8.97339387e-01j,  6.00856347e-01+7.42565916e-01j,\n",
       "        6.00856347e-01-7.42565916e-01j,  9.16379107e-01+0.00000000e+00j,\n",
       "        8.57844852e-01+3.07919422e-01j,  8.57844852e-01-3.07919422e-01j,\n",
       "       -8.03639401e-01+2.89113195e-01j, -8.03639401e-01-2.89113195e-01j,\n",
       "        3.42519958e-01+7.56818542e-01j,  3.42519958e-01-7.56818542e-01j,\n",
       "        7.08234227e-01+3.18447037e-01j,  7.08234227e-01-3.18447037e-01j,\n",
       "        4.85639393e-01+6.14379472e-01j,  4.85639393e-01-6.14379472e-01j,\n",
       "       -6.11363259e-01+4.40388053e-01j, -6.11363259e-01-4.40388053e-01j,\n",
       "       -8.11306969e-01+0.00000000e+00j, -7.75951533e-01+1.28926187e-01j,\n",
       "       -7.75951533e-01-1.28926187e-01j,  7.23966501e-01+0.00000000e+00j,\n",
       "        5.00774856e-01+4.42919810e-01j,  5.00774856e-01-4.42919810e-01j,\n",
       "        1.42358378e-02+7.15391756e-01j,  1.42358378e-02-7.15391756e-01j,\n",
       "       -8.30747220e-02+7.02578158e-01j, -8.30747220e-02-7.02578158e-01j,\n",
       "       -6.53602160e-01+2.78313755e-01j, -6.53602160e-01-2.78313755e-01j,\n",
       "       -6.71732859e-01+2.05024650e-01j, -6.71732859e-01-2.05024650e-01j,\n",
       "        5.15807968e-01+4.00979641e-01j,  5.15807968e-01-4.00979641e-01j,\n",
       "        5.73236807e-01+2.32647499e-01j,  5.73236807e-01-2.32647499e-01j,\n",
       "        3.65966717e-01+5.51286244e-01j,  3.65966717e-01-5.51286244e-01j,\n",
       "        2.58312206e-01+5.79224178e-01j,  2.58312206e-01-5.79224178e-01j,\n",
       "        5.36045816e-01+0.00000000e+00j, -8.22821670e-02+6.40447937e-01j,\n",
       "       -8.22821670e-02-6.40447937e-01j, -2.86053370e-01+5.66165965e-01j,\n",
       "       -2.86053370e-01-5.66165965e-01j, -3.85805273e-01+4.79394412e-01j,\n",
       "       -3.85805273e-01-4.79394412e-01j, -6.51657038e-01+5.67224603e-02j,\n",
       "       -6.51657038e-01-5.67224603e-02j, -4.56057869e-01+3.56101730e-01j,\n",
       "       -4.56057869e-01-3.56101730e-01j, -1.84487939e-01+5.08707973e-01j,\n",
       "       -1.84487939e-01-5.08707973e-01j, -5.75977235e-01+9.52676785e-02j,\n",
       "       -5.75977235e-01-9.52676785e-02j, -1.99896003e-02+5.36078170e-01j,\n",
       "       -1.99896003e-02-5.36078170e-01j,  7.07466465e-02+4.93893071e-01j,\n",
       "        7.07466465e-02-4.93893071e-01j,  1.40540245e-01+4.60654947e-01j,\n",
       "        1.40540245e-01-4.60654947e-01j,  4.09699054e-01+2.07871357e-01j,\n",
       "        4.09699054e-01-2.07871357e-01j,  3.38868957e-01+3.00350987e-01j,\n",
       "        3.38868957e-01-3.00350987e-01j, -2.72719623e-01+3.33173132e-01j,\n",
       "       -2.72719623e-01-3.33173132e-01j,  3.90293665e-01+1.56066814e-01j,\n",
       "        3.90293665e-01-1.56066814e-01j,  2.51094085e-01+3.18291540e-01j,\n",
       "        2.51094085e-01-3.18291540e-01j,  3.62549504e-01+0.00000000e+00j,\n",
       "       -3.83378598e-01+7.38549645e-02j, -3.83378598e-01-7.38549645e-02j,\n",
       "       -3.41365538e-01+1.65172410e-01j, -3.41365538e-01-1.65172410e-01j,\n",
       "       -1.11412245e-01+3.29434557e-01j, -1.11412245e-01-3.29434557e-01j,\n",
       "        6.42267416e-02+3.56189114e-01j,  6.42267416e-02-3.56189114e-01j,\n",
       "       -1.38203474e-01+2.98245936e-01j, -1.38203474e-01-2.98245936e-01j,\n",
       "        2.83686093e-01+3.15931047e-02j,  2.83686093e-01-3.15931047e-02j,\n",
       "       -3.09540062e-01+0.00000000e+00j, -2.53565818e-01+1.42614233e-01j,\n",
       "       -2.53565818e-01-1.42614233e-01j, -1.70013367e-01+2.24115295e-01j,\n",
       "       -1.70013367e-01-2.24115295e-01j, -5.81517229e-04+2.96555548e-01j,\n",
       "       -5.81517229e-04-2.96555548e-01j,  7.76583669e-02+2.79901476e-01j,\n",
       "        7.76583669e-02-2.79901476e-01j,  1.64984923e-01+2.07294592e-01j,\n",
       "        1.64984923e-01-2.07294592e-01j, -2.46365701e-01+0.00000000e+00j,\n",
       "        2.66447528e-02+2.35846223e-01j,  2.66447528e-02-2.35846223e-01j,\n",
       "       -2.19265878e-01+0.00000000e+00j, -1.88394028e-01+8.94043751e-02j,\n",
       "       -1.88394028e-01-8.94043751e-02j, -1.16400610e-01+1.68247443e-01j,\n",
       "       -1.16400610e-01-1.68247443e-01j,  1.18906968e-01+1.68355712e-01j,\n",
       "        1.18906968e-01-1.68355712e-01j, -2.90481574e-02+1.54270662e-01j,\n",
       "       -2.90481574e-02-1.54270662e-01j,  1.85341315e-01+1.13009680e-01j,\n",
       "        1.85341315e-01-1.13009680e-01j,  2.21633365e-01+0.00000000e+00j,\n",
       "        2.03413881e-01+0.00000000e+00j,  1.49021254e-01+7.15803562e-02j,\n",
       "        1.49021254e-01-7.15803562e-02j, -1.07755592e-01+0.00000000e+00j,\n",
       "        1.66862061e-01+0.00000000e+00j,  2.31806220e-03+1.02109741e-01j,\n",
       "        2.31806220e-03-1.02109741e-01j,  9.73228850e-02+3.83549005e-02j,\n",
       "        9.73228850e-02-3.83549005e-02j,  9.73267004e-02+0.00000000e+00j,\n",
       "       -6.70361942e-02+7.79933401e-02j, -6.70361942e-02-7.79933401e-02j,\n",
       "       -2.18480689e-03+9.49569825e-02j, -2.18480689e-03-9.49569825e-02j,\n",
       "       -9.30589957e-02+0.00000000e+00j, -8.67613312e-02+0.00000000e+00j,\n",
       "       -6.54819328e-02+2.84879463e-02j, -6.54819328e-02-2.84879463e-02j,\n",
       "        5.67812008e-02+0.00000000e+00j,  6.24212864e-05+5.12794911e-02j,\n",
       "        6.24212864e-05-5.12794911e-02j,  2.82913230e-02+2.66570042e-02j,\n",
       "        2.82913230e-02-2.66570042e-02j,  2.25056257e-02+0.00000000e+00j,\n",
       "       -1.39525297e-02+2.04333685e-02j, -1.39525297e-02-2.04333685e-02j,\n",
       "       -2.11439712e-02+0.00000000e+00j,  3.38607057e-03+1.67538105e-02j,\n",
       "        3.38607057e-03-1.67538105e-02j, -4.40705118e-04+5.67268829e-03j,\n",
       "       -4.40705118e-04-5.67268829e-03j, -2.90628278e-04+0.00000000e+00j,\n",
       "        1.71251815e-04+0.00000000e+00j])"
      ]
     },
     "execution_count": 25,
     "metadata": {},
     "output_type": "execute_result"
    }
   ],
   "source": [
    "# NumPy uses j as the imaginary unit sqrt(-1)\n",
    "eigvalues, eigvectors = np.linalg.eig(A)\n",
    "eigvalues"
   ]
  },
  {
   "cell_type": "code",
   "execution_count": 26,
   "id": "e4c76613",
   "metadata": {},
   "outputs": [
    {
     "data": {
      "text/plain": [
       "array([ 9.21360904e-03+1.70066232e+03j,  9.21360904e-03-1.70066232e+03j,\n",
       "       -1.00885104e+02+6.66062491e+01j, -1.00885104e+02-6.66062491e+01j,\n",
       "        1.08125256e+02+5.40659386e+01j,  1.08125256e+02-5.40659386e+01j,\n",
       "       -7.24015165e+00+1.20672188e+02j, -7.24015165e+00-1.20672188e+02j,\n",
       "       -7.46535209e+01+0.00000000e+00j,  7.46354391e+01+0.00000000e+00j,\n",
       "       -2.33008454e+01+7.06894790e+01j, -2.33008454e+01-7.06894790e+01j,\n",
       "        5.97889701e+01+4.36888114e+01j,  5.97889701e+01-4.36888114e+01j,\n",
       "        4.30619433e+01-3.91642807e+01j,  4.30619433e+01+3.91642807e+01j,\n",
       "       -3.51604828e+01+3.93977635e+01j, -3.51604828e+01-3.93977635e+01j,\n",
       "        1.75485461e+01+3.42378225e+01j,  1.75485461e+01-3.42378225e+01j,\n",
       "        3.37069530e+01+1.75567223e+01j,  3.37069530e+01-1.75567223e+01j,\n",
       "       -3.16797902e+01+1.71254837e+01j, -3.16797902e+01-1.71254837e+01j,\n",
       "       -3.56621044e+01+0.00000000e+00j,  3.56618691e+01+0.00000000e+00j,\n",
       "        2.52160374e+01+2.52168500e+01j,  2.52160374e+01-2.52168500e+01j,\n",
       "       -2.52159383e+01+2.52167700e+01j, -2.52159383e+01-2.52167700e+01j,\n",
       "       -1.55037983e-05+3.56608352e+01j, -1.55037983e-05-3.56608352e+01j,\n",
       "       -1.69694873e+01+3.05516228e+01j, -1.69694873e+01-3.05516228e+01j,\n",
       "       -2.76583315e+00+3.47182416e+01j, -2.76583315e+00-3.47182416e+01j,\n",
       "        3.38714815e+01+0.00000000e+00j, -3.37389146e+01+0.00000000e+00j,\n",
       "       -4.98176273e+00+2.62890101e+01j, -4.98176273e+00-2.62890101e+01j,\n",
       "       -2.10088937e-01-1.93347371e+01j, -2.10088937e-01+1.93347371e+01j,\n",
       "       -1.13997352e-05+1.88853827e+01j, -1.13997352e-05-1.88853827e+01j,\n",
       "        1.81091859e+01+4.66498709e+00j,  1.81091859e+01-4.66498709e+00j,\n",
       "       -1.78251073e+01+4.63763714e+00j, -1.78251073e+01-4.63763714e+00j,\n",
       "       -1.11727972e+01+1.45153119e+01j, -1.11727972e+01-1.45153119e+01j,\n",
       "        1.34030409e+01-1.22139449e+01j,  1.34030409e+01+1.22139449e+01j,\n",
       "        6.39694919e+00+1.62037507e+01j,  6.39694919e+00-1.62037507e+01j,\n",
       "       -1.69324902e+01+0.00000000e+00j, -1.49876802e+01+7.28278977e+00j,\n",
       "       -1.49876802e+01-7.28278977e+00j, -7.18384859e+00+1.38213492e+01j,\n",
       "       -7.18384859e+00-1.38213492e+01j, -2.48528125e-01-1.47478447e+01j,\n",
       "       -2.48528125e-01+1.47478447e+01j, -1.06573204e-04+1.31390815e+01j,\n",
       "       -1.06573204e-04-1.31390815e+01j,  1.28186887e+01+0.00000000e+00j,\n",
       "        9.09238262e+00+7.63357669e+00j,  9.09238262e+00-7.63357669e+00j,\n",
       "        2.09777256e+00-1.07918814e+01j,  2.09777256e+00+1.07918814e+01j,\n",
       "       -1.00038118e+01+0.00000000e+00j,  1.78764237e+00+9.53514766e+00j,\n",
       "        1.78764237e+00-9.53514766e+00j,  8.43744280e+00+4.55448830e+00j,\n",
       "        8.43744280e+00-4.55448830e+00j, -5.30599915e+00+6.73380010e+00j,\n",
       "       -5.30599915e+00-6.73380010e+00j, -6.16844925e+00-5.07404697e+00j,\n",
       "       -6.16844925e+00+5.07404697e+00j,  7.07402748e+00+0.00000000e+00j,\n",
       "       -2.64400601e+00+6.40595910e+00j, -2.64400601e+00-6.40595910e+00j,\n",
       "        6.44497149e+00+2.40450714e+00j,  6.44497149e+00-2.40450714e+00j,\n",
       "       -3.46365733e+00-5.80253211e+00j, -3.46365733e+00+5.80253211e+00j,\n",
       "        6.73859323e+00+0.00000000e+00j, -3.03203516e+00-5.90114910e+00j,\n",
       "       -3.03203516e+00+5.90114910e+00j,  5.81493193e+00-2.94006960e+00j,\n",
       "        5.81493193e+00+2.94006960e+00j, -4.87289750e+00-3.84337701e+00j,\n",
       "       -4.87289750e+00+3.84337701e+00j, -5.15491494e+00-3.45060861e+00j,\n",
       "       -5.15491494e+00+3.45060861e+00j,  1.15779469e+00+5.94984686e+00j,\n",
       "        1.15779469e+00-5.94984686e+00j, -6.04881323e+00+0.00000000e+00j,\n",
       "        4.93147180e+00+3.49672853e+00j,  4.93147180e+00-3.49672853e+00j,\n",
       "        2.08196414e+00+5.63398828e+00j,  2.08196414e+00-5.63398828e+00j,\n",
       "       -5.82368363e+00+0.00000000e+00j,  5.82291178e+00+0.00000000e+00j,\n",
       "        5.24270345e+00-2.39278213e+00j,  5.24270345e+00+2.39278213e+00j,\n",
       "       -1.60003362e+00+5.53408837e+00j, -1.60003362e+00-5.53408837e+00j,\n",
       "       -5.68824152e+00+0.00000000e+00j,  3.70188137e+00-4.18908422e+00j,\n",
       "        3.70188137e+00+4.18908422e+00j, -5.76747150e-01+5.50180719e+00j,\n",
       "       -5.76747150e-01-5.50180719e+00j,  2.61174094e+00+4.84055258e+00j,\n",
       "        2.61174094e+00-4.84055258e+00j, -4.66543866e+00-2.91045247e+00j,\n",
       "       -4.66543866e+00+2.91045247e+00j, -2.22594214e+00-4.99849213e+00j,\n",
       "       -2.22594214e+00+4.99849213e+00j, -3.62276109e+00+4.04173869e+00j,\n",
       "       -3.62276109e+00-4.04173869e+00j,  5.40600182e+00+0.00000000e+00j,\n",
       "        2.74025766e+00+4.36264026e+00j,  2.74025766e+00-4.36264026e+00j,\n",
       "        4.33211470e+00+2.77855992e+00j,  4.33211470e+00-2.77855992e+00j,\n",
       "       -5.00462985e+00+0.00000000e+00j, -4.72253606e+00+1.41944025e+00j,\n",
       "       -4.72253606e+00-1.41944025e+00j, -7.07083132e-02-4.87918177e+00j,\n",
       "       -7.07083132e-02+4.87918177e+00j,  4.74586325e+00+0.00000000e+00j,\n",
       "       -4.57189144e+00+9.74743935e-02j, -4.57189144e+00-9.74743935e-02j,\n",
       "        4.32900938e+00+1.01506549e+00j,  4.32900938e+00-1.01506549e+00j,\n",
       "        3.74979778e+00+2.36255579e+00j,  3.74979778e+00-2.36255579e+00j,\n",
       "       -3.90912114e+00+1.94224101e+00j, -3.90912114e+00-1.94224101e+00j,\n",
       "        2.80225436e+00+3.27839076e+00j,  2.80225436e+00-3.27839076e+00j,\n",
       "       -1.17639794e+00-4.10117740e+00j, -1.17639794e+00+4.10117740e+00j,\n",
       "        1.54964399e+00-3.89973665e+00j,  1.54964399e+00+3.89973665e+00j,\n",
       "        3.98524694e+00+0.00000000e+00j, -6.87449680e-01-3.76545164e+00j,\n",
       "       -6.87449680e-01+3.76545164e+00j, -2.28520346e+00+3.05476413e+00j,\n",
       "       -2.28520346e+00-3.05476413e+00j, -2.89310263e-01+3.73438851e+00j,\n",
       "       -2.89310263e-01-3.73438851e+00j,  5.02717579e-01+3.70430512e+00j,\n",
       "        5.02717579e-01-3.70430512e+00j, -1.59681463e+00+3.29484310e+00j,\n",
       "       -1.59681463e+00-3.29484310e+00j,  1.28074302e+00-3.41808833e+00j,\n",
       "        1.28074302e+00+3.41808833e+00j, -3.17971884e+00+1.62699221e+00j,\n",
       "       -3.17971884e+00-1.62699221e+00j,  2.74003268e+00-2.15977477e+00j,\n",
       "        2.74003268e+00+2.15977477e+00j, -3.12923810e+00-1.09678775e+00j,\n",
       "       -3.12923810e+00+1.09678775e+00j,  1.70585316e+00+2.71439071e+00j,\n",
       "        1.70585316e+00-2.71439071e+00j,  3.12370197e+00+1.50906521e-01j,\n",
       "        3.12370197e+00-1.50906521e-01j, -3.08966464e+00-3.77268125e-01j,\n",
       "       -3.08966464e+00+3.77268125e-01j, -8.89212107e-01+2.94850611e+00j,\n",
       "       -8.89212107e-01-2.94850611e+00j, -2.18898093e+00-2.02905268e+00j,\n",
       "       -2.18898093e+00+2.02905268e+00j,  2.86512952e+00+6.75945859e-01j,\n",
       "        2.86512952e+00-6.75945859e-01j,  2.53636985e+00-1.44578354e+00j,\n",
       "        2.53636985e+00+1.44578354e+00j, -1.74963200e+00+2.24346325e+00j,\n",
       "       -1.74963200e+00-2.24346325e+00j, -2.62158165e+00-1.03804782e+00j,\n",
       "       -2.62158165e+00+1.03804782e+00j, -1.53010785e+00+2.36479165e+00j,\n",
       "       -1.53010785e+00-2.36479165e+00j, -2.77509841e+00+0.00000000e+00j,\n",
       "        2.63235525e-02-2.77413447e+00j,  2.63235525e-02+2.77413447e+00j,\n",
       "       -8.80498599e-01+2.61963312e+00j, -8.80498599e-01-2.61963312e+00j,\n",
       "       -2.37622734e+00+1.35436743e+00j, -2.37622734e+00-1.35436743e+00j,\n",
       "        2.08367846e+00+1.69626745e+00j,  2.08367846e+00-1.69626745e+00j,\n",
       "        1.67409963e+00+2.07707136e+00j,  1.67409963e+00-2.07707136e+00j,\n",
       "        2.59296673e+00+0.00000000e+00j, -2.21640315e+00-1.31065407e+00j,\n",
       "       -2.21640315e+00+1.31065407e+00j,  3.96655700e-01-2.51282092e+00j,\n",
       "        3.96655700e-01+2.51282092e+00j,  2.34943030e+00-8.83898086e-01j,\n",
       "        2.34943030e+00+8.83898086e-01j,  1.90266142e+00-1.54024296e+00j,\n",
       "        1.90266142e+00+1.54024296e+00j,  2.49599233e-01-2.39629827e+00j,\n",
       "        2.49599233e-01+2.39629827e+00j, -1.07547769e+00+2.09863731e+00j,\n",
       "       -1.07547769e+00-2.09863731e+00j, -2.34115072e+00+0.00000000e+00j,\n",
       "       -2.31612026e+00+2.53137169e-01j, -2.31612026e+00-2.53137169e-01j,\n",
       "        6.20272953e-01+2.21682969e+00j,  6.20272953e-01-2.21682969e+00j,\n",
       "        3.28564355e-01-2.21916200e+00j,  3.28564355e-01+2.21916200e+00j,\n",
       "        2.20705850e+00-3.95248757e-01j,  2.20705850e+00+3.95248757e-01j,\n",
       "        1.25347897e+00+1.74104310e+00j,  1.25347897e+00-1.74104310e+00j,\n",
       "        1.06421002e+00-1.83891204e+00j,  1.06421002e+00+1.83891204e+00j,\n",
       "       -1.41223902e+00-1.54314796e+00j, -1.41223902e+00+1.54314796e+00j,\n",
       "       -3.00326800e-01+2.06580446e+00j, -3.00326800e-01-2.06580446e+00j,\n",
       "       -1.87731865e+00+9.11948015e-01j, -1.87731865e+00-9.11948015e-01j,\n",
       "        2.06751384e+00+0.00000000e+00j,  9.53410408e-01+1.78073458e+00j,\n",
       "        9.53410408e-01-1.78073458e+00j, -1.30258638e+00+1.50256127e+00j,\n",
       "       -1.30258638e+00-1.50256127e+00j,  1.64673113e+00-1.06102912e+00j,\n",
       "        1.64673113e+00+1.06102912e+00j, -1.92367939e+00+3.45113681e-01j,\n",
       "       -1.92367939e+00-3.45113681e-01j,  1.92475536e+00+2.78497650e-01j,\n",
       "        1.92475536e+00-2.78497650e-01j, -1.42380135e+00-1.30268675e+00j,\n",
       "       -1.42380135e+00+1.30268675e+00j,  1.66785563e+00+9.08769996e-01j,\n",
       "        1.66785563e+00-9.08769996e-01j, -1.06203367e-01+1.85449040e+00j,\n",
       "       -1.06203367e-01-1.85449040e+00j,  9.98546882e-02+1.84424585e+00j,\n",
       "        9.98546882e-02-1.84424585e+00j, -1.53547223e+00+1.01811984e+00j,\n",
       "       -1.53547223e+00-1.01811984e+00j, -7.06117229e-01+1.58913884e+00j,\n",
       "       -7.06117229e-01-1.58913884e+00j, -8.80759295e-01+1.46952337e+00j,\n",
       "       -8.80759295e-01-1.46952337e+00j,  8.11542925e-01-1.43675092e+00j,\n",
       "        8.11542925e-01+1.43675092e+00j, -8.07648479e-01+1.42499080e+00j,\n",
       "       -8.07648479e-01-1.42499080e+00j, -4.13489129e-01+1.55758674e+00j,\n",
       "       -4.13489129e-01-1.55758674e+00j,  9.44803653e-01+1.27564308e+00j,\n",
       "        9.44803653e-01-1.27564308e+00j,  1.32303331e+00+8.56276898e-01j,\n",
       "        1.32303331e+00-8.56276898e-01j, -1.45350101e+00-5.67629675e-01j,\n",
       "       -1.45350101e+00+5.67629675e-01j, -1.46142608e+00+5.35676610e-01j,\n",
       "       -1.46142608e+00-5.35676610e-01j,  7.69095036e-01+1.33936564e+00j,\n",
       "        7.69095036e-01-1.33936564e+00j,  1.32754121e+00+7.60094779e-01j,\n",
       "        1.32754121e+00-7.60094779e-01j,  2.52795061e-01+1.47848747e+00j,\n",
       "        2.52795061e-01-1.47848747e+00j,  8.70482655e-01+1.16918532e+00j,\n",
       "        8.70482655e-01-1.16918532e+00j, -1.42608047e+00-2.24043665e-01j,\n",
       "       -1.42608047e+00+2.24043665e-01j, -3.85108726e-01+1.38349735e+00j,\n",
       "       -3.85108726e-01-1.38349735e+00j,  1.41308969e+00+2.37850895e-01j,\n",
       "        1.41308969e+00-2.37850895e-01j,  1.40118076e+00-1.43360044e-01j,\n",
       "        1.40118076e+00+1.43360044e-01j, -1.23721514e+00-6.33608289e-01j,\n",
       "       -1.23721514e+00+6.33608289e-01j, -1.38197017e+00+0.00000000e+00j,\n",
       "       -1.01821721e+00-9.20016753e-01j, -1.01821721e+00+9.20016753e-01j,\n",
       "        2.96159323e-01+1.31420826e+00j,  2.96159323e-01-1.31420826e+00j,\n",
       "        9.10592056e-01+9.88702545e-01j,  9.10592056e-01-9.88702545e-01j,\n",
       "       -7.56466933e-02+1.33068592e+00j, -7.56466933e-02-1.33068592e+00j,\n",
       "        1.30450412e+00-2.17395665e-01j,  1.30450412e+00+2.17395665e-01j,\n",
       "       -1.26293077e+00+0.00000000e+00j, -8.63398360e-01+9.19677868e-01j,\n",
       "       -8.63398360e-01-9.19677868e-01j, -2.36554207e-01+1.23650020e+00j,\n",
       "       -2.36554207e-01-1.23650020e+00j,  1.14262511e+00+4.75405952e-01j,\n",
       "        1.14262511e+00-4.75405952e-01j, -7.37987349e-01+9.35836675e-01j,\n",
       "       -7.37987349e-01-9.35836675e-01j,  9.83595168e-01-6.10489076e-01j,\n",
       "        9.83595168e-01+6.10489076e-01j,  6.58258116e-01-9.16437545e-01j,\n",
       "        6.58258116e-01+9.16437545e-01j, -1.11921841e+00+0.00000000e+00j,\n",
       "        4.61877237e-01+9.91119398e-01j,  4.61877237e-01-9.91119398e-01j,\n",
       "       -5.92597349e-01-9.16624510e-01j, -5.92597349e-01+9.16624510e-01j,\n",
       "        1.94633201e-01-1.04704910e+00j,  1.94633201e-01+1.04704910e+00j,\n",
       "       -8.73119533e-01+5.97827941e-01j, -8.73119533e-01-5.97827941e-01j,\n",
       "       -1.91433293e-01+1.03944674e+00j, -1.91433293e-01-1.03944674e+00j,\n",
       "       -1.00607883e+00+2.84069996e-01j, -1.00607883e+00-2.84069996e-01j,\n",
       "       -6.43149705e-01-8.22127476e-01j, -6.43149705e-01+8.22127476e-01j,\n",
       "        9.65968579e-01+3.85121587e-01j,  9.65968579e-01-3.85121587e-01j,\n",
       "        8.19890037e-01-6.14877844e-01j,  8.19890037e-01+6.14877844e-01j,\n",
       "        9.94692360e-01+1.99687335e-01j,  9.94692360e-01-1.99687335e-01j,\n",
       "       -3.97691766e-01-9.19282447e-01j, -3.97691766e-01+9.19282447e-01j,\n",
       "       -1.00049168e+00+0.00000000e+00j,  2.95708675e-01+9.33421107e-01j,\n",
       "        2.95708675e-01-9.33421107e-01j,  6.00856347e-01+7.42565916e-01j,\n",
       "        6.00856347e-01-7.42565916e-01j, -2.17880283e-01+9.03800238e-01j,\n",
       "       -2.17880283e-01-9.03800238e-01j,  9.16379107e-01+0.00000000e+00j,\n",
       "        8.57844852e-01-3.07919422e-01j,  8.57844852e-01+3.07919422e-01j,\n",
       "       -8.30420119e-01+3.74315455e-01j, -8.30420119e-01-3.74315455e-01j,\n",
       "       -4.64525662e-02-8.97339387e-01j, -4.64525662e-02+8.97339387e-01j,\n",
       "       -8.03639401e-01+2.89113195e-01j, -8.03639401e-01-2.89113195e-01j,\n",
       "        3.42519958e-01+7.56818542e-01j,  3.42519958e-01-7.56818542e-01j,\n",
       "       -8.11306969e-01+0.00000000e+00j, -7.75951533e-01-1.28926187e-01j,\n",
       "       -7.75951533e-01+1.28926187e-01j,  4.85639393e-01+6.14379472e-01j,\n",
       "        4.85639393e-01-6.14379472e-01j,  7.08234227e-01-3.18447037e-01j,\n",
       "        7.08234227e-01+3.18447037e-01j, -6.11363259e-01-4.40388053e-01j,\n",
       "       -6.11363259e-01+4.40388053e-01j,  7.23966501e-01+0.00000000e+00j,\n",
       "        1.42358378e-02+7.15391756e-01j,  1.42358378e-02-7.15391756e-01j,\n",
       "       -6.53602160e-01-2.78313755e-01j, -6.53602160e-01+2.78313755e-01j,\n",
       "       -8.30747220e-02+7.02578158e-01j, -8.30747220e-02-7.02578158e-01j,\n",
       "       -6.71732859e-01-2.05024650e-01j, -6.71732859e-01+2.05024650e-01j,\n",
       "        5.00774856e-01-4.42919810e-01j,  5.00774856e-01+4.42919810e-01j,\n",
       "        3.65966717e-01+5.51286244e-01j,  3.65966717e-01-5.51286244e-01j,\n",
       "       -6.51657038e-01-5.67224603e-02j, -6.51657038e-01+5.67224603e-02j,\n",
       "        5.15807968e-01+4.00979641e-01j,  5.15807968e-01-4.00979641e-01j,\n",
       "       -8.22821670e-02+6.40447937e-01j, -8.22821670e-02-6.40447937e-01j,\n",
       "       -2.86053370e-01-5.66165965e-01j, -2.86053370e-01+5.66165965e-01j,\n",
       "        2.58312206e-01-5.79224178e-01j,  2.58312206e-01+5.79224178e-01j,\n",
       "        5.73236807e-01-2.32647499e-01j,  5.73236807e-01+2.32647499e-01j,\n",
       "       -3.85805273e-01+4.79394412e-01j, -3.85805273e-01-4.79394412e-01j,\n",
       "       -5.75977235e-01+9.52676785e-02j, -5.75977235e-01-9.52676785e-02j,\n",
       "       -4.56057869e-01+3.56101730e-01j, -4.56057869e-01-3.56101730e-01j,\n",
       "       -1.84487939e-01+5.08707973e-01j, -1.84487939e-01-5.08707973e-01j,\n",
       "       -1.99896003e-02+5.36078170e-01j, -1.99896003e-02-5.36078170e-01j,\n",
       "        5.36045816e-01+0.00000000e+00j,  7.07466465e-02-4.93893071e-01j,\n",
       "        7.07466465e-02+4.93893071e-01j,  1.40540245e-01-4.60654947e-01j,\n",
       "        1.40540245e-01+4.60654947e-01j,  4.09699054e-01+2.07871357e-01j,\n",
       "        4.09699054e-01-2.07871357e-01j,  3.38868957e-01+3.00350987e-01j,\n",
       "        3.38868957e-01-3.00350987e-01j, -2.72719623e-01+3.33173132e-01j,\n",
       "       -2.72719623e-01-3.33173132e-01j,  3.90293665e-01+1.56066814e-01j,\n",
       "        3.90293665e-01-1.56066814e-01j,  2.51094085e-01+3.18291540e-01j,\n",
       "        2.51094085e-01-3.18291540e-01j, -3.83378598e-01+7.38549645e-02j,\n",
       "       -3.83378598e-01-7.38549645e-02j, -3.41365538e-01+1.65172410e-01j,\n",
       "       -3.41365538e-01-1.65172410e-01j,  3.62549504e-01+0.00000000e+00j,\n",
       "        6.42267416e-02+3.56189114e-01j,  6.42267416e-02-3.56189114e-01j,\n",
       "       -1.11412245e-01+3.29434557e-01j, -1.11412245e-01-3.29434557e-01j,\n",
       "       -1.38203474e-01-2.98245936e-01j, -1.38203474e-01+2.98245936e-01j,\n",
       "       -3.09540062e-01+0.00000000e+00j, -5.81517229e-04-2.96555548e-01j,\n",
       "       -5.81517229e-04+2.96555548e-01j, -2.53565818e-01+1.42614233e-01j,\n",
       "       -2.53565818e-01-1.42614233e-01j,  7.76583669e-02+2.79901476e-01j,\n",
       "        7.76583669e-02-2.79901476e-01j,  2.83686093e-01-3.15931047e-02j,\n",
       "        2.83686093e-01+3.15931047e-02j, -1.70013367e-01+2.24115295e-01j,\n",
       "       -1.70013367e-01-2.24115295e-01j,  1.64984923e-01+2.07294592e-01j,\n",
       "        1.64984923e-01-2.07294592e-01j, -2.46365701e-01+0.00000000e+00j,\n",
       "        2.66447528e-02-2.35846223e-01j,  2.66447528e-02+2.35846223e-01j,\n",
       "        2.21633365e-01+0.00000000e+00j, -2.19265878e-01+0.00000000e+00j,\n",
       "        1.85341315e-01+1.13009680e-01j,  1.85341315e-01-1.13009680e-01j,\n",
       "       -1.88394028e-01-8.94043751e-02j, -1.88394028e-01+8.94043751e-02j,\n",
       "        1.18906968e-01+1.68355712e-01j,  1.18906968e-01-1.68355712e-01j,\n",
       "       -1.16400610e-01+1.68247443e-01j, -1.16400610e-01-1.68247443e-01j,\n",
       "        2.03413881e-01+0.00000000e+00j,  1.66862061e-01+0.00000000e+00j,\n",
       "        1.49021254e-01+7.15803562e-02j,  1.49021254e-01-7.15803562e-02j,\n",
       "       -2.90481574e-02-1.54270662e-01j, -2.90481574e-02+1.54270662e-01j,\n",
       "       -1.07755592e-01+0.00000000e+00j,  9.73228850e-02+3.83549005e-02j,\n",
       "        9.73228850e-02-3.83549005e-02j, -6.70361942e-02+7.79933401e-02j,\n",
       "       -6.70361942e-02-7.79933401e-02j,  2.31806220e-03+1.02109741e-01j,\n",
       "        2.31806220e-03-1.02109741e-01j,  9.73267004e-02+0.00000000e+00j,\n",
       "       -2.18480689e-03+9.49569825e-02j, -2.18480689e-03-9.49569825e-02j,\n",
       "       -9.30589957e-02+0.00000000e+00j, -8.67613312e-02+0.00000000e+00j,\n",
       "       -6.54819328e-02-2.84879463e-02j, -6.54819328e-02+2.84879463e-02j,\n",
       "        5.67812008e-02+0.00000000e+00j,  6.24212864e-05+5.12794911e-02j,\n",
       "        6.24212864e-05-5.12794911e-02j,  2.82913230e-02+2.66570042e-02j,\n",
       "        2.82913230e-02-2.66570042e-02j, -1.39525297e-02+2.04333685e-02j,\n",
       "       -1.39525297e-02-2.04333685e-02j,  2.25056257e-02+0.00000000e+00j,\n",
       "       -2.11439712e-02+0.00000000e+00j,  3.38607057e-03-1.67538105e-02j,\n",
       "        3.38607057e-03+1.67538105e-02j, -4.40705118e-04-5.67268829e-03j,\n",
       "       -4.40705118e-04+5.67268829e-03j, -2.90628278e-04+0.00000000e+00j,\n",
       "        1.71251815e-04+0.00000000e+00j])"
      ]
     },
     "execution_count": 26,
     "metadata": {},
     "output_type": "execute_result"
    }
   ],
   "source": [
    "# sort eigenvalues by absolute value\n",
    "sorted_eigvalues = eigvalues[np.argsort(np.abs(eigvalues))][::-1]\n",
    "sorted_eigvalues"
   ]
  },
  {
   "cell_type": "code",
   "execution_count": 27,
   "id": "d308a8bd",
   "metadata": {},
   "outputs": [
    {
     "data": {
      "text/plain": [
       "array([1.70066232e+03, 1.70066232e+03, 1.20889192e+02, 1.20889192e+02,\n",
       "       1.20889192e+02, 1.20889192e+02, 1.20889192e+02, 1.20889192e+02,\n",
       "       7.46535209e+01, 7.46354391e+01, 7.44307183e+01, 7.44307183e+01,\n",
       "       7.40502072e+01, 7.40502072e+01, 5.82080049e+01, 5.82080049e+01,\n",
       "       5.28057130e+01, 5.28057130e+01, 3.84731070e+01, 3.84731070e+01,\n",
       "       3.80052257e+01, 3.80052257e+01, 3.60123770e+01, 3.60123770e+01,\n",
       "       3.56621044e+01, 3.56618691e+01, 3.56614367e+01, 3.56614367e+01,\n",
       "       3.56613100e+01, 3.56613100e+01, 3.56608352e+01, 3.56608352e+01,\n",
       "       3.49480351e+01, 3.49480351e+01, 3.48282376e+01, 3.48282376e+01,\n",
       "       3.38714815e+01, 3.37389146e+01, 2.67568685e+01, 2.67568685e+01,\n",
       "       1.93358785e+01, 1.93358785e+01, 1.88853827e+01, 1.88853827e+01,\n",
       "       1.87003936e+01, 1.87003936e+01, 1.84185268e+01, 1.84185268e+01,\n",
       "       1.83173600e+01, 1.83173600e+01, 1.81334485e+01, 1.81334485e+01,\n",
       "       1.74207490e+01, 1.74207490e+01, 1.69324902e+01, 1.66634205e+01,\n",
       "       1.66634205e+01, 1.55768217e+01, 1.55768217e+01, 1.47499387e+01,\n",
       "       1.47499387e+01, 1.31390815e+01, 1.31390815e+01, 1.28186887e+01,\n",
       "       1.18719381e+01, 1.18719381e+01, 1.09938780e+01, 1.09938780e+01,\n",
       "       1.00038118e+01, 9.70127343e+00, 9.70127343e+00, 9.58821176e+00,\n",
       "       9.58821176e+00, 8.57307943e+00, 8.57307943e+00, 7.98722223e+00,\n",
       "       7.98722223e+00, 7.07402748e+00, 6.93015727e+00, 6.93015727e+00,\n",
       "       6.87890340e+00, 6.87890340e+00, 6.75768459e+00, 6.75768459e+00,\n",
       "       6.73859323e+00, 6.63451565e+00, 6.63451565e+00, 6.51593758e+00,\n",
       "       6.51593758e+00, 6.20618054e+00, 6.20618054e+00, 6.20321270e+00,\n",
       "       6.20321270e+00, 6.06144918e+00, 6.06144918e+00, 6.04881323e+00,\n",
       "       6.04537215e+00, 6.04537215e+00, 6.00636317e+00, 6.00636317e+00,\n",
       "       5.82368363e+00, 5.82291178e+00, 5.76292858e+00, 5.76292858e+00,\n",
       "       5.76075010e+00, 5.76075010e+00, 5.68824152e+00, 5.59038033e+00,\n",
       "       5.59038033e+00, 5.53195441e+00, 5.53195441e+00, 5.50019455e+00,\n",
       "       5.50019455e+00, 5.49882273e+00, 5.49882273e+00, 5.47172203e+00,\n",
       "       5.47172203e+00, 5.42771127e+00, 5.42771127e+00, 5.40600182e+00,\n",
       "       5.15185812e+00, 5.15185812e+00, 5.14661180e+00, 5.14661180e+00,\n",
       "       5.00462985e+00, 4.93124299e+00, 4.93124299e+00, 4.87969409e+00,\n",
       "       4.87969409e+00, 4.74586325e+00, 4.57293042e+00, 4.57293042e+00,\n",
       "       4.44642330e+00, 4.44642330e+00, 4.43200329e+00, 4.43200329e+00,\n",
       "       4.36503473e+00, 4.36503473e+00, 4.31282686e+00, 4.31282686e+00,\n",
       "       4.26656398e+00, 4.26656398e+00, 4.19634870e+00, 4.19634870e+00,\n",
       "       3.98524694e+00, 3.82769031e+00, 3.82769031e+00, 3.81493627e+00,\n",
       "       3.81493627e+00, 3.74557845e+00, 3.74557845e+00, 3.73826181e+00,\n",
       "       3.73826181e+00, 3.66139427e+00, 3.66139427e+00, 3.65015486e+00,\n",
       "       3.65015486e+00, 3.57179444e+00, 3.57179444e+00, 3.48889755e+00,\n",
       "       3.48889755e+00, 3.31588215e+00, 3.31588215e+00, 3.20590891e+00,\n",
       "       3.20590891e+00, 3.12734500e+00, 3.12734500e+00, 3.11261287e+00,\n",
       "       3.11261287e+00, 3.07967311e+00, 3.07967311e+00, 2.98474325e+00,\n",
       "       2.98474325e+00, 2.94378498e+00, 2.94378498e+00, 2.91949688e+00,\n",
       "       2.91949688e+00, 2.84505527e+00, 2.84505527e+00, 2.81961587e+00,\n",
       "       2.81961587e+00, 2.81664154e+00, 2.81664154e+00, 2.77509841e+00,\n",
       "       2.77425935e+00, 2.77425935e+00, 2.76364894e+00, 2.76364894e+00,\n",
       "       2.73509918e+00, 2.73509918e+00, 2.68682698e+00, 2.68682698e+00,\n",
       "       2.66773968e+00, 2.66773968e+00, 2.59296673e+00, 2.57492855e+00,\n",
       "       2.57492855e+00, 2.54393489e+00, 2.54393489e+00, 2.51019891e+00,\n",
       "       2.51019891e+00, 2.44795197e+00, 2.44795197e+00, 2.40926237e+00,\n",
       "       2.40926237e+00, 2.35816260e+00, 2.35816260e+00, 2.34115072e+00,\n",
       "       2.32991234e+00, 2.32991234e+00, 2.30197142e+00, 2.30197142e+00,\n",
       "       2.24335341e+00, 2.24335341e+00, 2.24217056e+00, 2.24217056e+00,\n",
       "       2.14532995e+00, 2.14532995e+00, 2.12465066e+00, 2.12465066e+00,\n",
       "       2.09182329e+00, 2.09182329e+00, 2.08752108e+00, 2.08752108e+00,\n",
       "       2.08709714e+00, 2.08709714e+00, 2.06751384e+00, 2.01990273e+00,\n",
       "       2.01990273e+00, 1.98857276e+00, 1.98857276e+00, 1.95895539e+00,\n",
       "       1.95895539e+00, 1.95439143e+00, 1.95439143e+00, 1.94479925e+00,\n",
       "       1.94479925e+00, 1.92981944e+00, 1.92981944e+00, 1.89936971e+00,\n",
       "       1.89936971e+00, 1.85752894e+00, 1.85752894e+00, 1.84694713e+00,\n",
       "       1.84694713e+00, 1.84234714e+00, 1.84234714e+00, 1.73895480e+00,\n",
       "       1.73895480e+00, 1.71325301e+00, 1.71325301e+00, 1.65010761e+00,\n",
       "       1.65010761e+00, 1.63795447e+00, 1.63795447e+00, 1.61153645e+00,\n",
       "       1.61153645e+00, 1.58742534e+00, 1.58742534e+00, 1.57595281e+00,\n",
       "       1.57595281e+00, 1.56040656e+00, 1.56040656e+00, 1.55650751e+00,\n",
       "       1.55650751e+00, 1.54447645e+00, 1.54447645e+00, 1.52974172e+00,\n",
       "       1.52974172e+00, 1.49994351e+00, 1.49994351e+00, 1.45764686e+00,\n",
       "       1.45764686e+00, 1.44357233e+00, 1.44357233e+00, 1.43609667e+00,\n",
       "       1.43609667e+00, 1.43296739e+00, 1.43296739e+00, 1.40849552e+00,\n",
       "       1.40849552e+00, 1.39002186e+00, 1.39002186e+00, 1.38197017e+00,\n",
       "       1.37229629e+00, 1.37229629e+00, 1.34716506e+00, 1.34716506e+00,\n",
       "       1.34413936e+00, 1.34413936e+00, 1.33283437e+00, 1.33283437e+00,\n",
       "       1.32249456e+00, 1.32249456e+00, 1.26293077e+00, 1.26145317e+00,\n",
       "       1.26145317e+00, 1.25892440e+00, 1.25892440e+00, 1.23757947e+00,\n",
       "       1.23757947e+00, 1.19181190e+00, 1.19181190e+00, 1.15765123e+00,\n",
       "       1.15765123e+00, 1.12834459e+00, 1.12834459e+00, 1.11921841e+00,\n",
       "       1.09345702e+00, 1.09345702e+00, 1.09149994e+00, 1.09149994e+00,\n",
       "       1.06498540e+00, 1.06498540e+00, 1.05817577e+00, 1.05817577e+00,\n",
       "       1.05692773e+00, 1.05692773e+00, 1.04541397e+00, 1.04541397e+00,\n",
       "       1.04380800e+00, 1.04380800e+00, 1.03991054e+00, 1.03991054e+00,\n",
       "       1.02483874e+00, 1.02483874e+00, 1.01453828e+00, 1.01453828e+00,\n",
       "       1.00161817e+00, 1.00161817e+00, 1.00049168e+00, 9.79141759e-01,\n",
       "       9.79141759e-01, 9.55213321e-01, 9.55213321e-01, 9.29691716e-01,\n",
       "       9.29691716e-01, 9.16379107e-01, 9.11434123e-01, 9.11434123e-01,\n",
       "       9.10883985e-01, 9.10883985e-01, 8.98540937e-01, 8.98540937e-01,\n",
       "       8.54062484e-01, 8.54062484e-01, 8.30719102e-01, 8.30719102e-01,\n",
       "       8.11306969e-01, 7.86589310e-01, 7.86589310e-01, 7.83139678e-01,\n",
       "       7.83139678e-01, 7.76533474e-01, 7.76533474e-01, 7.53463119e-01,\n",
       "       7.53463119e-01, 7.23966501e-01, 7.15533384e-01, 7.15533384e-01,\n",
       "       7.10390266e-01, 7.10390266e-01, 7.07472598e-01, 7.07472598e-01,\n",
       "       7.02324811e-01, 7.02324811e-01, 6.68545746e-01, 6.68545746e-01,\n",
       "       6.61700961e-01, 6.61700961e-01, 6.54121039e-01, 6.54121039e-01,\n",
       "       6.53331870e-01, 6.53331870e-01, 6.45711944e-01, 6.45711944e-01,\n",
       "       6.34326753e-01, 6.34326753e-01, 6.34212775e-01, 6.34212775e-01,\n",
       "       6.18647958e-01, 6.18647958e-01, 6.15357385e-01, 6.15357385e-01,\n",
       "       5.83802797e-01, 5.83802797e-01, 5.78616645e-01, 5.78616645e-01,\n",
       "       5.41128082e-01, 5.41128082e-01, 5.36450733e-01, 5.36450733e-01,\n",
       "       5.36045816e-01, 4.98934318e-01, 4.98934318e-01, 4.81616591e-01,\n",
       "       4.81616591e-01, 4.59416821e-01, 4.59416821e-01, 4.52816614e-01,\n",
       "       4.52816614e-01, 4.30558160e-01, 4.30558160e-01, 4.20340333e-01,\n",
       "       4.20340333e-01, 4.05410587e-01, 4.05410587e-01, 3.90427593e-01,\n",
       "       3.90427593e-01, 3.79225995e-01, 3.79225995e-01, 3.62549504e-01,\n",
       "       3.61933363e-01, 3.61933363e-01, 3.47764023e-01, 3.47764023e-01,\n",
       "       3.28710874e-01, 3.28710874e-01, 3.09540062e-01, 2.96556118e-01,\n",
       "       2.96556118e-01, 2.90919995e-01, 2.90919995e-01, 2.90474884e-01,\n",
       "       2.90474884e-01, 2.85439878e-01, 2.85439878e-01, 2.81304480e-01,\n",
       "       2.81304480e-01, 2.64935978e-01, 2.64935978e-01, 2.46365701e-01,\n",
       "       2.37346547e-01, 2.37346547e-01, 2.21633365e-01, 2.19265878e-01,\n",
       "       2.17077384e-01, 2.17077384e-01, 2.08531657e-01, 2.08531657e-01,\n",
       "       2.06112864e-01, 2.06112864e-01, 2.04588133e-01, 2.04588133e-01,\n",
       "       2.03413881e-01, 1.66862061e-01, 1.65321147e-01, 1.65321147e-01,\n",
       "       1.56981631e-01, 1.56981631e-01, 1.07755592e-01, 1.04608041e-01,\n",
       "       1.04608041e-01, 1.02843631e-01, 1.02843631e-01, 1.02136050e-01,\n",
       "       1.02136050e-01, 9.73267004e-02, 9.49821136e-02, 9.49821136e-02,\n",
       "       9.30589957e-02, 8.67613312e-02, 7.14104097e-02, 7.14104097e-02,\n",
       "       5.67812008e-02, 5.12795291e-02, 5.12795291e-02, 3.88715170e-02,\n",
       "       3.88715170e-02, 2.47425875e-02, 2.47425875e-02, 2.25056257e-02,\n",
       "       2.11439712e-02, 1.70925610e-02, 1.70925610e-02, 5.68978149e-03,\n",
       "       5.68978149e-03, 2.90628278e-04, 1.71251815e-04])"
      ]
     },
     "execution_count": 27,
     "metadata": {},
     "output_type": "execute_result"
    }
   ],
   "source": [
    "# no gap between largest and second largest eigenvalue \n",
    "np.abs(sorted_eigvalues)"
   ]
  },
  {
   "cell_type": "code",
   "execution_count": 28,
   "id": "6c37215e",
   "metadata": {},
   "outputs": [],
   "source": [
    "# power method\n",
    "n = A.shape[0]\n",
    "q = np.random.randn(n)+np.random.randn(n)*1j\n",
    "max_iter = 100\n",
    "res =[]\n",
    "for i in range(max_iter):\n",
    "    q = A.dot(q)\n",
    "    q = q/np.linalg.norm(q) # to avoid overflow\n",
    "    lam = q.dot((A).dot(q))\n",
    "    res.append(np.linalg.norm(A.dot(q)-lam*q)/np.linalg.norm(A,ord=1))"
   ]
  },
  {
   "cell_type": "code",
   "execution_count": 29,
   "id": "75d74ba9",
   "metadata": {},
   "outputs": [
    {
     "data": {
      "text/plain": [
       "[<matplotlib.lines.Line2D at 0x2490c15abb0>]"
      ]
     },
     "execution_count": 29,
     "metadata": {},
     "output_type": "execute_result"
    },
    {
     "data": {
      "image/png": "[encoded data removed]",
      "text/plain": [
       "<Figure size 432x288 with 1 Axes>"
      ]
     },
     "metadata": {
      "needs_background": "light"
     },
     "output_type": "display_data"
    }
   ],
   "source": [
    "# power method does not converge\n",
    "plt.semilogy(res)"
   ]
  },
  {
   "cell_type": "code",
   "execution_count": 30,
   "id": "a9246fa3",
   "metadata": {},
   "outputs": [],
   "source": [
    "# inverse iteration\n",
    "q = np.random.randn(n)\n",
    "max_iter = 100\n",
    "res = []\n",
    "# LU factorization of A\n",
    "lu, p = lu_factor(A)\n",
    "# inverse iteration\n",
    "for k in range(max_iter):\n",
    "    q = lu_solve((lu,p),q) # approximate eigenvector\n",
    "    q = q/np.linalg.norm(q) \n",
    "    lam = q.dot(A.dot(q)) # approximate eigenvalue\n",
    "    res.append(np.linalg.norm(A.dot(q)-lam*q)/np.linalg.norm(A))"
   ]
  },
  {
   "cell_type": "code",
   "execution_count": 31,
   "id": "b50767ea",
   "metadata": {},
   "outputs": [
    {
     "data": {
      "text/plain": [
       "[<matplotlib.lines.Line2D at 0x2490c213a60>]"
      ]
     },
     "execution_count": 31,
     "metadata": {},
     "output_type": "execute_result"
    },
    {
     "data": {
      "image/png": "[encoded data removed]",
      "text/plain": [
       "<Figure size 432x288 with 1 Axes>"
      ]
     },
     "metadata": {
      "needs_background": "light"
     },
     "output_type": "display_data"
    }
   ],
   "source": [
    "plt.semilogy(res)"
   ]
  },
  {
   "cell_type": "code",
   "execution_count": 32,
   "id": "31748c90",
   "metadata": {},
   "outputs": [
    {
     "data": {
      "text/plain": [
       "0.00017125181545814516"
      ]
     },
     "execution_count": 32,
     "metadata": {},
     "output_type": "execute_result"
    }
   ],
   "source": [
    "lam"
   ]
  },
  {
   "cell_type": "code",
   "execution_count": 33,
   "id": "fae5f4b7",
   "metadata": {},
   "outputs": [],
   "source": [
    "# find the e'value near 15+i35\n",
    "shift = 15+35j\n",
    "max_iter = 30\n",
    "res = []\n",
    "lu,p = lu_factor(A-shift*np.eye(n))\n",
    "q = np.random.randn(n)\n",
    "for k in range(max_iter):\n",
    "    q = lu_solve((lu,p),q)\n",
    "    q = q/np.linalg.norm(q)\n",
    "    lam = np.vdot(q,(A.dot(q)))\n",
    "    res.append(np.linalg.norm(A.dot(q)-lam*q)/np.linalg.norm(A))"
   ]
  },
  {
   "cell_type": "code",
   "execution_count": 34,
   "id": "fe7b449b",
   "metadata": {},
   "outputs": [
    {
     "data": {
      "text/plain": [
       "[<matplotlib.lines.Line2D at 0x2490c4f2b50>]"
      ]
     },
     "execution_count": 34,
     "metadata": {},
     "output_type": "execute_result"
    },
    {
     "data": {
      "image/png": "[encoded data removed]",
      "text/plain": [
       "<Figure size 432x288 with 1 Axes>"
      ]
     },
     "metadata": {
      "needs_background": "light"
     },
     "output_type": "display_data"
    }
   ],
   "source": [
    "plt.semilogy(res)"
   ]
  },
  {
   "cell_type": "markdown",
   "id": "276ec0a5",
   "metadata": {},
   "source": [
    "## The Rayleigh iteration"
   ]
  },
  {
   "cell_type": "code",
   "execution_count": 35,
   "id": "76512e4e",
   "metadata": {},
   "outputs": [],
   "source": [
    "# find the e'value near 10+i35\n",
    "shift = 15+35j\n",
    "max_iter = 5\n",
    "res = []\n",
    "q = np.random.randn(n)\n",
    "for k in range(max_iter):\n",
    "    q = np.linalg.solve(A-shift*np.eye(n),q)\n",
    "    q = q/np.linalg.norm(q)\n",
    "    lam = np.vdot(q,(A.dot(q)))\n",
    "    shift = lam\n",
    "    res.append(np.linalg.norm(A.dot(q)-lam*q)/np.linalg.norm(A))"
   ]
  },
  {
   "cell_type": "code",
   "execution_count": 36,
   "id": "18940224",
   "metadata": {},
   "outputs": [
    {
     "data": {
      "text/plain": [
       "[<matplotlib.lines.Line2D at 0x2490c4fe5e0>]"
      ]
     },
     "execution_count": 36,
     "metadata": {},
     "output_type": "execute_result"
    },
    {
     "data": {
      "image/png": "[encoded data removed]",
      "text/plain": [
       "<Figure size 432x288 with 1 Axes>"
      ]
     },
     "metadata": {
      "needs_background": "light"
     },
     "output_type": "display_data"
    }
   ],
   "source": [
    "plt.semilogy(res)"
   ]
  },
  {
   "cell_type": "markdown",
   "id": "43acdd95",
   "metadata": {},
   "source": [
    "## The QR method"
   ]
  },
  {
   "cell_type": "code",
   "execution_count": 37,
   "id": "12bd7c61",
   "metadata": {},
   "outputs": [],
   "source": [
    "# nxn complex matrix\n",
    "n = 5\n",
    "A = np.random.randn(n,n)+1j*np.random.randn(n,n)"
   ]
  },
  {
   "cell_type": "code",
   "execution_count": 38,
   "id": "2351b349",
   "metadata": {},
   "outputs": [
    {
     "data": {
      "text/plain": [
       "array([ 1.93852081+1.97283443j,  0.54393342-1.073845j  ,\n",
       "       -1.37922646-1.44395551j, -2.29780515+0.12931421j,\n",
       "       -1.62072441+1.74394592j])"
      ]
     },
     "execution_count": 38,
     "metadata": {},
     "output_type": "execute_result"
    }
   ],
   "source": [
    "evalues, evectors = np.linalg.eig(A)\n",
    "evalues"
   ]
  },
  {
   "cell_type": "code",
   "execution_count": 39,
   "id": "5f81862c",
   "metadata": {},
   "outputs": [
    {
     "data": {
      "text/plain": [
       "array([2.76585224, 1.20374692, 1.99681575, 2.301441  , 2.38077613])"
      ]
     },
     "execution_count": 39,
     "metadata": {},
     "output_type": "execute_result"
    }
   ],
   "source": [
    "np.abs(evalues)"
   ]
  },
  {
   "cell_type": "code",
   "execution_count": 40,
   "id": "0c9e2b9c",
   "metadata": {},
   "outputs": [
    {
     "data": {
      "text/plain": [
       "<matplotlib.lines.Line2D at 0x2490c4c4940>"
      ]
     },
     "execution_count": 40,
     "metadata": {},
     "output_type": "execute_result"
    },
    {
     "data": {
      "image/png": "[encoded data removed]",
      "text/plain": [
       "<Figure size 432x288 with 1 Axes>"
      ]
     },
     "metadata": {
      "needs_background": "light"
     },
     "output_type": "display_data"
    }
   ],
   "source": [
    "plt.spy(A,markersize=10,precision=1e-4)"
   ]
  },
  {
   "cell_type": "code",
   "execution_count": 49,
   "id": "9e92ed70",
   "metadata": {},
   "outputs": [],
   "source": [
    "# QR steps\n",
    "for i in range(100):\n",
    "    Q,R = np.linalg.qr(A)\n",
    "    A = R.dot(Q)"
   ]
  },
  {
   "cell_type": "code",
   "execution_count": 50,
   "id": "060b9716",
   "metadata": {},
   "outputs": [
    {
     "data": {
      "text/plain": [
       "<matplotlib.lines.Line2D at 0x2490bd28850>"
      ]
     },
     "execution_count": 50,
     "metadata": {},
     "output_type": "execute_result"
    },
    {
     "data": {
      "image/png": "[encoded data removed]",
      "text/plain": [
       "<Figure size 432x288 with 1 Axes>"
      ]
     },
     "metadata": {
      "needs_background": "light"
     },
     "output_type": "display_data"
    }
   ],
   "source": [
    "plt.spy(A,markersize=10,precision=1e-4)"
   ]
  },
  {
   "cell_type": "code",
   "execution_count": 51,
   "id": "a56fae80",
   "metadata": {},
   "outputs": [
    {
     "data": {
      "text/plain": [
       "array([ 1.93852081+1.97283443j, -1.62072445+1.7439424j ,\n",
       "       -2.29780511+0.12931773j, -1.37922646-1.44395551j,\n",
       "        0.54393342-1.073845j  ])"
      ]
     },
     "execution_count": 51,
     "metadata": {},
     "output_type": "execute_result"
    }
   ],
   "source": [
    "np.diag(A)"
   ]
  },
  {
   "cell_type": "code",
   "execution_count": 52,
   "id": "9be351d8",
   "metadata": {},
   "outputs": [
    {
     "data": {
      "text/plain": [
       "array([ 1.93852081+1.97283443j,  0.54393342-1.073845j  ,\n",
       "       -1.37922646-1.44395551j, -2.29780515+0.12931421j,\n",
       "       -1.62072441+1.74394592j])"
      ]
     },
     "execution_count": 52,
     "metadata": {},
     "output_type": "execute_result"
    }
   ],
   "source": [
    "evalues"
   ]
  },
  {
   "cell_type": "code",
   "execution_count": null,
   "id": "fe30bab6",
   "metadata": {},
   "outputs": [],
   "source": []
  },
  {
   "cell_type": "code",
   "execution_count": null,
   "id": "b7ef8e73",
   "metadata": {},
   "outputs": [],
   "source": []
  }
 ],
 "metadata": {
  "kernelspec": {
   "display_name": "Python 3 (ipykernel)",
   "language": "python",
   "name": "python3"
  },
  "language_info": {
   "codemirror_mode": {
    "name": "ipython",
    "version": 3
   },
   "file_extension": ".py",
   "mimetype": "text/x-python",
   "name": "python",
   "nbconvert_exporter": "python",
   "pygments_lexer": "ipython3",
   "version": "3.9.12"
  }
 },
 "nbformat": 4,
 "nbformat_minor": 5
}
