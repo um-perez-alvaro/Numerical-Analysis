{
 "cells": [
  {
   "cell_type": "code",
   "execution_count": null,
   "id": "32882b1b",
   "metadata": {},
   "outputs": [],
   "source": [
    "import numpy as np\n",
    "import matplotlib.pyplot as plt"
   ]
  },
  {
   "cell_type": "code",
   "execution_count": null,
   "id": "33aaf061",
   "metadata": {},
   "outputs": [],
   "source": [
    "def arnoldi(A,x,k):\n",
    "    Q = x.reshape(-1,1).copy()\n",
    "    # normalize\n",
    "    Q = Q/np.linalg.norm(Q)\n",
    "    # initialize hessenberg matrix\n",
    "    H = np.array([])\n",
    "    for i in range(k):\n",
    "        # multiply last column of Q by A\n",
    "        q = A.dot(Q[:,-1])\n",
    "        # orthogonalize q against the columns of Q\n",
    "        h = Q.T.dot(q)\n",
    "        q = q - Q.dot(h)\n",
    "        # for numerical stability, reorthogonalize q\n",
    "        s = Q.T.dot(q)\n",
    "        q = q-Q.dot(s)\n",
    "        h = h+s\n",
    "        # normalize\n",
    "        hh = np.linalg.norm(q)\n",
    "        q = q/hh\n",
    "        # update Q\n",
    "        Q = np.c_[Q,q]\n",
    "        # update H\n",
    "        H = np.block([\n",
    "            [H,h.reshape(i+1,1)],\n",
    "            [np.zeros((1,i)),hh]\n",
    "        ])\n",
    "    return H,Q"
   ]
  },
  {
   "cell_type": "code",
   "execution_count": null,
   "id": "7ac8040d",
   "metadata": {},
   "outputs": [],
   "source": [
    "x = np.random.randn(5)"
   ]
  },
  {
   "cell_type": "code",
   "execution_count": null,
   "id": "6eaf7171",
   "metadata": {},
   "outputs": [],
   "source": [
    "A = np.random.randn(5,5)"
   ]
  },
  {
   "cell_type": "code",
   "execution_count": null,
   "id": "4532b8a1",
   "metadata": {},
   "outputs": [],
   "source": [
    "k = 3"
   ]
  },
  {
   "cell_type": "code",
   "execution_count": null,
   "id": "fd5c4e6c",
   "metadata": {},
   "outputs": [],
   "source": [
    "H,Q = arnoldi(A,np.random.randn(5),k)"
   ]
  },
  {
   "cell_type": "code",
   "execution_count": null,
   "id": "f4ac100b",
   "metadata": {},
   "outputs": [],
   "source": [
    "Q.shape, H.shape"
   ]
  },
  {
   "cell_type": "code",
   "execution_count": null,
   "id": "3477b0f1",
   "metadata": {},
   "outputs": [],
   "source": [
    "np.linalg.norm(A.dot(Q[:,0:3])-Q.dot(H))"
   ]
  },
  {
   "cell_type": "code",
   "execution_count": null,
   "id": "b014b453",
   "metadata": {},
   "outputs": [],
   "source": [
    "from scipy.io import mmread # to load matrices from the matrix market\n",
    "A = mmread('west0479.mtx.gz')"
   ]
  },
  {
   "cell_type": "code",
   "execution_count": null,
   "id": "773c4a48",
   "metadata": {},
   "outputs": [],
   "source": [
    "# display the nonzero entries of A\n",
    "plt.spy(A,markersize=1)"
   ]
  },
  {
   "cell_type": "code",
   "execution_count": null,
   "id": "577c188c",
   "metadata": {},
   "outputs": [],
   "source": [
    "n = A.shape[0]\n",
    "n"
   ]
  },
  {
   "cell_type": "code",
   "execution_count": null,
   "id": "f6534bc2",
   "metadata": {},
   "outputs": [],
   "source": [
    "x = np.random.randn(n)"
   ]
  },
  {
   "cell_type": "code",
   "execution_count": null,
   "id": "40e391cc",
   "metadata": {},
   "outputs": [],
   "source": [
    "k = 30\n",
    "H,Q = arnoldi(A,x,k)"
   ]
  },
  {
   "cell_type": "code",
   "execution_count": null,
   "id": "eaea54e4",
   "metadata": {},
   "outputs": [],
   "source": [
    "# eigenvalues and eigenvectors of A\n",
    "evalues, evectors = np.linalg.eig(A.toarray())"
   ]
  },
  {
   "cell_type": "code",
   "execution_count": null,
   "id": "8b3942eb",
   "metadata": {},
   "outputs": [],
   "source": [
    "plt.figure(figsize=(10,10))\n",
    "plt.scatter(evalues.real,evalues.imag,s=4)\n",
    "#plt.axis('equal')"
   ]
  },
  {
   "cell_type": "code",
   "execution_count": null,
   "id": "eb81e62b",
   "metadata": {},
   "outputs": [],
   "source": [
    "H.shape"
   ]
  },
  {
   "cell_type": "code",
   "execution_count": null,
   "id": "56c96497",
   "metadata": {},
   "outputs": [],
   "source": [
    "# 10 largest Ritz values/vectors\n",
    "ritzvalues, _ = np.linalg.eig(H[0:k,0:k])\n",
    "sort_idx = np.argsort(np.abs(ritzvalues))[::-1]\n",
    "ritzvalues = ritzvalues[sort_idx][0:10]\n",
    "ritzvalues"
   ]
  },
  {
   "cell_type": "code",
   "execution_count": null,
   "id": "11b5ca00",
   "metadata": {},
   "outputs": [],
   "source": [
    "plt.figure(figsize=(10,10))\n",
    "plt.scatter(evalues.real,evalues.imag)\n",
    "plt.scatter(ritzvalues.real, ritzvalues.imag,marker='x',color='red')"
   ]
  },
  {
   "cell_type": "code",
   "execution_count": null,
   "id": "a598f7ca",
   "metadata": {},
   "outputs": [],
   "source": []
  }
 ],
 "metadata": {
  "kernelspec": {
   "display_name": "Python 3 (ipykernel)",
   "language": "python",
   "name": "python3"
  },
  "language_info": {
   "codemirror_mode": {
    "name": "ipython",
    "version": 3
   },
   "file_extension": ".py",
   "mimetype": "text/x-python",
   "name": "python",
   "nbconvert_exporter": "python",
   "pygments_lexer": "ipython3",
   "version": "3.9.12"
  }
 },
 "nbformat": 4,
 "nbformat_minor": 5
}
