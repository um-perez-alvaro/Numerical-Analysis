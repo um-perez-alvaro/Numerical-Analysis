{
 "cells": [
  {
   "cell_type": "code",
   "execution_count": 1,
   "id": "a055755d",
   "metadata": {},
   "outputs": [],
   "source": [
    "import numpy as np\n",
    "import matplotlib.pyplot as plt"
   ]
  },
  {
   "cell_type": "markdown",
   "id": "7230a0be",
   "metadata": {},
   "source": [
    "## The QR iteration"
   ]
  },
  {
   "cell_type": "code",
   "execution_count": null,
   "id": "b5415e41",
   "metadata": {},
   "outputs": [],
   "source": [
    "A = np.random.randn(5,5)+1j*np.random.randn(5,5)\n",
    "A"
   ]
  },
  {
   "cell_type": "code",
   "execution_count": null,
   "id": "1d25057f",
   "metadata": {},
   "outputs": [],
   "source": [
    "max_iter = 100\n",
    "for i in range(max_iter):\n",
    "    Q,R = np.linalg.qr(A)\n",
    "    A = R.dot(Q)"
   ]
  },
  {
   "cell_type": "code",
   "execution_count": null,
   "id": "7116700d",
   "metadata": {},
   "outputs": [],
   "source": []
  },
  {
   "cell_type": "code",
   "execution_count": null,
   "id": "4512950e",
   "metadata": {},
   "outputs": [],
   "source": [
    "np.diag(A)"
   ]
  },
  {
   "cell_type": "code",
   "execution_count": null,
   "id": "b30b617e",
   "metadata": {},
   "outputs": [],
   "source": [
    "evalues, evectors = np.linalg.eig(A)\n",
    "evalues"
   ]
  },
  {
   "cell_type": "code",
   "execution_count": 12,
   "id": "da685ef1",
   "metadata": {},
   "outputs": [
    {
     "data": {
      "text/plain": [
       "<matplotlib.image.AxesImage at 0x2ab22d78100>"
      ]
     },
     "execution_count": 12,
     "metadata": {},
     "output_type": "execute_result"
    },
    {
     "data": {
      "image/png": "[encoded data removed]",
      "text/plain": [
       "<Figure size 432x288 with 1 Axes>"
      ]
     },
     "metadata": {
      "needs_background": "light"
     },
     "output_type": "display_data"
    }
   ],
   "source": [
    "A = np.random.randn(5,5)+1j*np.random.randn(5,5)\n",
    "plt.spy(A,precision=1e-5)"
   ]
  },
  {
   "cell_type": "code",
   "execution_count": 10,
   "id": "2cd95b5e",
   "metadata": {},
   "outputs": [],
   "source": [
    "from IPython.display import clear_output"
   ]
  },
  {
   "cell_type": "code",
   "execution_count": 14,
   "id": "acfef926",
   "metadata": {},
   "outputs": [
    {
     "data": {
      "image/png": "[encoded data removed]",
      "text/plain": [
       "<Figure size 432x288 with 1 Axes>"
      ]
     },
     "metadata": {
      "needs_background": "light"
     },
     "output_type": "display_data"
    }
   ],
   "source": [
    "max_iter = 100\n",
    "for i in range(max_iter):\n",
    "    clear_output(wait=True)\n",
    "    Q,R = np.linalg.qr(A)\n",
    "    A = R.dot(Q)\n",
    "    plt.spy(A,precision=1e-5)\n",
    "    plt.pause(.1)    "
   ]
  },
  {
   "cell_type": "code",
   "execution_count": null,
   "id": "a5a901a3",
   "metadata": {},
   "outputs": [],
   "source": []
  },
  {
   "cell_type": "markdown",
   "id": "8a2d38f6",
   "metadata": {},
   "source": [
    "## reduction to Hessenberg form"
   ]
  },
  {
   "cell_type": "code",
   "execution_count": null,
   "id": "439cce9d",
   "metadata": {},
   "outputs": [],
   "source": [
    "A = np.random.randn(10,10)\n",
    "A"
   ]
  },
  {
   "cell_type": "code",
   "execution_count": null,
   "id": "66707f90",
   "metadata": {},
   "outputs": [],
   "source": [
    "n = A.shape[0]\n",
    "n"
   ]
  },
  {
   "cell_type": "code",
   "execution_count": null,
   "id": "61065e7f",
   "metadata": {},
   "outputs": [],
   "source": [
    "H = A.copy()\n",
    "Q = np.eye(n)"
   ]
  },
  {
   "cell_type": "code",
   "execution_count": null,
   "id": "f0868736",
   "metadata": {},
   "outputs": [],
   "source": [
    "k = 0\n",
    "x = H[k+1:n,k].copy().reshape(-1,1)\n",
    "tau = np.sign(x[0])*np.linalg.norm(x)\n",
    "x[0] = tau + x[0]\n",
    "gamma = x[0]/tau\n",
    "x[1:] = x[1:]/x[0]\n",
    "x[0] = 1\n",
    "tau = tau\n",
    "x"
   ]
  },
  {
   "cell_type": "code",
   "execution_count": null,
   "id": "941cdcc0",
   "metadata": {},
   "outputs": [],
   "source": [
    "x.T.dot(H[k+1:n,:])"
   ]
  },
  {
   "cell_type": "code",
   "execution_count": null,
   "id": "3e4e1203",
   "metadata": {},
   "outputs": [],
   "source": [
    "H[k+1:n,:]  = H[k+1:n,:] - gamma*x.dot((x.T.dot(H[k+1:n,:])))\n",
    "H"
   ]
  },
  {
   "cell_type": "code",
   "execution_count": null,
   "id": "dcde3bcd",
   "metadata": {},
   "outputs": [],
   "source": [
    "H[:,k+1:n] = H[:,k+1:n] - gamma*(H[:,k+1:n].dot(x)).dot(x.T)"
   ]
  },
  {
   "cell_type": "code",
   "execution_count": null,
   "id": "56e56c2a",
   "metadata": {},
   "outputs": [],
   "source": [
    "for k in range(n-1):\n",
    "    # set up reflector\n",
    "    x = H[k+1:n,k].copy().reshape(-1,1)\n",
    "    tau = np.sign(x[0])*np.linalg.norm(x)\n",
    "    x[0] = tau + x[0]\n",
    "    gamma = x[0]/tau\n",
    "    x[1:] = x[1:]/x[0]\n",
    "    x[0] = 1\n",
    "    tau = tau\n",
    "    \n",
    "    # multiply on the left\n",
    "    H[k+1:n,:]  = H[k+1:n,:] - gamma*x.dot((x.T.dot(H[k+1:n,:])))\n",
    "    \n",
    "    # multiply on the right (reflectors are symmetric)\n",
    "    H[:,k+1:n] = H[:,k+1:n] - gamma*(H[:,k+1:n].dot(x)).dot(x.T)"
   ]
  },
  {
   "cell_type": "code",
   "execution_count": null,
   "id": "e4c4dca9",
   "metadata": {},
   "outputs": [],
   "source": [
    "plt.spy(H,precision=1e-5)"
   ]
  },
  {
   "cell_type": "markdown",
   "id": "2589dbe3",
   "metadata": {},
   "source": [
    "## Complex reflectors"
   ]
  },
  {
   "cell_type": "code",
   "execution_count": null,
   "id": "3b9ebed0",
   "metadata": {},
   "outputs": [],
   "source": [
    "x = np.random.randn(2)+1j*np.random.randn(2)\n",
    "x"
   ]
  },
  {
   "cell_type": "code",
   "execution_count": null,
   "id": "839fd293",
   "metadata": {},
   "outputs": [],
   "source": [
    "Q = np.array([[x[0].conj(), x[1].conj()],[-x[1],x[0]]])/np.linalg.norm(x)\n",
    "Q"
   ]
  },
  {
   "cell_type": "code",
   "execution_count": null,
   "id": "8903db2b",
   "metadata": {},
   "outputs": [],
   "source": [
    "Q.dot(x)"
   ]
  },
  {
   "cell_type": "markdown",
   "id": "831e17f3",
   "metadata": {},
   "source": [
    "## Implicit qr iteration"
   ]
  },
  {
   "cell_type": "code",
   "execution_count": null,
   "id": "a96dd4b3",
   "metadata": {},
   "outputs": [],
   "source": []
  }
 ],
 "metadata": {
  "kernelspec": {
   "display_name": "Python 3 (ipykernel)",
   "language": "python",
   "name": "python3"
  },
  "language_info": {
   "codemirror_mode": {
    "name": "ipython",
    "version": 3
   },
   "file_extension": ".py",
   "mimetype": "text/x-python",
   "name": "python",
   "nbconvert_exporter": "python",
   "pygments_lexer": "ipython3",
   "version": "3.9.12"
  }
 },
 "nbformat": 4,
 "nbformat_minor": 5
}
