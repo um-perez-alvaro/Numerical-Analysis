{
 "cells": [
  {
   "cell_type": "code",
   "execution_count": null,
   "id": "e545cf0c",
   "metadata": {},
   "outputs": [],
   "source": [
    "import numpy as np\n",
    "import matplotlib.pyplot as plt"
   ]
  },
  {
   "cell_type": "markdown",
   "id": "e8eed416",
   "metadata": {},
   "source": [
    "## The normal equations"
   ]
  },
  {
   "cell_type": "code",
   "execution_count": 2,
   "id": "921ffd49",
   "metadata": {},
   "outputs": [],
   "source": [
    "# least squares problem with known solution\n",
    "A = np.random.randn(100,4)\n",
    "x = np.array([1,1,1,0])\n",
    "b = A.dot(x)\n",
    "# column 3 is almost a combination of columns 0 and 1\n",
    "A[:,3] = A[:,0]-A[:,1] + 1e-10*np.random.randn(100)"
   ]
  },
  {
   "cell_type": "code",
   "execution_count": 3,
   "id": "df3ac010",
   "metadata": {},
   "outputs": [],
   "source": [
    "# solving the normal equations\n",
    "xNormal = np.linalg.solve(A.T.dot(A), A.T.dot(b))\n",
    "xNumpy = np.linalg.lstsq(A,b,rcond=None)[0]"
   ]
  },
  {
   "cell_type": "code",
   "execution_count": 4,
   "id": "9e5a8187",
   "metadata": {},
   "outputs": [
    {
     "data": {
      "text/plain": [
       "array([ 1.00000037e+00,  9.99999633e-01,  1.00000000e+00, -3.66687474e-07])"
      ]
     },
     "execution_count": 4,
     "metadata": {},
     "output_type": "execute_result"
    }
   ],
   "source": [
    "xNumpy"
   ]
  },
  {
   "cell_type": "code",
   "execution_count": 5,
   "id": "622b80e5",
   "metadata": {},
   "outputs": [
    {
     "data": {
      "text/plain": [
       "array([ 4.43748986, -2.43748986,  1.        , -3.43748986])"
      ]
     },
     "execution_count": 5,
     "metadata": {},
     "output_type": "execute_result"
    }
   ],
   "source": [
    "xNormal"
   ]
  },
  {
   "cell_type": "code",
   "execution_count": 6,
   "id": "f0896808",
   "metadata": {},
   "outputs": [
    {
     "data": {
      "text/plain": [
       "28968279577.917976"
      ]
     },
     "execution_count": 6,
     "metadata": {},
     "output_type": "execute_result"
    }
   ],
   "source": [
    "np.linalg.cond(A) # approx 10^-10"
   ]
  },
  {
   "cell_type": "code",
   "execution_count": 7,
   "id": "92fc3573",
   "metadata": {},
   "outputs": [
    {
     "data": {
      "text/plain": [
       "1.1613404891886218e+16"
      ]
     },
     "execution_count": 7,
     "metadata": {},
     "output_type": "execute_result"
    }
   ],
   "source": [
    "np.linalg.cond(A.T.dot(A))"
   ]
  },
  {
   "cell_type": "markdown",
   "id": "2c6a6e6a",
   "metadata": {},
   "source": [
    "## QR by using Gram-Schmidt"
   ]
  },
  {
   "cell_type": "code",
   "execution_count": 8,
   "id": "d3bd9c87",
   "metadata": {},
   "outputs": [],
   "source": [
    "def my_qr(A):\n",
    "    'it factors a full-column rank A into Q (orthogonal) times R (upper triangular)'\n",
    "    m,n = A.shape\n",
    "    \n",
    "    Q = A.copy()\n",
    "    R = np.zeros((n,n))\n",
    "    \n",
    "    for i in range(n):\n",
    "        R[0:i,i] = Q[:,0:i].T.dot(Q[:,i])\n",
    "        Q[:,i] = Q[:,i] - Q[:,0:i].dot(R[0:i,i])\n",
    "        R[i,i] = np.linalg.norm(Q[:,i])\n",
    "        Q[:,i] = Q[:,i]/R[i,i]\n",
    "    return Q,R"
   ]
  },
  {
   "cell_type": "code",
   "execution_count": 9,
   "id": "d55fbb7f",
   "metadata": {},
   "outputs": [],
   "source": [
    "A = np.random.randn(10,5)\n",
    "Q,R=my_qr(A)"
   ]
  },
  {
   "cell_type": "code",
   "execution_count": 10,
   "id": "3087c682",
   "metadata": {},
   "outputs": [
    {
     "data": {
      "text/plain": [
       "3.0960318988224324e-16"
      ]
     },
     "execution_count": 10,
     "metadata": {},
     "output_type": "execute_result"
    }
   ],
   "source": [
    "# check that A = QR\n",
    "np.linalg.norm(A-Q.dot(R))"
   ]
  },
  {
   "cell_type": "code",
   "execution_count": 11,
   "id": "fede3302",
   "metadata": {},
   "outputs": [
    {
     "data": {
      "text/plain": [
       "5.043482897809253e-16"
      ]
     },
     "execution_count": 11,
     "metadata": {},
     "output_type": "execute_result"
    }
   ],
   "source": [
    "# check that columns of Q are orthonormal\n",
    "np.linalg.norm(Q.T.dot(Q)-np.eye(5))"
   ]
  },
  {
   "cell_type": "code",
   "execution_count": 12,
   "id": "74a5cb47",
   "metadata": {},
   "outputs": [
    {
     "data": {
      "text/plain": [
       "array([[ 2.10607461,  1.55079288,  0.72804912,  2.64466899, -0.16499803],\n",
       "       [ 0.        ,  3.53070472,  0.32657601, -0.47090524,  0.23408253],\n",
       "       [ 0.        ,  0.        ,  2.56522289, -0.03725312,  0.2903819 ],\n",
       "       [ 0.        ,  0.        ,  0.        ,  2.62269243, -1.23532858],\n",
       "       [ 0.        ,  0.        ,  0.        ,  0.        ,  2.08882062]])"
      ]
     },
     "execution_count": 12,
     "metadata": {},
     "output_type": "execute_result"
    }
   ],
   "source": [
    "# check that R is upper triangular and invertible\n",
    "R"
   ]
  },
  {
   "cell_type": "markdown",
   "id": "797d9cf2",
   "metadata": {},
   "source": [
    "### Timing Gram-Schmidt"
   ]
  },
  {
   "cell_type": "code",
   "execution_count": 13,
   "id": "fdd46fe4",
   "metadata": {},
   "outputs": [],
   "source": [
    "import time"
   ]
  },
  {
   "cell_type": "code",
   "execution_count": 14,
   "id": "0ef8d926",
   "metadata": {},
   "outputs": [],
   "source": [
    "import matplotlib.pyplot as plt"
   ]
  },
  {
   "cell_type": "code",
   "execution_count": 15,
   "id": "4e0489ea",
   "metadata": {},
   "outputs": [],
   "source": [
    "# matrix sizes\n",
    "ns = [250,500,1000,2000]"
   ]
  },
  {
   "cell_type": "code",
   "execution_count": 16,
   "id": "09efc698",
   "metadata": {},
   "outputs": [
    {
     "name": "stdout",
     "output_type": "stream",
     "text": [
      "250\n",
      "500\n",
      "1000\n",
      "2000\n"
     ]
    }
   ],
   "source": [
    "t = np.zeros(len(ns))\n",
    "for i,n in enumerate(ns): # loop over matrix sizes\n",
    "    print(n)\n",
    "    A = np.random.randn(n,n) # random nxn matrix\n",
    "    start = time.time() # start clock\n",
    "    _,_=my_qr(A) # QR factorization of A\n",
    "    end = time.time() # stop clock\n",
    "    t[i] = end - start # store elapsed time"
   ]
  },
  {
   "cell_type": "code",
   "execution_count": 17,
   "id": "9cd7d8de",
   "metadata": {},
   "outputs": [
    {
     "data": {
      "text/plain": [
       "Text(0, 0.5, 'time')"
      ]
     },
     "execution_count": 17,
     "metadata": {},
     "output_type": "execute_result"
    },
    {
     "data": {
      "image/png": "[encoded data removed]",
      "text/plain": [
       "<Figure size 432x288 with 1 Axes>"
      ]
     },
     "metadata": {
      "needs_background": "light"
     },
     "output_type": "display_data"
    }
   ],
   "source": [
    "plt.plot(ns,t,'o--')\n",
    "plt.xlabel('size')\n",
    "plt.ylabel('time')"
   ]
  },
  {
   "cell_type": "code",
   "execution_count": 18,
   "id": "2b9b6034",
   "metadata": {},
   "outputs": [
    {
     "data": {
      "text/plain": [
       "Text(0, 0.5, 'time')"
      ]
     },
     "execution_count": 18,
     "metadata": {},
     "output_type": "execute_result"
    },
    {
     "data": {
      "image/png": "[encoded data removed]",
      "text/plain": [
       "<Figure size 432x288 with 1 Axes>"
      ]
     },
     "metadata": {
      "needs_background": "light"
     },
     "output_type": "display_data"
    }
   ],
   "source": [
    "plt.loglog(ns,t,'o--')\n",
    "plt.xlabel('size')\n",
    "plt.ylabel('time')"
   ]
  },
  {
   "cell_type": "code",
   "execution_count": 19,
   "id": "0cd3a1a1",
   "metadata": {},
   "outputs": [
    {
     "data": {
      "text/plain": [
       "3.4597948911465326"
      ]
     },
     "execution_count": 19,
     "metadata": {},
     "output_type": "execute_result"
    }
   ],
   "source": [
    "# slope\n",
    "(np.log(t[3])-np.log(t[0]))/(np.log(ns[3])-np.log(ns[0]))"
   ]
  },
  {
   "cell_type": "markdown",
   "id": "3e23291c",
   "metadata": {},
   "source": [
    "### Gram-Schmidt and rounding errors"
   ]
  },
  {
   "cell_type": "code",
   "execution_count": 20,
   "id": "a9511f0d",
   "metadata": {},
   "outputs": [],
   "source": [
    "# vandermonde matrix \n",
    "n = 15\n",
    "m = 20\n",
    "p = np.arange(1,m+1)/m\n",
    "A = np.vander(p,N=n,increasing=True)"
   ]
  },
  {
   "cell_type": "code",
   "execution_count": 21,
   "id": "3d10e182",
   "metadata": {},
   "outputs": [
    {
     "data": {
      "text/plain": [
       "5.459539405674028"
      ]
     },
     "execution_count": 21,
     "metadata": {},
     "output_type": "execute_result"
    }
   ],
   "source": [
    "# deviation from orthonormality\n",
    "Q,R = my_qr(A)\n",
    "np.linalg.norm(np.eye(n) - Q.T.dot(Q)) "
   ]
  },
  {
   "cell_type": "code",
   "execution_count": 22,
   "id": "b7afc63e",
   "metadata": {},
   "outputs": [],
   "source": [
    "# initialize deviation from orthonormality vector\n",
    "k = 10\n",
    "dev_orth_gram = []\n",
    "dev_orth_scipy = []\n",
    "for i in range(k):\n",
    "    n = 4 + 2*i \n",
    "    m = 6 + 3*i \n",
    "    # build Vandermonde matrix\n",
    "    p = np.arange(1,m+1)/m\n",
    "    A = np.vander(p,N=n,increasing=True)\n",
    "    # Gram-Schmidt\n",
    "    Q,R = my_qr(A)\n",
    "    dev_orth_gram.append(np.linalg.norm(np.eye(n) - Q.T.dot(Q)))\n",
    "    \n",
    "    # scipy built-in function \n",
    "    Q,R = np.linalg.qr(A)\n",
    "    dev_orth_scipy.append(np.linalg.norm(np.eye(n) - Q.T.dot(Q)))"
   ]
  },
  {
   "cell_type": "code",
   "execution_count": 23,
   "id": "8811d110",
   "metadata": {},
   "outputs": [
    {
     "data": {
      "text/plain": [
       "<matplotlib.legend.Legend at 0x19d882ebbb0>"
      ]
     },
     "execution_count": 23,
     "metadata": {},
     "output_type": "execute_result"
    },
    {
     "data": {
      "image/png": "[encoded data removed]",
      "text/plain": [
       "<Figure size 432x288 with 1 Axes>"
      ]
     },
     "metadata": {
      "needs_background": "light"
     },
     "output_type": "display_data"
    }
   ],
   "source": [
    "plt.semilogy(dev_orth_gram,'o--', label='Gram-Schmidt')\n",
    "plt.semilogy(dev_orth_scipy,'o--', label='scipy built-in qr function')\n",
    "plt.legend()"
   ]
  },
  {
   "cell_type": "markdown",
   "id": "b5aa6e30",
   "metadata": {},
   "source": [
    "### Reflectors"
   ]
  },
  {
   "cell_type": "code",
   "execution_count": 24,
   "id": "202b38c6",
   "metadata": {},
   "outputs": [
    {
     "data": {
      "text/plain": [
       "array([ 2.84433647,  4.142868  ,  3.44596202, -3.48937279, -7.88408893])"
      ]
     },
     "execution_count": 24,
     "metadata": {},
     "output_type": "execute_result"
    }
   ],
   "source": [
    "n = 5\n",
    "x = 10*np.random.randn(n)\n",
    "x"
   ]
  },
  {
   "cell_type": "code",
   "execution_count": 25,
   "id": "32fd38e1",
   "metadata": {},
   "outputs": [],
   "source": [
    "u = x.copy()\n",
    "tau = np.sign(u[0])*np.linalg.norm(u)\n",
    "u[0] = tau + u[0]\n",
    "gamma = u[0]/tau\n",
    "u[1:n] = u[1:n]/u[0]\n",
    "u[0] = 1\n",
    "tau = tau"
   ]
  },
  {
   "cell_type": "code",
   "execution_count": 26,
   "id": "1b8a6b52",
   "metadata": {},
   "outputs": [
    {
     "data": {
      "text/plain": [
       "array([-1.05575963e+01, -8.88178420e-16, -4.44089210e-16,  1.33226763e-15,\n",
       "        1.77635684e-15])"
      ]
     },
     "execution_count": 26,
     "metadata": {},
     "output_type": "execute_result"
    }
   ],
   "source": [
    "x - gamma*u*(u.dot(x))"
   ]
  },
  {
   "cell_type": "code",
   "execution_count": 27,
   "id": "fc6a3345",
   "metadata": {},
   "outputs": [],
   "source": [
    "def my_qr(A,how='reflectors',mode='economic'):\n",
    "    'it factors a full-column rank A into Q (orthogonal) times R (upper triangular)'\n",
    "    m,n = A.shape\n",
    "    \n",
    "    if how=='Gram-Schmidt':\n",
    "        Q = A.copy()\n",
    "        R = np.zeros((n,n))\n",
    "\n",
    "        for i in range(n):\n",
    "            R[0:i,i] = Q[:,0:i].T.dot(Q[:,i])\n",
    "            Q[:,i] = Q[:,i] - Q[:,0:i].dot(R[0:i,i])\n",
    "            R[i,i] = np.linalg.norm(Q[:,i])\n",
    "            Q[:,i] = Q[:,i]/R[i,i]\n",
    "        return Q,R\n",
    "    elif how=='reflectors':\n",
    "        R = A.copy()\n",
    "        Q = np.eye(m)\n",
    "\n",
    "        for j in range(n):\n",
    "\n",
    "            # create reflector\n",
    "            x = R[j:m,j].copy()\n",
    "            tau = np.sign(x[0])*np.linalg.norm(x)\n",
    "            x[0] = tau + x[0]\n",
    "            gamma = x[0]/tau\n",
    "            x[1:len(x)] = x[1:len(x)]/x[0]\n",
    "            x[0] = 1\n",
    "            tau = tau\n",
    "\n",
    "            # apply reflector to R\n",
    "            R[j:m,j:n] = R[j:m,j:n] - gamma*np.outer(x,x.dot(R[j:m,j:n]))\n",
    "            # apply reflector to P\n",
    "            Q[j:m,:] = Q[j:m,:] - gamma*np.outer(x,x.dot(Q[j:m,:]))\n",
    "\n",
    "        if mode == 'complete':\n",
    "            return Q.T, np.triu(R)\n",
    "        if mode == 'economic':\n",
    "            return Q.T[:,0:n], np.triu(R)[0:n]"
   ]
  },
  {
   "cell_type": "code",
   "execution_count": 28,
   "id": "77b5c8ab",
   "metadata": {},
   "outputs": [],
   "source": [
    "A = np.random.randn(10,4)"
   ]
  },
  {
   "cell_type": "code",
   "execution_count": 29,
   "id": "1d86dddb",
   "metadata": {},
   "outputs": [],
   "source": [
    "Q,R=my_qr(A) # how='reflectors'; mode='economic'"
   ]
  },
  {
   "cell_type": "code",
   "execution_count": 30,
   "id": "f27c81d0",
   "metadata": {},
   "outputs": [
    {
     "data": {
      "text/plain": [
       "array([[ 2.40444963,  1.13999439,  0.71841657,  0.60245191],\n",
       "       [ 0.        ,  2.64812645,  0.72729914, -0.30743875],\n",
       "       [ 0.        ,  0.        ,  2.06128869, -0.48128042],\n",
       "       [ 0.        ,  0.        ,  0.        , -3.16482037]])"
      ]
     },
     "execution_count": 30,
     "metadata": {},
     "output_type": "execute_result"
    }
   ],
   "source": [
    "# check R is upper triangular\n",
    "R"
   ]
  },
  {
   "cell_type": "code",
   "execution_count": 31,
   "id": "1fd76ea6",
   "metadata": {},
   "outputs": [
    {
     "data": {
      "text/plain": [
       "7.006736879237091e-16"
      ]
     },
     "execution_count": 31,
     "metadata": {},
     "output_type": "execute_result"
    }
   ],
   "source": [
    "# check columns of Q are orthonormal\n",
    "np.linalg.norm(Q.T.dot(Q)-np.eye(4))"
   ]
  },
  {
   "cell_type": "code",
   "execution_count": 32,
   "id": "7fb1df2b",
   "metadata": {},
   "outputs": [
    {
     "data": {
      "text/plain": [
       "1.904407211319106e-15"
      ]
     },
     "execution_count": 32,
     "metadata": {},
     "output_type": "execute_result"
    }
   ],
   "source": [
    "# check A = QR\n",
    "np.linalg.norm(A-Q.dot(R))"
   ]
  },
  {
   "cell_type": "code",
   "execution_count": 33,
   "id": "d53eb46e",
   "metadata": {},
   "outputs": [],
   "source": [
    "# deviation from orthonormality \n",
    "k = 10\n",
    "dev_orth_gram = []\n",
    "dev_orth_reflectors = []\n",
    "dev_orth_scipy = []\n",
    "for i in range(k):\n",
    "    n = 4 + 2*i \n",
    "    m = 6 + 3*i \n",
    "    # build Vandermonde matrix\n",
    "    p = np.arange(1,m+1)/m\n",
    "    A = np.vander(p,N=n,increasing=True)\n",
    "    # Gram-Schmidt\n",
    "    Q,R = my_qr(A,how='Gram-Schmidt')\n",
    "    dev_orth_gram.append(np.linalg.norm(np.eye(n) - Q.T.dot(Q)))\n",
    "    \n",
    "    # scipy built-in function \n",
    "    Q,R = np.linalg.qr(A)\n",
    "    dev_orth_scipy.append(np.linalg.norm(np.eye(n) - Q.T.dot(Q)))"
   ]
  },
  {
   "cell_type": "code",
   "execution_count": 34,
   "id": "a0ef0186",
   "metadata": {},
   "outputs": [
    {
     "data": {
      "text/plain": [
       "<matplotlib.legend.Legend at 0x19d880d6e20>"
      ]
     },
     "execution_count": 34,
     "metadata": {},
     "output_type": "execute_result"
    },
    {
     "data": {
      "image/png": "[encoded data removed]",
      "text/plain": [
       "<Figure size 432x288 with 1 Axes>"
      ]
     },
     "metadata": {
      "needs_background": "light"
     },
     "output_type": "display_data"
    }
   ],
   "source": [
    "plt.semilogy(dev_orth_gram,'o--', label='Gram-Schmidt')\n",
    "plt.semilogy(dev_orth_scipy,'o--', label='scipy built-in qr function')\n",
    "plt.legend()"
   ]
  },
  {
   "cell_type": "code",
   "execution_count": 35,
   "id": "27ee091a",
   "metadata": {},
   "outputs": [],
   "source": [
    "# least squares problem with known solution\n",
    "A = np.random.randn(100,4)\n",
    "x = np.array([1,1,1,0])\n",
    "b = A.dot(x)\n",
    "# column 3 is almost a combination of columns 0 and 1\n",
    "A[:,3] = A[:,0]-A[:,1] + 1e-10*np.random.randn(100)"
   ]
  },
  {
   "cell_type": "code",
   "execution_count": 36,
   "id": "399eba09",
   "metadata": {},
   "outputs": [],
   "source": [
    "# we'll solve the least squares problem four different ways:\n",
    "\n",
    "# normal equations\n",
    "xNormal = np.linalg.solve(A.T.dot(A), A.T.dot(b))\n",
    "\n",
    "# NumPy built-in function\n",
    "xNumpy = np.linalg.lstsq(A,b,rcond=None)[0]\n",
    "\n",
    "# QR by Gram-Schmidt\n",
    "Q,R = my_qr(A,how='Gram-Schmidt')\n",
    "xGM = np.linalg.solve(R,Q.T.dot(b))\n",
    "\n",
    "# QR by reflectors\n",
    "Q,R = my_qr(A,how='reflectors',mode='economic')\n",
    "xReflectors = np.linalg.solve(R,Q.T.dot(b))"
   ]
  },
  {
   "cell_type": "code",
   "execution_count": 37,
   "id": "5ee27dea",
   "metadata": {},
   "outputs": [
    {
     "data": {
      "text/plain": [
       "array([-3.50000106,  5.50000106,  1.        ,  4.50000106])"
      ]
     },
     "execution_count": 37,
     "metadata": {},
     "output_type": "execute_result"
    }
   ],
   "source": [
    "xNormal"
   ]
  },
  {
   "cell_type": "code",
   "execution_count": 38,
   "id": "e4ece78c",
   "metadata": {
    "scrolled": true
   },
   "outputs": [
    {
     "data": {
      "text/plain": [
       "array([ 1.86955056e+04, -1.86935056e+04,  9.99999885e-01, -1.86945056e+04])"
      ]
     },
     "execution_count": 38,
     "metadata": {},
     "output_type": "execute_result"
    }
   ],
   "source": [
    "xGM"
   ]
  },
  {
   "cell_type": "code",
   "execution_count": 39,
   "id": "ed7382a7",
   "metadata": {},
   "outputs": [
    {
     "data": {
      "text/plain": [
       "array([9.99999355e-01, 1.00000064e+00, 1.00000000e+00, 6.44628168e-07])"
      ]
     },
     "execution_count": 39,
     "metadata": {},
     "output_type": "execute_result"
    }
   ],
   "source": [
    "xNumpy"
   ]
  },
  {
   "cell_type": "code",
   "execution_count": 40,
   "id": "b3dcf658",
   "metadata": {},
   "outputs": [
    {
     "data": {
      "text/plain": [
       "array([9.99998482e-01, 1.00000152e+00, 1.00000000e+00, 1.51803534e-06])"
      ]
     },
     "execution_count": 40,
     "metadata": {},
     "output_type": "execute_result"
    }
   ],
   "source": [
    "xReflectors"
   ]
  },
  {
   "cell_type": "markdown",
   "id": "3a05fe66",
   "metadata": {},
   "source": [
    "## Fitting lines/polynomials to data"
   ]
  },
  {
   "cell_type": "code",
   "execution_count": 113,
   "id": "3746f254",
   "metadata": {},
   "outputs": [
    {
     "data": {
      "text/plain": [
       "<matplotlib.collections.PathCollection at 0x1a025c3ad00>"
      ]
     },
     "execution_count": 113,
     "metadata": {},
     "output_type": "execute_result"
    },
    {
     "data": {
      "image/png": "[encoded data removed]",
      "text/plain": [
       "<Figure size 432x288 with 1 Axes>"
      ]
     },
     "metadata": {
      "needs_background": "light"
     },
     "output_type": "display_data"
    }
   ],
   "source": [
    "m = 20\n",
    "np.random.seed(1)\n",
    "t = -1 + 2*np.random.rand(m)\n",
    "\n",
    "np.random.seed(2)\n",
    "y = 2*t**2 + 0.25*np.random.randn(m)\n",
    "\n",
    "plt.scatter(t,y)"
   ]
  },
  {
   "cell_type": "code",
   "execution_count": 115,
   "id": "e512f05b",
   "metadata": {},
   "outputs": [],
   "source": [
    "deg = 18\n",
    "A = np.zeros((m,deg+1))\n",
    "for i in range(deg+1):\n",
    "    A[:,i] = t**i\n",
    "x = np.linalg.lstsq(A,y,rcond=None)[0]"
   ]
  },
  {
   "cell_type": "code",
   "execution_count": 116,
   "id": "af4b0058",
   "metadata": {},
   "outputs": [],
   "source": [
    "m_plot = 100\n",
    "t_plot = np.linspace(-1,1,m_plot)\n",
    "A_plot = np.zeros((m_plot,deg+1))\n",
    "for i in range(deg+1):\n",
    "    A_plot[:,i] = t_plot**i\n",
    "y_plot = A_plot.dot(x)"
   ]
  },
  {
   "cell_type": "code",
   "execution_count": 117,
   "id": "de4437c2",
   "metadata": {},
   "outputs": [
    {
     "data": {
      "text/plain": [
       "(-5.0, 5.0)"
      ]
     },
     "execution_count": 117,
     "metadata": {},
     "output_type": "execute_result"
    },
    {
     "data": {
      "image/png": "[encoded data removed]",
      "text/plain": [
       "<Figure size 432x288 with 1 Axes>"
      ]
     },
     "metadata": {
      "needs_background": "light"
     },
     "output_type": "display_data"
    }
   ],
   "source": [
    "plt.scatter(t,y)\n",
    "plt.plot(t_plot,y_plot,color='red')\n",
    "plt.ylim([-5,5])"
   ]
  },
  {
   "cell_type": "code",
   "execution_count": 118,
   "id": "f4393296",
   "metadata": {},
   "outputs": [
    {
     "data": {
      "text/plain": [
       "337243181988.3641"
      ]
     },
     "execution_count": 118,
     "metadata": {},
     "output_type": "execute_result"
    }
   ],
   "source": [
    "np.linalg.cond(A)"
   ]
  },
  {
   "cell_type": "code",
   "execution_count": 119,
   "id": "0bd915fe",
   "metadata": {},
   "outputs": [],
   "source": [
    "U,S,V=np.linalg.svd(A)"
   ]
  },
  {
   "cell_type": "code",
   "execution_count": 120,
   "id": "4b59f581",
   "metadata": {},
   "outputs": [
    {
     "data": {
      "text/plain": [
       "array([5.97883072e+00, 3.61167511e+00, 1.84935272e+00, 9.24891314e-01,\n",
       "       4.44839598e-01, 2.22250292e-01, 7.23692073e-02, 2.75702600e-02,\n",
       "       7.77606602e-03, 2.67162414e-03, 7.70375775e-04, 1.01791905e-04,\n",
       "       2.74817695e-05, 5.53840657e-06, 1.48958634e-06, 1.39496188e-07,\n",
       "       1.20413162e-08, 1.72903910e-10, 1.77285444e-11])"
      ]
     },
     "execution_count": 120,
     "metadata": {},
     "output_type": "execute_result"
    }
   ],
   "source": [
    "# S contains the singular values\n",
    "S"
   ]
  },
  {
   "cell_type": "code",
   "execution_count": 121,
   "id": "4df4b8bd",
   "metadata": {},
   "outputs": [
    {
     "data": {
      "text/plain": [
       "337243181988.3643"
      ]
     },
     "execution_count": 121,
     "metadata": {},
     "output_type": "execute_result"
    }
   ],
   "source": [
    "# condition number\n",
    "S[0]/S[-1]"
   ]
  },
  {
   "cell_type": "code",
   "execution_count": 123,
   "id": "b434d198",
   "metadata": {},
   "outputs": [
    {
     "data": {
      "text/plain": [
       "[<matplotlib.lines.Line2D at 0x1a025df89a0>]"
      ]
     },
     "execution_count": 123,
     "metadata": {},
     "output_type": "execute_result"
    },
    {
     "data": {
      "image/png": "[encoded data removed]",
      "text/plain": [
       "<Figure size 432x288 with 1 Axes>"
      ]
     },
     "metadata": {
      "needs_background": "light"
     },
     "output_type": "display_data"
    }
   ],
   "source": [
    "# plot singular values\n",
    "plt.semilogy(S,'o--')"
   ]
  },
  {
   "cell_type": "markdown",
   "id": "4c2c82b3",
   "metadata": {},
   "source": [
    "## least squares by SVD"
   ]
  },
  {
   "cell_type": "code",
   "execution_count": 124,
   "id": "febb96b7",
   "metadata": {},
   "outputs": [
    {
     "data": {
      "text/plain": [
       "(20, 19)"
      ]
     },
     "execution_count": 124,
     "metadata": {},
     "output_type": "execute_result"
    }
   ],
   "source": [
    "A.shape"
   ]
  },
  {
   "cell_type": "code",
   "execution_count": 125,
   "id": "d68e5245",
   "metadata": {},
   "outputs": [],
   "source": [
    "U,S,VT = np.linalg.svd(A,full_matrices=False)"
   ]
  },
  {
   "cell_type": "code",
   "execution_count": 126,
   "id": "8f0a730d",
   "metadata": {},
   "outputs": [
    {
     "data": {
      "text/plain": [
       "((20, 19), (19, 19))"
      ]
     },
     "execution_count": 126,
     "metadata": {},
     "output_type": "execute_result"
    }
   ],
   "source": [
    "U.shape, VT.shape"
   ]
  },
  {
   "cell_type": "code",
   "execution_count": 127,
   "id": "6d39c3dc",
   "metadata": {},
   "outputs": [],
   "source": [
    "x = VT.T.dot((U.T.dot(y))/S)"
   ]
  },
  {
   "cell_type": "code",
   "execution_count": 128,
   "id": "2418b6f0",
   "metadata": {},
   "outputs": [
    {
     "data": {
      "text/plain": [
       "array([ 2.41722336e+01, -1.28246602e+02, -3.95636539e+03,  2.05279947e+03,\n",
       "        2.10024148e+05,  5.60298468e+05, -2.56159140e+06, -1.22371747e+07,\n",
       "        2.56033899e+06,  8.64785297e+07,  1.05760073e+08, -1.90901627e+08,\n",
       "       -5.10262528e+08, -1.46664044e+08,  5.82785715e+08,  5.97207537e+08,\n",
       "        2.99666585e+07, -1.99724054e+08, -7.37333756e+07])"
      ]
     },
     "execution_count": 128,
     "metadata": {},
     "output_type": "execute_result"
    }
   ],
   "source": [
    "x"
   ]
  },
  {
   "cell_type": "code",
   "execution_count": 130,
   "id": "980c8e3b",
   "metadata": {},
   "outputs": [
    {
     "data": {
      "text/plain": [
       "19"
      ]
     },
     "execution_count": 130,
     "metadata": {},
     "output_type": "execute_result"
    }
   ],
   "source": [
    "len(x)"
   ]
  },
  {
   "cell_type": "code",
   "execution_count": 131,
   "id": "9ee3d465",
   "metadata": {},
   "outputs": [],
   "source": [
    "m_plot = 100\n",
    "t_plot = np.linspace(-1,1,m_plot)\n",
    "A_plot = np.zeros((m_plot,deg+1))\n",
    "for i in range(deg+1):\n",
    "    A_plot[:,i] = t_plot**i\n",
    "y_plot = A_plot.dot(x)\n",
    "\n"
   ]
  },
  {
   "cell_type": "code",
   "execution_count": 132,
   "id": "d573da05",
   "metadata": {},
   "outputs": [
    {
     "data": {
      "text/plain": [
       "(-5.0, 5.0)"
      ]
     },
     "execution_count": 132,
     "metadata": {},
     "output_type": "execute_result"
    },
    {
     "data": {
      "image/png": "[encoded data removed]",
      "text/plain": [
       "<Figure size 432x288 with 1 Axes>"
      ]
     },
     "metadata": {
      "needs_background": "light"
     },
     "output_type": "display_data"
    }
   ],
   "source": [
    "plt.scatter(t,y)\n",
    "plt.plot(t_plot,y_plot,color='red')\n",
    "plt.ylim([-5,5])"
   ]
  },
  {
   "cell_type": "markdown",
   "id": "d5d12dec",
   "metadata": {},
   "source": [
    "## Truncated SVD"
   ]
  },
  {
   "cell_type": "code",
   "execution_count": 133,
   "id": "40f068fd",
   "metadata": {},
   "outputs": [
    {
     "data": {
      "text/plain": [
       "5.978830723617371"
      ]
     },
     "execution_count": 133,
     "metadata": {},
     "output_type": "execute_result"
    }
   ],
   "source": [
    "# largest sing. value\n",
    "S[0]"
   ]
  },
  {
   "cell_type": "code",
   "execution_count": 141,
   "id": "c74cd203",
   "metadata": {},
   "outputs": [
    {
     "data": {
      "text/plain": [
       "6"
      ]
     },
     "execution_count": 141,
     "metadata": {},
     "output_type": "execute_result"
    }
   ],
   "source": [
    "# threshold\n",
    "threshold = S[0]*0.005\n",
    "k = np.argwhere(S<threshold)[0]-1\n",
    "k = k[0]\n",
    "k"
   ]
  },
  {
   "cell_type": "code",
   "execution_count": 142,
   "id": "96c6db6f",
   "metadata": {},
   "outputs": [],
   "source": [
    "Uk = U[:,0:k]\n",
    "VkT = VT[0:k,:]\n",
    "Sk = S[0:k]"
   ]
  },
  {
   "cell_type": "code",
   "execution_count": 143,
   "id": "e178b2bb",
   "metadata": {},
   "outputs": [],
   "source": [
    "x = VkT.T.dot((Uk.T.dot(y))/Sk)"
   ]
  },
  {
   "cell_type": "code",
   "execution_count": 144,
   "id": "4b93b192",
   "metadata": {},
   "outputs": [
    {
     "data": {
      "text/plain": [
       "array([ 0.07989508,  0.32508563,  1.36571008, -0.64074204,  0.43453788,\n",
       "       -0.28662048,  0.0584884 , -0.0480462 , -0.0821519 ,  0.06246032,\n",
       "       -0.12623946,  0.10153866, -0.12825567,  0.10465411, -0.11170309,\n",
       "        0.09049224, -0.08742631,  0.0686293 , -0.06062189])"
      ]
     },
     "execution_count": 144,
     "metadata": {},
     "output_type": "execute_result"
    }
   ],
   "source": [
    "x"
   ]
  },
  {
   "cell_type": "code",
   "execution_count": 145,
   "id": "8cee4757",
   "metadata": {},
   "outputs": [
    {
     "data": {
      "text/plain": [
       "19"
      ]
     },
     "execution_count": 145,
     "metadata": {},
     "output_type": "execute_result"
    }
   ],
   "source": [
    "len(x)"
   ]
  },
  {
   "cell_type": "code",
   "execution_count": 146,
   "id": "bf0e0ddb",
   "metadata": {},
   "outputs": [],
   "source": [
    "m_plot = 100\n",
    "t_plot = np.linspace(-1,1,m_plot)\n",
    "A_plot = np.zeros((m_plot,deg+1))\n",
    "for i in range(deg+1):\n",
    "    A_plot[:,i] = t_plot**i\n",
    "y_plot = A_plot.dot(x)\n"
   ]
  },
  {
   "cell_type": "code",
   "execution_count": 147,
   "id": "3c5cc42f",
   "metadata": {},
   "outputs": [
    {
     "data": {
      "text/plain": [
       "[<matplotlib.lines.Line2D at 0x1a025dbbe20>]"
      ]
     },
     "execution_count": 147,
     "metadata": {},
     "output_type": "execute_result"
    },
    {
     "data": {
      "image/png": "[encoded data removed]",
      "text/plain": [
       "<Figure size 432x288 with 1 Axes>"
      ]
     },
     "metadata": {
      "needs_background": "light"
     },
     "output_type": "display_data"
    }
   ],
   "source": [
    "plt.scatter(t,y)\n",
    "plt.plot(t_plot,y_plot,color='red')\n",
    "#plt.ylim([-5,5])"
   ]
  },
  {
   "cell_type": "markdown",
   "id": "1b050016",
   "metadata": {},
   "source": [
    "## Regularized SVD"
   ]
  },
  {
   "cell_type": "code",
   "execution_count": 148,
   "id": "c4c77824",
   "metadata": {},
   "outputs": [],
   "source": [
    "m,n = A.shape"
   ]
  },
  {
   "cell_type": "code",
   "execution_count": 157,
   "id": "68f39030",
   "metadata": {},
   "outputs": [],
   "source": [
    "lamb = 1 # regularization parameter lambda > 0\n",
    "Ahat =  np.vstack((A,np.sqrt(lamb)*np.eye(n)))\n",
    "bhat = np.append(y,np.zeros(n))"
   ]
  },
  {
   "cell_type": "code",
   "execution_count": 158,
   "id": "7d3d07ec",
   "metadata": {},
   "outputs": [
    {
     "data": {
      "text/plain": [
       "<matplotlib.legend.Legend at 0x1a026048df0>"
      ]
     },
     "execution_count": 158,
     "metadata": {},
     "output_type": "execute_result"
    },
    {
     "data": {
      "image/png": "[encoded data removed]",
      "text/plain": [
       "<Figure size 432x288 with 1 Axes>"
      ]
     },
     "metadata": {
      "needs_background": "light"
     },
     "output_type": "display_data"
    }
   ],
   "source": [
    "# singular values of A and Ahat\n",
    "S = np.linalg.svd(A,compute_uv=False)\n",
    "Shat = np.linalg.svd(Ahat,compute_uv=False)\n",
    "\n",
    "plt.semilogy(S,'o--',label='singular values of A')\n",
    "plt.semilogy(Shat,'o--',label='singular values of Ahat')\n",
    "plt.legend()"
   ]
  },
  {
   "cell_type": "code",
   "execution_count": 159,
   "id": "ad3c36b8",
   "metadata": {},
   "outputs": [],
   "source": [
    "# solve least squares problems\n",
    "x = np.linalg.lstsq(Ahat,bhat,rcond=None)[0]"
   ]
  },
  {
   "cell_type": "code",
   "execution_count": 160,
   "id": "0a333930",
   "metadata": {
    "scrolled": true
   },
   "outputs": [
    {
     "data": {
      "text/plain": [
       "[<matplotlib.lines.Line2D at 0x1a026118c40>]"
      ]
     },
     "execution_count": 160,
     "metadata": {},
     "output_type": "execute_result"
    },
    {
     "data": {
      "image/png": "[encoded data removed]",
      "text/plain": [
       "<Figure size 432x288 with 1 Axes>"
      ]
     },
     "metadata": {
      "needs_background": "light"
     },
     "output_type": "display_data"
    }
   ],
   "source": [
    "m_plot = 100\n",
    "t_plot = np.linspace(-1,1,m_plot)\n",
    "A_plot = np.zeros((m_plot,deg+1))\n",
    "for i in range(deg+1):\n",
    "    A_plot[:,i] = t_plot**i\n",
    "y_plot = A_plot.dot(x)\n",
    "\n",
    "plt.scatter(t,y)\n",
    "plt.plot(t_plot,y_plot,color='red')"
   ]
  },
  {
   "cell_type": "markdown",
   "id": "7e50494e",
   "metadata": {},
   "source": [
    "## QR with column pivoting"
   ]
  },
  {
   "cell_type": "code",
   "execution_count": null,
   "id": "18c62abd",
   "metadata": {},
   "outputs": [],
   "source": []
  }
 ],
 "metadata": {
  "kernelspec": {
   "display_name": "Python 3 (ipykernel)",
   "language": "python",
   "name": "python3"
  },
  "language_info": {
   "codemirror_mode": {
    "name": "ipython",
    "version": 3
   },
   "file_extension": ".py",
   "mimetype": "text/x-python",
   "name": "python",
   "nbconvert_exporter": "python",
   "pygments_lexer": "ipython3",
   "version": "3.9.12"
  }
 },
 "nbformat": 4,
 "nbformat_minor": 5
}
