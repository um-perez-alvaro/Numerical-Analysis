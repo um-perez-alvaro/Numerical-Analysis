{
 "cells": [
  {
   "cell_type": "code",
   "execution_count": 1,
   "id": "c6d69a2d",
   "metadata": {},
   "outputs": [],
   "source": [
    "import numpy as np"
   ]
  },
  {
   "cell_type": "markdown",
   "id": "e8eed416",
   "metadata": {},
   "source": [
    "## The normal equations"
   ]
  },
  {
   "cell_type": "code",
   "execution_count": 2,
   "id": "921ffd49",
   "metadata": {},
   "outputs": [],
   "source": [
    "# least squares problem with known solution\n",
    "A = np.random.randn(100,4)\n",
    "x = np.array([1,1,1,0])\n",
    "b = A.dot(x)\n",
    "# column 3 is almost a combination of columns 0 and 1\n",
    "A[:,3] = A[:,0]-A[:,1] + 1e-10*np.random.randn(100)"
   ]
  },
  {
   "cell_type": "code",
   "execution_count": 3,
   "id": "df3ac010",
   "metadata": {},
   "outputs": [],
   "source": [
    "# solving the normal equations\n",
    "xNormal = np.linalg.solve(A.T.dot(A), A.T.dot(b))\n",
    "xNumpy = np.linalg.lstsq(A,b,rcond=None)[0]"
   ]
  },
  {
   "cell_type": "code",
   "execution_count": 4,
   "id": "9e5a8187",
   "metadata": {},
   "outputs": [
    {
     "data": {
      "text/plain": [
       "array([ 1.00000053e+00,  9.99999466e-01,  1.00000000e+00, -5.33598927e-07])"
      ]
     },
     "execution_count": 4,
     "metadata": {},
     "output_type": "execute_result"
    }
   ],
   "source": [
    "xNumpy"
   ]
  },
  {
   "cell_type": "code",
   "execution_count": 5,
   "id": "622b80e5",
   "metadata": {},
   "outputs": [
    {
     "data": {
      "text/plain": [
       "array([ 2.35937488, -0.35937488,  1.        , -1.35937488])"
      ]
     },
     "execution_count": 5,
     "metadata": {},
     "output_type": "execute_result"
    }
   ],
   "source": [
    "xNormal"
   ]
  },
  {
   "cell_type": "code",
   "execution_count": 6,
   "id": "f0896808",
   "metadata": {},
   "outputs": [
    {
     "data": {
      "text/plain": [
       "33988062172.552227"
      ]
     },
     "execution_count": 6,
     "metadata": {},
     "output_type": "execute_result"
    }
   ],
   "source": [
    "np.linalg.cond(A) # approx 10^-10"
   ]
  },
  {
   "cell_type": "code",
   "execution_count": 7,
   "id": "92fc3573",
   "metadata": {},
   "outputs": [
    {
     "data": {
      "text/plain": [
       "4.008769224657516e+16"
      ]
     },
     "execution_count": 7,
     "metadata": {},
     "output_type": "execute_result"
    }
   ],
   "source": [
    "np.linalg.cond(A.T.dot(A))"
   ]
  },
  {
   "cell_type": "markdown",
   "id": "2c6a6e6a",
   "metadata": {},
   "source": [
    "## QR by using Gram-Schmidt"
   ]
  },
  {
   "cell_type": "code",
   "execution_count": 8,
   "id": "d3bd9c87",
   "metadata": {},
   "outputs": [],
   "source": [
    "def my_qr(A):\n",
    "    'it factors a full-column rank A into Q (orthogonal) times R (upper triangular)'\n",
    "    m,n = A.shape\n",
    "    \n",
    "    Q = A.copy()\n",
    "    R = np.zeros((n,n))\n",
    "    \n",
    "    for i in range(n):\n",
    "        R[0:i,i] = Q[:,0:i].T.dot(Q[:,i])\n",
    "        Q[:,i] = Q[:,i] - Q[:,0:i].dot(R[0:i,i])\n",
    "        R[i,i] = np.linalg.norm(Q[:,i])\n",
    "        Q[:,i] = Q[:,i]/R[i,i]\n",
    "    return Q,R"
   ]
  },
  {
   "cell_type": "code",
   "execution_count": 9,
   "id": "d55fbb7f",
   "metadata": {},
   "outputs": [],
   "source": [
    "A = np.random.randn(10,5)\n",
    "Q,R=my_qr(A)"
   ]
  },
  {
   "cell_type": "code",
   "execution_count": 10,
   "id": "3087c682",
   "metadata": {},
   "outputs": [
    {
     "data": {
      "text/plain": [
       "3.3627246560694454e-16"
      ]
     },
     "execution_count": 10,
     "metadata": {},
     "output_type": "execute_result"
    }
   ],
   "source": [
    "# check that A = QR\n",
    "np.linalg.norm(A-Q.dot(R))"
   ]
  },
  {
   "cell_type": "code",
   "execution_count": 11,
   "id": "fede3302",
   "metadata": {},
   "outputs": [
    {
     "data": {
      "text/plain": [
       "6.01046012646649e-16"
      ]
     },
     "execution_count": 11,
     "metadata": {},
     "output_type": "execute_result"
    }
   ],
   "source": [
    "# check that columns of Q are orthonormal\n",
    "np.linalg.norm(Q.T.dot(Q)-np.eye(5))"
   ]
  },
  {
   "cell_type": "code",
   "execution_count": 12,
   "id": "74a5cb47",
   "metadata": {},
   "outputs": [
    {
     "data": {
      "text/plain": [
       "array([[ 3.37689919, -0.80301742,  1.06157153,  1.36398014, -0.99884122],\n",
       "       [ 0.        ,  2.35410558, -0.8425019 , -0.75483512, -0.81929194],\n",
       "       [ 0.        ,  0.        ,  1.84354036, -1.12147705,  0.76840146],\n",
       "       [ 0.        ,  0.        ,  0.        ,  2.07938973,  0.07249525],\n",
       "       [ 0.        ,  0.        ,  0.        ,  0.        ,  2.56551843]])"
      ]
     },
     "execution_count": 12,
     "metadata": {},
     "output_type": "execute_result"
    }
   ],
   "source": [
    "# check that R is upper triangular and invertible\n",
    "R"
   ]
  },
  {
   "cell_type": "markdown",
   "id": "797d9cf2",
   "metadata": {},
   "source": [
    "### Timing Gram-Schmidt"
   ]
  },
  {
   "cell_type": "code",
   "execution_count": 13,
   "id": "fdd46fe4",
   "metadata": {},
   "outputs": [],
   "source": [
    "import time"
   ]
  },
  {
   "cell_type": "code",
   "execution_count": 14,
   "id": "0ef8d926",
   "metadata": {},
   "outputs": [],
   "source": [
    "import matplotlib.pyplot as plt"
   ]
  },
  {
   "cell_type": "code",
   "execution_count": 15,
   "id": "4e0489ea",
   "metadata": {},
   "outputs": [],
   "source": [
    "# matrix sizes\n",
    "ns = [250,500,1000,2000]"
   ]
  },
  {
   "cell_type": "code",
   "execution_count": 16,
   "id": "09efc698",
   "metadata": {},
   "outputs": [
    {
     "name": "stdout",
     "output_type": "stream",
     "text": [
      "250\n",
      "500\n",
      "1000\n",
      "2000\n"
     ]
    }
   ],
   "source": [
    "t = np.zeros(len(ns))\n",
    "for i,n in enumerate(ns): # loop over matrix sizes\n",
    "    print(n)\n",
    "    A = np.random.randn(n,n) # random nxn matrix\n",
    "    start = time.time() # start clock\n",
    "    _,_=my_qr(A) # QR factorization of A\n",
    "    end = time.time() # stop clock\n",
    "    t[i] = end - start # store elapsed time"
   ]
  },
  {
   "cell_type": "code",
   "execution_count": 17,
   "id": "9cd7d8de",
   "metadata": {},
   "outputs": [
    {
     "data": {
      "text/plain": [
       "Text(0, 0.5, 'time')"
      ]
     },
     "execution_count": 17,
     "metadata": {},
     "output_type": "execute_result"
    },
    {
     "data": {
      "image/png": "[encoded data removed]",
      "text/plain": [
       "<Figure size 432x288 with 1 Axes>"
      ]
     },
     "metadata": {
      "needs_background": "light"
     },
     "output_type": "display_data"
    }
   ],
   "source": [
    "plt.plot(ns,t,'o--')\n",
    "plt.xlabel('size')\n",
    "plt.ylabel('time')"
   ]
  },
  {
   "cell_type": "code",
   "execution_count": 18,
   "id": "2b9b6034",
   "metadata": {},
   "outputs": [
    {
     "data": {
      "text/plain": [
       "Text(0, 0.5, 'time')"
      ]
     },
     "execution_count": 18,
     "metadata": {},
     "output_type": "execute_result"
    },
    {
     "data": {
      "image/png": "[encoded data removed]",
      "text/plain": [
       "<Figure size 432x288 with 1 Axes>"
      ]
     },
     "metadata": {
      "needs_background": "light"
     },
     "output_type": "display_data"
    }
   ],
   "source": [
    "plt.loglog(ns,t,'o--')\n",
    "plt.xlabel('size')\n",
    "plt.ylabel('time')"
   ]
  },
  {
   "cell_type": "code",
   "execution_count": 19,
   "id": "0cd3a1a1",
   "metadata": {},
   "outputs": [
    {
     "data": {
      "text/plain": [
       "3.4919744630367"
      ]
     },
     "execution_count": 19,
     "metadata": {},
     "output_type": "execute_result"
    }
   ],
   "source": [
    "# slope\n",
    "(np.log(t[3])-np.log(t[0]))/(np.log(ns[3])-np.log(ns[0]))"
   ]
  },
  {
   "cell_type": "markdown",
   "id": "3e23291c",
   "metadata": {},
   "source": [
    "### Gram-Schmidt and rounding errors"
   ]
  },
  {
   "cell_type": "code",
   "execution_count": 20,
   "id": "a9511f0d",
   "metadata": {},
   "outputs": [],
   "source": [
    "# vandermonde matrix \n",
    "n = 15\n",
    "m = 20\n",
    "p = np.arange(1,m+1)/m\n",
    "A = np.vander(p,N=n,increasing=True)"
   ]
  },
  {
   "cell_type": "code",
   "execution_count": 21,
   "id": "3d10e182",
   "metadata": {},
   "outputs": [
    {
     "data": {
      "text/plain": [
       "5.459539405674028"
      ]
     },
     "execution_count": 21,
     "metadata": {},
     "output_type": "execute_result"
    }
   ],
   "source": [
    "# deviation from orthonormality\n",
    "Q,R = my_qr(A)\n",
    "np.linalg.norm(np.eye(n) - Q.T.dot(Q)) "
   ]
  },
  {
   "cell_type": "code",
   "execution_count": 22,
   "id": "b7afc63e",
   "metadata": {},
   "outputs": [],
   "source": [
    "# initialize deviation from orthonormality vector\n",
    "k = 10\n",
    "dev_orth_gram = []\n",
    "dev_orth_scipy = []\n",
    "for i in range(k):\n",
    "    n = 4 + 2*i \n",
    "    m = 6 + 3*i \n",
    "    # build Vandermonde matrix\n",
    "    p = np.arange(1,m+1)/m\n",
    "    A = np.vander(p,N=n,increasing=True)\n",
    "    # Gram-Schmidt\n",
    "    Q,R = my_qr(A)\n",
    "    dev_orth_gram.append(np.linalg.norm(np.eye(n) - Q.T.dot(Q)))\n",
    "    \n",
    "    # scipy built-in function \n",
    "    Q,R = np.linalg.qr(A)\n",
    "    dev_orth_scipy.append(np.linalg.norm(np.eye(n) - Q.T.dot(Q)))"
   ]
  },
  {
   "cell_type": "code",
   "execution_count": 23,
   "id": "8811d110",
   "metadata": {},
   "outputs": [
    {
     "data": {
      "text/plain": [
       "<matplotlib.legend.Legend at 0x2218e13b3d0>"
      ]
     },
     "execution_count": 23,
     "metadata": {},
     "output_type": "execute_result"
    },
    {
     "data": {
      "image/png": "[encoded data removed]",
      "text/plain": [
       "<Figure size 432x288 with 1 Axes>"
      ]
     },
     "metadata": {
      "needs_background": "light"
     },
     "output_type": "display_data"
    }
   ],
   "source": [
    "plt.semilogy(dev_orth_gram,'o--', label='Gram-Schmidt')\n",
    "plt.semilogy(dev_orth_scipy,'o--', label='scipy built-in qr function')\n",
    "plt.legend()"
   ]
  },
  {
   "cell_type": "markdown",
   "id": "b5aa6e30",
   "metadata": {},
   "source": [
    "### Reflectors"
   ]
  },
  {
   "cell_type": "code",
   "execution_count": 24,
   "id": "202b38c6",
   "metadata": {},
   "outputs": [
    {
     "data": {
      "text/plain": [
       "array([ 4.67330732,  4.91568175, -8.61954768, -3.32533403,  9.51108985])"
      ]
     },
     "execution_count": 24,
     "metadata": {},
     "output_type": "execute_result"
    }
   ],
   "source": [
    "n = 5\n",
    "x = 10*np.random.randn(n)\n",
    "x"
   ]
  },
  {
   "cell_type": "code",
   "execution_count": 25,
   "id": "32fd38e1",
   "metadata": {},
   "outputs": [],
   "source": [
    "u = x.copy()\n",
    "tau = np.sign(u[0])*np.linalg.norm(u)\n",
    "u[0] = tau + u[0]\n",
    "gamma = u[0]/tau\n",
    "u[1:n] = u[1:n]/u[0]\n",
    "u[0] = 1\n",
    "tau = tau"
   ]
  },
  {
   "cell_type": "code",
   "execution_count": 26,
   "id": "1b8a6b52",
   "metadata": {},
   "outputs": [
    {
     "data": {
      "text/plain": [
       "array([-1.48935895e+01,  1.77635684e-15, -1.77635684e-15, -4.44089210e-16,\n",
       "        1.77635684e-15])"
      ]
     },
     "execution_count": 26,
     "metadata": {},
     "output_type": "execute_result"
    }
   ],
   "source": [
    "x - gamma*u*(u.dot(x))"
   ]
  },
  {
   "cell_type": "code",
   "execution_count": 27,
   "id": "fc6a3345",
   "metadata": {},
   "outputs": [],
   "source": [
    "def my_qr(A,how='reflectors',mode='economic'):\n",
    "    'it factors a full-column rank A into Q (orthogonal) times R (upper triangular)'\n",
    "    m,n = A.shape\n",
    "    \n",
    "    if how=='Gram-Schmidt':\n",
    "        Q = A.copy()\n",
    "        R = np.zeros((n,n))\n",
    "\n",
    "        for i in range(n):\n",
    "            R[0:i,i] = Q[:,0:i].T.dot(Q[:,i])\n",
    "            Q[:,i] = Q[:,i] - Q[:,0:i].dot(R[0:i,i])\n",
    "            R[i,i] = np.linalg.norm(Q[:,i])\n",
    "            Q[:,i] = Q[:,i]/R[i,i]\n",
    "        return Q,R\n",
    "    elif how=='reflectors':\n",
    "        R = A.copy()\n",
    "        Q = np.eye(m)\n",
    "\n",
    "        for j in range(n):\n",
    "\n",
    "            # create reflector\n",
    "            x = R[j:m,j].copy()\n",
    "            tau = np.sign(x[0])*np.linalg.norm(x)\n",
    "            x[0] = tau + x[0]\n",
    "            gamma = x[0]/tau\n",
    "            x[1:len(x)] = x[1:len(x)]/x[0]\n",
    "            x[0] = 1\n",
    "            tau = tau\n",
    "\n",
    "            # apply reflector to R\n",
    "            R[j:m,j:n] = R[j:m,j:n] - gamma*np.outer(x,x.dot(R[j:m,j:n]))\n",
    "            # apply reflector to P\n",
    "            Q[j:m,:] = Q[j:m,:] - gamma*np.outer(x,x.dot(Q[j:m,:]))\n",
    "\n",
    "        if mode == 'complete':\n",
    "            return Q.T, np.triu(R)\n",
    "        if mode == 'economic':\n",
    "            return Q.T[:,0:n], np.triu(R)[0:n]"
   ]
  },
  {
   "cell_type": "code",
   "execution_count": 28,
   "id": "77b5c8ab",
   "metadata": {},
   "outputs": [],
   "source": [
    "A = np.random.randn(10,4)"
   ]
  },
  {
   "cell_type": "code",
   "execution_count": 29,
   "id": "1d86dddb",
   "metadata": {},
   "outputs": [],
   "source": [
    "Q,R=my_qr(A) # how='reflectors'; mode='economic'"
   ]
  },
  {
   "cell_type": "code",
   "execution_count": 30,
   "id": "f27c81d0",
   "metadata": {},
   "outputs": [
    {
     "data": {
      "text/plain": [
       "array([[-2.80251482,  0.81315077, -0.24816322, -1.66762518],\n",
       "       [ 0.        ,  2.62829943, -0.4809205 ,  0.24747002],\n",
       "       [ 0.        ,  0.        ,  1.72900063, -0.94813224],\n",
       "       [ 0.        ,  0.        ,  0.        ,  3.29933298]])"
      ]
     },
     "execution_count": 30,
     "metadata": {},
     "output_type": "execute_result"
    }
   ],
   "source": [
    "# check R is upper triangular\n",
    "R"
   ]
  },
  {
   "cell_type": "code",
   "execution_count": 31,
   "id": "1fd76ea6",
   "metadata": {},
   "outputs": [
    {
     "data": {
      "text/plain": [
       "5.513474109826039e-16"
      ]
     },
     "execution_count": 31,
     "metadata": {},
     "output_type": "execute_result"
    }
   ],
   "source": [
    "# check columns of Q are orthonormal\n",
    "np.linalg.norm(Q.T.dot(Q)-np.eye(4))"
   ]
  },
  {
   "cell_type": "code",
   "execution_count": 32,
   "id": "7fb1df2b",
   "metadata": {},
   "outputs": [
    {
     "data": {
      "text/plain": [
       "1.7482811366965557e-15"
      ]
     },
     "execution_count": 32,
     "metadata": {},
     "output_type": "execute_result"
    }
   ],
   "source": [
    "# check A = QR\n",
    "np.linalg.norm(A-Q.dot(R))"
   ]
  },
  {
   "cell_type": "code",
   "execution_count": 33,
   "id": "d53eb46e",
   "metadata": {},
   "outputs": [],
   "source": [
    "# deviation from orthonormality \n",
    "k = 10\n",
    "dev_orth_gram = []\n",
    "dev_orth_reflectors = []\n",
    "dev_orth_scipy = []\n",
    "for i in range(k):\n",
    "    n = 4 + 2*i \n",
    "    m = 6 + 3*i \n",
    "    # build Vandermonde matrix\n",
    "    p = np.arange(1,m+1)/m\n",
    "    A = np.vander(p,N=n,increasing=True)\n",
    "    # Gram-Schmidt\n",
    "    Q,R = my_qr(A,how='Gram-Schmidt')\n",
    "    dev_orth_gram.append(np.linalg.norm(np.eye(n) - Q.T.dot(Q)))\n",
    "    \n",
    "    # scipy built-in function \n",
    "    Q,R = np.linalg.qr(A)\n",
    "    dev_orth_scipy.append(np.linalg.norm(np.eye(n) - Q.T.dot(Q)))"
   ]
  },
  {
   "cell_type": "code",
   "execution_count": 34,
   "id": "a0ef0186",
   "metadata": {},
   "outputs": [
    {
     "data": {
      "text/plain": [
       "<matplotlib.legend.Legend at 0x2218f121eb0>"
      ]
     },
     "execution_count": 34,
     "metadata": {},
     "output_type": "execute_result"
    },
    {
     "data": {
      "image/png": "[encoded data removed]",
      "text/plain": [
       "<Figure size 432x288 with 1 Axes>"
      ]
     },
     "metadata": {
      "needs_background": "light"
     },
     "output_type": "display_data"
    }
   ],
   "source": [
    "plt.semilogy(dev_orth_gram,'o--', label='Gram-Schmidt')\n",
    "plt.semilogy(dev_orth_scipy,'o--', label='scipy built-in qr function')\n",
    "plt.legend()"
   ]
  },
  {
   "cell_type": "code",
   "execution_count": 109,
   "id": "27ee091a",
   "metadata": {},
   "outputs": [],
   "source": [
    "# least squares problem with known solution\n",
    "A = np.random.randn(100,4)\n",
    "x = np.array([1,1,1,0])\n",
    "b = A.dot(x)\n",
    "# column 3 is almost a combination of columns 0 and 1\n",
    "A[:,3] = A[:,0]-A[:,1] + 1e-10*np.random.randn(100)"
   ]
  },
  {
   "cell_type": "code",
   "execution_count": 121,
   "id": "399eba09",
   "metadata": {},
   "outputs": [],
   "source": [
    "# we'll solve the least squares problem four different ways:\n",
    "\n",
    "# normal equations\n",
    "xNormal = np.linalg.solve(A.T.dot(A), A.T.dot(b))\n",
    "\n",
    "# NumPy built-in function\n",
    "xNumpy = np.linalg.lstsq(A,b,rcond=None)[0]\n",
    "\n",
    "# QR by Gram-Schmidt\n",
    "Q,R = my_qr(A,how='Gram-Schmidt')\n",
    "xGM = np.linalg.solve(R,Q.T.dot(b))\n",
    "\n",
    "# QR by reflectors\n",
    "Q,R = my_qr(A,how='reflectors',mode='economic')\n",
    "xReflectors = np.linalg.solve(R,Q.T.dot(b))"
   ]
  },
  {
   "cell_type": "code",
   "execution_count": 122,
   "id": "5ee27dea",
   "metadata": {},
   "outputs": [
    {
     "data": {
      "text/plain": [
       "array([0.85416668, 1.14583332, 1.        , 0.14583332])"
      ]
     },
     "execution_count": 122,
     "metadata": {},
     "output_type": "execute_result"
    }
   ],
   "source": [
    "xNormal"
   ]
  },
  {
   "cell_type": "code",
   "execution_count": 125,
   "id": "e4ece78c",
   "metadata": {
    "scrolled": true
   },
   "outputs": [
    {
     "data": {
      "text/plain": [
       "array([-3.01849350e+04,  3.01869350e+04,  9.99999758e-01,  3.01859350e+04])"
      ]
     },
     "execution_count": 125,
     "metadata": {},
     "output_type": "execute_result"
    }
   ],
   "source": [
    "xGM"
   ]
  },
  {
   "cell_type": "code",
   "execution_count": 123,
   "id": "ed7382a7",
   "metadata": {},
   "outputs": [
    {
     "data": {
      "text/plain": [
       "array([9.99999724e-01, 1.00000028e+00, 1.00000000e+00, 2.76138184e-07])"
      ]
     },
     "execution_count": 123,
     "metadata": {},
     "output_type": "execute_result"
    }
   ],
   "source": [
    "xNumpy"
   ]
  },
  {
   "cell_type": "code",
   "execution_count": 124,
   "id": "b3dcf658",
   "metadata": {},
   "outputs": [
    {
     "data": {
      "text/plain": [
       "array([ 1.00000110e+00,  9.99998904e-01,  1.00000000e+00, -1.09631011e-06])"
      ]
     },
     "execution_count": 124,
     "metadata": {},
     "output_type": "execute_result"
    }
   ],
   "source": [
    "xReflectors"
   ]
  },
  {
   "cell_type": "markdown",
   "id": "3a05fe66",
   "metadata": {},
   "source": [
    "## Fitting lines/polynomials to data"
   ]
  },
  {
   "cell_type": "code",
   "execution_count": 129,
   "id": "3746f254",
   "metadata": {},
   "outputs": [
    {
     "data": {
      "text/plain": [
       "<matplotlib.collections.PathCollection at 0x22191c34ca0>"
      ]
     },
     "execution_count": 129,
     "metadata": {},
     "output_type": "execute_result"
    },
    {
     "data": {
      "image/png": "[encoded data removed]",
      "text/plain": [
       "<Figure size 432x288 with 1 Axes>"
      ]
     },
     "metadata": {
      "needs_background": "light"
     },
     "output_type": "display_data"
    }
   ],
   "source": [
    "m = 20\n",
    "np.random.seed(1)\n",
    "t = -1 + 2*np.random.rand(m)\n",
    "\n",
    "np.random.seed(2)\n",
    "y = 2*t**2 + 0.25*np.random.randn(m)\n",
    "\n",
    "plt.scatter(t,y)"
   ]
  },
  {
   "cell_type": "code",
   "execution_count": 136,
   "id": "e512f05b",
   "metadata": {},
   "outputs": [],
   "source": [
    "deg = 20\n",
    "A = np.zeros((m,deg+1))\n",
    "for i in range(deg+1):\n",
    "    A[:,i] = t**i\n",
    "theta = np.linalg.lstsq(A,y,rcond=None)[0]"
   ]
  },
  {
   "cell_type": "code",
   "execution_count": 137,
   "id": "af4b0058",
   "metadata": {},
   "outputs": [],
   "source": [
    "m_plot = 100\n",
    "t_plot = np.linspace(-1,1,m_plot)\n",
    "A_plot = np.zeros((m_plot,deg+1))\n",
    "for i in range(deg+1):\n",
    "    A_plot[:,i] = t_plot**i\n",
    "y_plot = A_plot.dot(theta)"
   ]
  },
  {
   "cell_type": "code",
   "execution_count": 138,
   "id": "de4437c2",
   "metadata": {},
   "outputs": [
    {
     "data": {
      "text/plain": [
       "(-5.0, 5.0)"
      ]
     },
     "execution_count": 138,
     "metadata": {},
     "output_type": "execute_result"
    },
    {
     "data": {
      "image/png": "[encoded data removed]",
      "text/plain": [
       "<Figure size 432x288 with 1 Axes>"
      ]
     },
     "metadata": {
      "needs_background": "light"
     },
     "output_type": "display_data"
    }
   ],
   "source": [
    "plt.scatter(t,y)\n",
    "plt.plot(t_plot,y_plot,color='red')\n",
    "plt.ylim([-5,5])"
   ]
  },
  {
   "cell_type": "code",
   "execution_count": null,
   "id": "f4393296",
   "metadata": {},
   "outputs": [],
   "source": []
  }
 ],
 "metadata": {
  "kernelspec": {
   "display_name": "Python 3 (ipykernel)",
   "language": "python",
   "name": "python3"
  },
  "language_info": {
   "codemirror_mode": {
    "name": "ipython",
    "version": 3
   },
   "file_extension": ".py",
   "mimetype": "text/x-python",
   "name": "python",
   "nbconvert_exporter": "python",
   "pygments_lexer": "ipython3",
   "version": "3.9.12"
  }
 },
 "nbformat": 4,
 "nbformat_minor": 5
}
