{
 "cells": [
  {
   "cell_type": "code",
   "execution_count": 1,
   "metadata": {},
   "outputs": [],
   "source": [
    "import numpy as np\n",
    "import matplotlib.pyplot as plt"
   ]
  },
  {
   "cell_type": "code",
   "execution_count": 2,
   "metadata": {},
   "outputs": [],
   "source": [
    "def mult_3loops(A,B):\n",
    "    m,n=A.shape\n",
    "    p,q=B.shape\n",
    "    \n",
    "    C = np.zeros((m,q)) # initialize C\n",
    "    for i in range(m):\n",
    "        for j in range(q):\n",
    "            for k in range(n):\n",
    "                C[i,j] += A[i,k]*B[k,j]\n",
    "    return C"
   ]
  },
  {
   "cell_type": "code",
   "execution_count": 3,
   "metadata": {},
   "outputs": [],
   "source": [
    "def mult_2loops(A,b):\n",
    "    m,n=A.shape\n",
    "    p,q=B.shape\n",
    "    \n",
    "    C = np.zeros((m,q)) # initialize C\n",
    "    for i in range(m):\n",
    "        for j in range(q):\n",
    "            C[i,j] = A[i,:].dot(B[:,j])\n",
    "    return C"
   ]
  },
  {
   "cell_type": "code",
   "execution_count": 4,
   "metadata": {},
   "outputs": [],
   "source": [
    "def mult_1loop(A,b):\n",
    "    m,n=A.shape\n",
    "    p,q=B.shape\n",
    "    \n",
    "    C = np.zeros((m,q)) # initialize C\n",
    "    for j in range(q):\n",
    "        C[:,j] = A.dot(B[:,j])\n",
    "    return C"
   ]
  },
  {
   "cell_type": "code",
   "execution_count": 5,
   "metadata": {},
   "outputs": [],
   "source": [
    "A = np.random.randn(3,3)\n",
    "B = np.random.randn(3,3)"
   ]
  },
  {
   "cell_type": "code",
   "execution_count": 6,
   "metadata": {},
   "outputs": [
    {
     "data": {
      "text/plain": [
       "array([[-1.48351192,  2.22056597,  2.57716391],\n",
       "       [-0.57273014,  1.33511402,  1.10463473],\n",
       "       [-1.33946037, -1.02937631, -1.17905899]])"
      ]
     },
     "execution_count": 6,
     "metadata": {},
     "output_type": "execute_result"
    }
   ],
   "source": [
    "A.dot(B)"
   ]
  },
  {
   "cell_type": "code",
   "execution_count": 7,
   "metadata": {},
   "outputs": [
    {
     "data": {
      "text/plain": [
       "array([[-1.48351192,  2.22056597,  2.57716391],\n",
       "       [-0.57273014,  1.33511402,  1.10463473],\n",
       "       [-1.33946037, -1.02937631, -1.17905899]])"
      ]
     },
     "execution_count": 7,
     "metadata": {},
     "output_type": "execute_result"
    }
   ],
   "source": [
    "mult_3loops(A,B)"
   ]
  },
  {
   "cell_type": "code",
   "execution_count": 8,
   "metadata": {},
   "outputs": [
    {
     "data": {
      "text/plain": [
       "array([[-1.48351192,  2.22056597,  2.57716391],\n",
       "       [-0.57273014,  1.33511402,  1.10463473],\n",
       "       [-1.33946037, -1.02937631, -1.17905899]])"
      ]
     },
     "execution_count": 8,
     "metadata": {},
     "output_type": "execute_result"
    }
   ],
   "source": [
    "mult_2loops(A,B)"
   ]
  },
  {
   "cell_type": "code",
   "execution_count": 9,
   "metadata": {},
   "outputs": [
    {
     "data": {
      "text/plain": [
       "array([[-1.48351192,  2.22056597,  2.57716391],\n",
       "       [-0.57273014,  1.33511402,  1.10463473],\n",
       "       [-1.33946037, -1.02937631, -1.17905899]])"
      ]
     },
     "execution_count": 9,
     "metadata": {},
     "output_type": "execute_result"
    }
   ],
   "source": [
    "mult_1loop(A,B)"
   ]
  },
  {
   "cell_type": "markdown",
   "metadata": {},
   "source": [
    "## Loosing your loops"
   ]
  },
  {
   "cell_type": "code",
   "execution_count": 10,
   "metadata": {},
   "outputs": [],
   "source": [
    "A = np.random.randn(100,100)\n",
    "B = np.random.randn(100,100)"
   ]
  },
  {
   "cell_type": "code",
   "execution_count": 11,
   "metadata": {},
   "outputs": [
    {
     "name": "stdout",
     "output_type": "stream",
     "text": [
      "745 ms ± 11.5 ms per loop (mean ± std. dev. of 7 runs, 1 loop each)\n"
     ]
    }
   ],
   "source": [
    "%%timeit\n",
    "C = mult_3loops(A,B)"
   ]
  },
  {
   "cell_type": "code",
   "execution_count": 12,
   "metadata": {},
   "outputs": [
    {
     "name": "stdout",
     "output_type": "stream",
     "text": [
      "18.1 ms ± 828 µs per loop (mean ± std. dev. of 7 runs, 100 loops each)\n"
     ]
    }
   ],
   "source": [
    "%%timeit\n",
    "C = mult_2loops(A,B)"
   ]
  },
  {
   "cell_type": "code",
   "execution_count": 13,
   "metadata": {},
   "outputs": [
    {
     "name": "stdout",
     "output_type": "stream",
     "text": [
      "490 µs ± 7.13 µs per loop (mean ± std. dev. of 7 runs, 1,000 loops each)\n"
     ]
    }
   ],
   "source": [
    "%%timeit\n",
    "C = mult_1loop(A,B)"
   ]
  },
  {
   "cell_type": "code",
   "execution_count": 14,
   "metadata": {},
   "outputs": [
    {
     "name": "stdout",
     "output_type": "stream",
     "text": [
      "41.5 µs ± 640 ns per loop (mean ± std. dev. of 7 runs, 10,000 loops each)\n"
     ]
    }
   ],
   "source": [
    "%%timeit\n",
    "C = A.dot(B)"
   ]
  },
  {
   "cell_type": "markdown",
   "metadata": {},
   "source": [
    "## Timing matrix multiplication"
   ]
  },
  {
   "cell_type": "code",
   "execution_count": 15,
   "metadata": {},
   "outputs": [],
   "source": [
    "import time"
   ]
  },
  {
   "cell_type": "code",
   "execution_count": 31,
   "metadata": {},
   "outputs": [
    {
     "name": "stdout",
     "output_type": "stream",
     "text": [
      "1000\n",
      "2000\n",
      "4000\n",
      "8000\n"
     ]
    }
   ],
   "source": [
    "ns = [1000,2000,4000,8000]\n",
    "t = np.zeros(len(ns))\n",
    "for i,n in enumerate(ns): \n",
    "    print(n)\n",
    "\n",
    "    A = np.random.randn(n,n) \n",
    "    B = np.random.randn(n,n)\n",
    "    \n",
    "    start = time.time() \n",
    "    C = A.dot(B)\n",
    "    end = time.time() \n",
    "    t[i] = end - start "
   ]
  },
  {
   "cell_type": "code",
   "execution_count": 35,
   "metadata": {},
   "outputs": [
    {
     "data": {
      "text/plain": [
       "Text(0.5, 1.0, 'Matrix multiplication')"
      ]
     },
     "execution_count": 35,
     "metadata": {},
     "output_type": "execute_result"
    },
    {
     "data": {
      "image/png": "[encoded data removed]",
      "text/plain": [
       "<Figure size 432x288 with 1 Axes>"
      ]
     },
     "metadata": {
      "needs_background": "light"
     },
     "output_type": "display_data"
    }
   ],
   "source": [
    "plt.loglog(ns,t,'o--')\n",
    "plt.xlabel('size n',fontsize=15)\n",
    "plt.ylabel('time', fontsize=15)\n",
    "plt.title('Matrix multiplication', fontsize=20)"
   ]
  },
  {
   "cell_type": "code",
   "execution_count": 33,
   "metadata": {},
   "outputs": [
    {
     "data": {
      "text/plain": [
       "2.8980346108602935"
      ]
     },
     "execution_count": 33,
     "metadata": {},
     "output_type": "execute_result"
    }
   ],
   "source": [
    "# slope\n",
    "(np.log(t[3])-np.log(t[0]))/(np.log(ns[3])-np.log(ns[0]))"
   ]
  },
  {
   "cell_type": "markdown",
   "metadata": {},
   "source": [
    "## Where do I put the parentheses?"
   ]
  },
  {
   "cell_type": "code",
   "execution_count": 19,
   "metadata": {},
   "outputs": [],
   "source": [
    "n = 1000\n",
    "A = np.random.randn(n,n)\n",
    "B = np.random.randn(n,1)\n",
    "C = np.random.randn(1,n)"
   ]
  },
  {
   "cell_type": "code",
   "execution_count": 20,
   "metadata": {},
   "outputs": [
    {
     "name": "stdout",
     "output_type": "stream",
     "text": [
      "34 ms ± 2.88 ms per loop (mean ± std. dev. of 7 runs, 10 loops each)\n"
     ]
    }
   ],
   "source": [
    "%%timeit\n",
    "A.dot(B.dot(C))"
   ]
  },
  {
   "cell_type": "code",
   "execution_count": 21,
   "metadata": {},
   "outputs": [
    {
     "name": "stdout",
     "output_type": "stream",
     "text": [
      "5.51 ms ± 188 µs per loop (mean ± std. dev. of 7 runs, 100 loops each)\n"
     ]
    }
   ],
   "source": [
    "%%timeit\n",
    "(A.dot(B)).dot(C)"
   ]
  },
  {
   "cell_type": "code",
   "execution_count": 22,
   "metadata": {},
   "outputs": [
    {
     "name": "stdout",
     "output_type": "stream",
     "text": [
      "1000\n",
      "2000\n",
      "4000\n",
      "8000\n"
     ]
    }
   ],
   "source": [
    "ns = [1000,2000,4000,8000]\n",
    "t = np.zeros(len(ns))\n",
    "t_naive = np.zeros(len(ns))\n",
    "for i,n in enumerate(ns): \n",
    "    print(n)\n",
    "\n",
    "    A = np.random.randn(n,n)\n",
    "    B = np.random.randn(n,1)\n",
    "    C = np.random.randn(1,n)\n",
    "    \n",
    "    # slow rank-1-matrix multiplication\n",
    "    start = time.time() \n",
    "    A.dot(B.dot(C))\n",
    "    end = time.time() \n",
    "    t_naive[i] = end - start \n",
    "    \n",
    "    # fast rank-1-matrix multiplication\n",
    "    start = time.time() \n",
    "    (A.dot(B)).dot(C)\n",
    "    end = time.time() \n",
    "    t[i] = end - start "
   ]
  },
  {
   "cell_type": "code",
   "execution_count": 23,
   "metadata": {},
   "outputs": [
    {
     "data": {
      "text/plain": [
       "<matplotlib.legend.Legend at 0x1fb02503cd0>"
      ]
     },
     "execution_count": 23,
     "metadata": {},
     "output_type": "execute_result"
    },
    {
     "data": {
      "image/png": "[encoded data removed]",
      "text/plain": [
       "<Figure size 432x288 with 1 Axes>"
      ]
     },
     "metadata": {
      "needs_background": "light"
     },
     "output_type": "display_data"
    }
   ],
   "source": [
    "plt.loglog(ns,t,'o--',label='fast')\n",
    "plt.loglog(ns,t_naive,'o--',label='slow')\n",
    "plt.legend()"
   ]
  },
  {
   "cell_type": "code",
   "execution_count": null,
   "metadata": {},
   "outputs": [],
   "source": []
  }
 ],
 "metadata": {
  "kernelspec": {
   "display_name": "Python 3 (ipykernel)",
   "language": "python",
   "name": "python3"
  },
  "language_info": {
   "codemirror_mode": {
    "name": "ipython",
    "version": 3
   },
   "file_extension": ".py",
   "mimetype": "text/x-python",
   "name": "python",
   "nbconvert_exporter": "python",
   "pygments_lexer": "ipython3",
   "version": "3.9.12"
  }
 },
 "nbformat": 4,
 "nbformat_minor": 4
}
