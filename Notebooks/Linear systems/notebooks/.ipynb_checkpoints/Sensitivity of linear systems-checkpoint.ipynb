{
 "cells": [
  {
   "cell_type": "code",
   "execution_count": 1,
   "id": "de484d61",
   "metadata": {},
   "outputs": [],
   "source": [
    "import numpy as np"
   ]
  },
  {
   "cell_type": "markdown",
   "id": "07f08a42",
   "metadata": {},
   "source": [
    "## How sensitive is x to perturbations in b?"
   ]
  },
  {
   "cell_type": "markdown",
   "id": "16350d63",
   "metadata": {},
   "source": [
    "### Example 1"
   ]
  },
  {
   "cell_type": "code",
   "execution_count": 2,
   "id": "eda28b7f",
   "metadata": {},
   "outputs": [
    {
     "data": {
      "text/plain": [
       "array([[4.1, 2.8],\n",
       "       [9.7, 6.5]])"
      ]
     },
     "execution_count": 2,
     "metadata": {},
     "output_type": "execute_result"
    }
   ],
   "source": [
    "A = np.array([[4.1,2.8],[9.7,6.5]])\n",
    "A"
   ]
  },
  {
   "cell_type": "code",
   "execution_count": 4,
   "id": "0e76011c",
   "metadata": {},
   "outputs": [
    {
     "data": {
      "text/plain": [
       "array([4.1, 9.7])"
      ]
     },
     "execution_count": 4,
     "metadata": {},
     "output_type": "execute_result"
    }
   ],
   "source": [
    "b = np.array([4.1,9.7])\n",
    "b"
   ]
  },
  {
   "cell_type": "code",
   "execution_count": 5,
   "id": "2779d238",
   "metadata": {},
   "outputs": [
    {
     "data": {
      "text/plain": [
       "array([1., 0.])"
      ]
     },
     "execution_count": 5,
     "metadata": {},
     "output_type": "execute_result"
    }
   ],
   "source": [
    "# solution to Ax = b\n",
    "x = np.linalg.solve(A,b)\n",
    "x"
   ]
  },
  {
   "cell_type": "code",
   "execution_count": 6,
   "id": "c00b6958",
   "metadata": {},
   "outputs": [
    {
     "data": {
      "text/plain": [
       "array([0.01, 0.  ])"
      ]
     },
     "execution_count": 6,
     "metadata": {},
     "output_type": "execute_result"
    }
   ],
   "source": [
    "# let us add a small perturbation to b\n",
    "Db = np.array([0.01,0])\n",
    "Db"
   ]
  },
  {
   "cell_type": "code",
   "execution_count": 7,
   "id": "aaa7b176",
   "metadata": {},
   "outputs": [
    {
     "data": {
      "text/plain": [
       "array([4.11, 9.7 ])"
      ]
     },
     "execution_count": 7,
     "metadata": {},
     "output_type": "execute_result"
    }
   ],
   "source": [
    "# the new vector b is\n",
    "b+Db"
   ]
  },
  {
   "cell_type": "code",
   "execution_count": 8,
   "id": "9c0e0eda",
   "metadata": {},
   "outputs": [
    {
     "data": {
      "text/plain": [
       "array([0.87254902, 0.19019608])"
      ]
     },
     "execution_count": 8,
     "metadata": {},
     "output_type": "execute_result"
    }
   ],
   "source": [
    "# the solution changes dramatically\n",
    "xhat = np.linalg.solve(A,b+Db)\n",
    "xhat"
   ]
  },
  {
   "cell_type": "code",
   "execution_count": 10,
   "id": "a765e718",
   "metadata": {},
   "outputs": [
    {
     "data": {
      "text/plain": [
       "0.22895043274384289"
      ]
     },
     "execution_count": 10,
     "metadata": {},
     "output_type": "execute_result"
    }
   ],
   "source": [
    "# relative change\n",
    "np.linalg.norm(x-xhat)/np.linalg.norm(x)"
   ]
  },
  {
   "cell_type": "code",
   "execution_count": 11,
   "id": "3046e063",
   "metadata": {},
   "outputs": [
    {
     "data": {
      "text/plain": [
       "315.663498736236"
      ]
     },
     "execution_count": 11,
     "metadata": {},
     "output_type": "execute_result"
    }
   ],
   "source": [
    "# condition number of A\n",
    "np.linalg.cond(A)"
   ]
  },
  {
   "cell_type": "code",
   "execution_count": 13,
   "id": "f6c1a72e",
   "metadata": {},
   "outputs": [
    {
     "data": {
      "text/plain": [
       "0.2997495865531347"
      ]
     },
     "execution_count": 13,
     "metadata": {},
     "output_type": "execute_result"
    }
   ],
   "source": [
    "# rel error ~ cond number times relative change in b\n",
    "np.linalg.cond(A)*(np.linalg.norm(Db)/np.linalg.norm(b))"
   ]
  },
  {
   "cell_type": "markdown",
   "id": "64e06a1c",
   "metadata": {},
   "source": [
    "### Example 2"
   ]
  },
  {
   "cell_type": "code",
   "execution_count": 33,
   "id": "7c8f1920",
   "metadata": {},
   "outputs": [
    {
     "data": {
      "text/plain": [
       "array([[5.1, 1.8],\n",
       "       [4.7, 6.5]])"
      ]
     },
     "execution_count": 33,
     "metadata": {},
     "output_type": "execute_result"
    }
   ],
   "source": [
    "A = np.array([[5.1,1.8],[4.7,6.5]])\n",
    "A"
   ]
  },
  {
   "cell_type": "code",
   "execution_count": 34,
   "id": "84fc3113",
   "metadata": {},
   "outputs": [
    {
     "data": {
      "text/plain": [
       "3.5053230742793113"
      ]
     },
     "execution_count": 34,
     "metadata": {},
     "output_type": "execute_result"
    }
   ],
   "source": [
    "np.linalg.cond(A)"
   ]
  },
  {
   "cell_type": "code",
   "execution_count": 35,
   "id": "df1ef160",
   "metadata": {},
   "outputs": [
    {
     "data": {
      "text/plain": [
       "array([5.1, 4.7])"
      ]
     },
     "execution_count": 35,
     "metadata": {},
     "output_type": "execute_result"
    }
   ],
   "source": [
    "b = np.array([5.1,4.7])\n",
    "b"
   ]
  },
  {
   "cell_type": "code",
   "execution_count": 36,
   "id": "6347baee",
   "metadata": {},
   "outputs": [
    {
     "data": {
      "text/plain": [
       "array([1., 0.])"
      ]
     },
     "execution_count": 36,
     "metadata": {},
     "output_type": "execute_result"
    }
   ],
   "source": [
    "x = np.linalg.solve(A,b)\n",
    "x"
   ]
  },
  {
   "cell_type": "code",
   "execution_count": 37,
   "id": "f0c4713d",
   "metadata": {},
   "outputs": [],
   "source": [
    "Db = np.array([0.01,0])"
   ]
  },
  {
   "cell_type": "code",
   "execution_count": 38,
   "id": "ebdc08ab",
   "metadata": {},
   "outputs": [
    {
     "data": {
      "text/plain": [
       "array([ 1.00263264, -0.0019036 ])"
      ]
     },
     "execution_count": 38,
     "metadata": {},
     "output_type": "execute_result"
    }
   ],
   "source": [
    "# the solution changes very little\n",
    "xhat = np.linalg.solve(A,b+Db)\n",
    "xhat"
   ]
  },
  {
   "cell_type": "code",
   "execution_count": 39,
   "id": "b2fa2ece",
   "metadata": {},
   "outputs": [
    {
     "data": {
      "text/plain": [
       "0.003248773532629359"
      ]
     },
     "execution_count": 39,
     "metadata": {},
     "output_type": "execute_result"
    }
   ],
   "source": [
    "# relative change\n",
    "np.linalg.norm(x-xhat)/np.linalg.norm(x)"
   ]
  },
  {
   "cell_type": "code",
   "execution_count": 40,
   "id": "538f8ad4",
   "metadata": {},
   "outputs": [
    {
     "data": {
      "text/plain": [
       "3.5053230742793113"
      ]
     },
     "execution_count": 40,
     "metadata": {},
     "output_type": "execute_result"
    }
   ],
   "source": [
    "# condition number of A\n",
    "np.linalg.cond(A)"
   ]
  },
  {
   "cell_type": "code",
   "execution_count": 41,
   "id": "58b11fcd",
   "metadata": {},
   "outputs": [
    {
     "data": {
      "text/plain": [
       "0.005054235961448773"
      ]
     },
     "execution_count": 41,
     "metadata": {},
     "output_type": "execute_result"
    }
   ],
   "source": [
    "# rel error ~ cond number times relative change in b\n",
    "np.linalg.cond(A)*(np.linalg.norm(Db)/np.linalg.norm(b))"
   ]
  },
  {
   "cell_type": "markdown",
   "id": "8342b12c",
   "metadata": {},
   "source": [
    "## ill-conditioned matrices"
   ]
  },
  {
   "cell_type": "code",
   "execution_count": 44,
   "id": "af7a3dda",
   "metadata": {},
   "outputs": [],
   "source": [
    "def hilbert(n):\n",
    "    H = np.zeros((n,n))\n",
    "    for i in range(n):\n",
    "        for j in range(n):\n",
    "            H[i,j] = 1/(i+j+1)\n",
    "    return H"
   ]
  },
  {
   "cell_type": "code",
   "execution_count": 45,
   "id": "4fac4391",
   "metadata": {},
   "outputs": [
    {
     "data": {
      "text/plain": [
       "array([[1.        , 0.5       , 0.33333333, 0.25      ],\n",
       "       [0.5       , 0.33333333, 0.25      , 0.2       ],\n",
       "       [0.33333333, 0.25      , 0.2       , 0.16666667],\n",
       "       [0.25      , 0.2       , 0.16666667, 0.14285714]])"
      ]
     },
     "execution_count": 45,
     "metadata": {},
     "output_type": "execute_result"
    }
   ],
   "source": [
    "hilbert(4)"
   ]
  },
  {
   "cell_type": "code",
   "execution_count": 47,
   "id": "90dbcdc8",
   "metadata": {},
   "outputs": [
    {
     "data": {
      "text/plain": [
       "2.1211455690960148e+18"
      ]
     },
     "execution_count": 47,
     "metadata": {},
     "output_type": "execute_result"
    }
   ],
   "source": [
    "np.linalg.cond(hilbert(20))"
   ]
  },
  {
   "cell_type": "code",
   "execution_count": 51,
   "id": "c279b2f7",
   "metadata": {},
   "outputs": [],
   "source": [
    "cond_numbers = []\n",
    "for n in range(1,12):\n",
    "    cond_numbers.append(np.linalg.cond(hilbert(n)))"
   ]
  },
  {
   "cell_type": "code",
   "execution_count": 53,
   "id": "b6903eeb",
   "metadata": {},
   "outputs": [],
   "source": [
    "import matplotlib.pyplot as plt"
   ]
  },
  {
   "cell_type": "code",
   "execution_count": 58,
   "id": "b8ed5cf3",
   "metadata": {},
   "outputs": [
    {
     "data": {
      "text/plain": [
       "[<matplotlib.lines.Line2D at 0x1cf4eb98dc0>]"
      ]
     },
     "execution_count": 58,
     "metadata": {},
     "output_type": "execute_result"
    },
    {
     "data": {
      "image/png": "[encoded data removed]",
      "text/plain": [
       "<Figure size 432x288 with 1 Axes>"
      ]
     },
     "metadata": {
      "needs_background": "light"
     },
     "output_type": "display_data"
    }
   ],
   "source": [
    "plt.plot(cond_numbers,'o-') # grows exponentially"
   ]
  },
  {
   "cell_type": "code",
   "execution_count": 60,
   "id": "90a563ca",
   "metadata": {},
   "outputs": [
    {
     "data": {
      "text/plain": [
       "[<matplotlib.lines.Line2D at 0x1cf4eba2ee0>]"
      ]
     },
     "execution_count": 60,
     "metadata": {},
     "output_type": "execute_result"
    },
    {
     "data": {
      "image/png": "[encoded data removed]",
      "text/plain": [
       "<Figure size 432x288 with 1 Axes>"
      ]
     },
     "metadata": {
      "needs_background": "light"
     },
     "output_type": "display_data"
    }
   ],
   "source": [
    "plt.semilogy(cond_numbers,'o-')"
   ]
  },
  {
   "cell_type": "markdown",
   "id": "a0b70eea",
   "metadata": {},
   "source": [
    "## ill conditioning caused by poor scaling"
   ]
  },
  {
   "cell_type": "code",
   "execution_count": 61,
   "id": "59daf4af",
   "metadata": {},
   "outputs": [
    {
     "data": {
      "text/plain": [
       "array([[1.e+00, 0.e+00],\n",
       "       [0.e+00, 1.e-10]])"
      ]
     },
     "execution_count": 61,
     "metadata": {},
     "output_type": "execute_result"
    }
   ],
   "source": [
    "e = 1e-10\n",
    "A = np.array([[1,0],[0,e]])\n",
    "A"
   ]
  },
  {
   "cell_type": "code",
   "execution_count": 62,
   "id": "2d2cdfe4",
   "metadata": {},
   "outputs": [
    {
     "data": {
      "text/plain": [
       "array([1.e+00, 1.e-10])"
      ]
     },
     "execution_count": 62,
     "metadata": {},
     "output_type": "execute_result"
    }
   ],
   "source": [
    "b = np.array([1,e])\n",
    "b"
   ]
  },
  {
   "cell_type": "code",
   "execution_count": 63,
   "id": "2752936c",
   "metadata": {},
   "outputs": [
    {
     "data": {
      "text/plain": [
       "array([1., 1.])"
      ]
     },
     "execution_count": 63,
     "metadata": {},
     "output_type": "execute_result"
    }
   ],
   "source": [
    "x = np.linalg.solve(A,b)\n",
    "x"
   ]
  },
  {
   "cell_type": "code",
   "execution_count": 67,
   "id": "66cdda4f",
   "metadata": {},
   "outputs": [
    {
     "data": {
      "text/plain": [
       "array([0.e+00, 1.e-10])"
      ]
     },
     "execution_count": 67,
     "metadata": {},
     "output_type": "execute_result"
    }
   ],
   "source": [
    "Db = np.array([0,e])\n",
    "Db"
   ]
  },
  {
   "cell_type": "code",
   "execution_count": 66,
   "id": "ae2c1831",
   "metadata": {},
   "outputs": [
    {
     "data": {
      "text/plain": [
       "array([1., 2.])"
      ]
     },
     "execution_count": 66,
     "metadata": {},
     "output_type": "execute_result"
    }
   ],
   "source": [
    "# xhat is far from x\n",
    "xhat = np.linalg.solve(A,b+Db)\n",
    "xhat"
   ]
  }
 ],
 "metadata": {
  "kernelspec": {
   "display_name": "Python 3 (ipykernel)",
   "language": "python",
   "name": "python3"
  },
  "language_info": {
   "codemirror_mode": {
    "name": "ipython",
    "version": 3
   },
   "file_extension": ".py",
   "mimetype": "text/x-python",
   "name": "python",
   "nbconvert_exporter": "python",
   "pygments_lexer": "ipython3",
   "version": "3.9.12"
  }
 },
 "nbformat": 4,
 "nbformat_minor": 5
}
