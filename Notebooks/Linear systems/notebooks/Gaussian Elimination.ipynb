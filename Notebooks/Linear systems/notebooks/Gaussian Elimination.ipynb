{
 "cells": [
  {
   "cell_type": "code",
   "execution_count": 5,
   "id": "7f0154af",
   "metadata": {},
   "outputs": [],
   "source": [
    "import numpy as np"
   ]
  },
  {
   "cell_type": "markdown",
   "id": "0595d945",
   "metadata": {},
   "source": [
    "# Gaussian Elimination"
   ]
  },
  {
   "cell_type": "markdown",
   "id": "a8e2ac4e",
   "metadata": {},
   "source": [
    "## LU factorization"
   ]
  },
  {
   "cell_type": "code",
   "execution_count": 6,
   "id": "ab68d755",
   "metadata": {},
   "outputs": [
    {
     "data": {
      "text/plain": [
       "array([[ 2,  4, -2],\n",
       "       [ 4,  9, -3],\n",
       "       [-2, -3,  7]])"
      ]
     },
     "execution_count": 6,
     "metadata": {},
     "output_type": "execute_result"
    }
   ],
   "source": [
    "A = np.array([[2,4,-2],[4,9,-3],[-2,-3,7]])\n",
    "A"
   ]
  },
  {
   "cell_type": "code",
   "execution_count": 8,
   "id": "93351ebf",
   "metadata": {},
   "outputs": [],
   "source": [
    "def my_lu_3loops(A):\n",
    "    'this function factors A into lower L x upper U. It uses 3 nested for-loops'\n",
    "    \n",
    "    # size of A\n",
    "    m,n=A.shape\n",
    "    # check if A is square\n",
    "    if m!=n:\n",
    "        print('WARNING: A must be a square matrix')\n",
    "        return\n",
    "    \n",
    "    # initialize U and L factors\n",
    "    L = np.eye(n) # nxn identity matrix\n",
    "    U = A.copy()\n",
    "    \n",
    "    # Gaussian Elimination steps\n",
    "    for i in range(n):\n",
    "        # loop over rows i+1,...,n\n",
    "        for j in range(i+1,n):\n",
    "            # compute the multiplier\n",
    "            L[j,i] = U[j,i]/U[i,i]\n",
    "            # update U\n",
    "            U[j,i] = 0\n",
    "            for k in range(i+1,n):\n",
    "                U[j,k] = U[j,k] - L[j,i]*U[i,k]\n",
    "    return L,U"
   ]
  },
  {
   "cell_type": "code",
   "execution_count": 9,
   "id": "897a06a0",
   "metadata": {},
   "outputs": [],
   "source": [
    "# check that the function works\n",
    "L,U = my_lu_3loops(A)"
   ]
  },
  {
   "cell_type": "code",
   "execution_count": 10,
   "id": "c5cbf18b",
   "metadata": {},
   "outputs": [
    {
     "data": {
      "text/plain": [
       "array([[ 1.,  0.,  0.],\n",
       "       [ 2.,  1.,  0.],\n",
       "       [-1.,  1.,  1.]])"
      ]
     },
     "execution_count": 10,
     "metadata": {},
     "output_type": "execute_result"
    }
   ],
   "source": [
    "L"
   ]
  },
  {
   "cell_type": "code",
   "execution_count": 11,
   "id": "44a31b99",
   "metadata": {},
   "outputs": [
    {
     "data": {
      "text/plain": [
       "array([[ 2,  4, -2],\n",
       "       [ 0,  1,  1],\n",
       "       [ 0,  0,  4]])"
      ]
     },
     "execution_count": 11,
     "metadata": {},
     "output_type": "execute_result"
    }
   ],
   "source": [
    "U"
   ]
  },
  {
   "cell_type": "code",
   "execution_count": 12,
   "id": "0d93e7dd",
   "metadata": {},
   "outputs": [
    {
     "data": {
      "text/plain": [
       "array([[0., 0., 0.],\n",
       "       [0., 0., 0.],\n",
       "       [0., 0., 0.]])"
      ]
     },
     "execution_count": 12,
     "metadata": {},
     "output_type": "execute_result"
    }
   ],
   "source": [
    "# check that L times U equals A\n",
    "L.dot(U) - A"
   ]
  },
  {
   "cell_type": "code",
   "execution_count": 13,
   "id": "8a3c3a8c",
   "metadata": {},
   "outputs": [],
   "source": [
    "def my_lu_2loops(A):\n",
    "    'this function factors A into lower L x upper U. It uses 2 nested for-loops'\n",
    "    \n",
    "    # size of A\n",
    "    m,n=A.shape\n",
    "    # check if A is square\n",
    "    if m!=n:\n",
    "        print('WARNING: A must be a square matrix')\n",
    "        return\n",
    "    \n",
    "    # initialize U and L factors\n",
    "    L = np.eye(n) # nxn identity matrix\n",
    "    U = A.copy()\n",
    "    \n",
    "    # Gaussian Elimination steps\n",
    "    for i in range(n):\n",
    "        # loop over rows i+1,...,n\n",
    "        for j in range(i+1,n):\n",
    "            # compute the multiplier\n",
    "            L[j,i] = U[j,i]/U[i,i]\n",
    "            # update U\n",
    "            U[j,i] = 0\n",
    "            U[j,i+1:n] = U[j,i+1:n] - L[j,i]*U[i,i+1:n]\n",
    "    return L,U"
   ]
  },
  {
   "cell_type": "code",
   "execution_count": 14,
   "id": "a24d590a",
   "metadata": {},
   "outputs": [],
   "source": [
    "# check that the function works\n",
    "L,U = my_lu_2loops(A)"
   ]
  },
  {
   "cell_type": "code",
   "execution_count": 15,
   "id": "ed961958",
   "metadata": {},
   "outputs": [
    {
     "data": {
      "text/plain": [
       "array([[ 1.,  0.,  0.],\n",
       "       [ 2.,  1.,  0.],\n",
       "       [-1.,  1.,  1.]])"
      ]
     },
     "execution_count": 15,
     "metadata": {},
     "output_type": "execute_result"
    }
   ],
   "source": [
    "L"
   ]
  },
  {
   "cell_type": "code",
   "execution_count": 16,
   "id": "1ed81ceb",
   "metadata": {},
   "outputs": [
    {
     "data": {
      "text/plain": [
       "array([[ 2,  4, -2],\n",
       "       [ 0,  1,  1],\n",
       "       [ 0,  0,  4]])"
      ]
     },
     "execution_count": 16,
     "metadata": {},
     "output_type": "execute_result"
    }
   ],
   "source": [
    "U"
   ]
  },
  {
   "cell_type": "code",
   "execution_count": 17,
   "id": "bec25dde",
   "metadata": {},
   "outputs": [
    {
     "data": {
      "text/plain": [
       "array([[0., 0., 0.],\n",
       "       [0., 0., 0.],\n",
       "       [0., 0., 0.]])"
      ]
     },
     "execution_count": 17,
     "metadata": {},
     "output_type": "execute_result"
    }
   ],
   "source": [
    "# check that L times U equals A\n",
    "L.dot(U) - A"
   ]
  },
  {
   "cell_type": "code",
   "execution_count": 18,
   "id": "c43e9a43",
   "metadata": {},
   "outputs": [],
   "source": [
    "def my_lu(A,pivoting=None):\n",
    "    'this function factors A into lower L x upper U. It uses 1 for-loop'\n",
    "    \n",
    "    n,m = A.shape # size of matrix A\n",
    "    if m!=n: # check if A is square\n",
    "        print('WARNING: A must be a square matrix') # print a warning massage\n",
    "        return  \n",
    "    \n",
    "    # initialize U and L factors\n",
    "    U = A.copy()\n",
    "    L = np.identity(n)\n",
    "    \n",
    "    \n",
    "    # Gaussian Elimination steps\n",
    "    for i in range(n): \n",
    "        # multipliers \n",
    "        L[i+1:n,i] = U[i+1:n,i]/U[i,i] \n",
    "        # update U\n",
    "        U[i+1:n,i] = 0 \n",
    "        U[i+1:n,i+1:n] = U[i+1:n,i+1:n] - np.outer(L[i+1:n,i],U[i,i+1:n]) # update U\n",
    "\n",
    "    return L,U"
   ]
  },
  {
   "cell_type": "code",
   "execution_count": 19,
   "id": "5424bba6",
   "metadata": {},
   "outputs": [],
   "source": [
    "# check that the function works\n",
    "L,U = my_lu(A)"
   ]
  },
  {
   "cell_type": "code",
   "execution_count": 20,
   "id": "568333ee",
   "metadata": {},
   "outputs": [
    {
     "data": {
      "text/plain": [
       "array([[ 1.,  0.,  0.],\n",
       "       [ 2.,  1.,  0.],\n",
       "       [-1.,  1.,  1.]])"
      ]
     },
     "execution_count": 20,
     "metadata": {},
     "output_type": "execute_result"
    }
   ],
   "source": [
    "L"
   ]
  },
  {
   "cell_type": "code",
   "execution_count": 21,
   "id": "bd813d50",
   "metadata": {},
   "outputs": [
    {
     "data": {
      "text/plain": [
       "array([[ 2,  4, -2],\n",
       "       [ 0,  1,  1],\n",
       "       [ 0,  0,  4]])"
      ]
     },
     "execution_count": 21,
     "metadata": {},
     "output_type": "execute_result"
    }
   ],
   "source": [
    "U"
   ]
  },
  {
   "cell_type": "code",
   "execution_count": 22,
   "id": "da8d0f4c",
   "metadata": {},
   "outputs": [
    {
     "data": {
      "text/plain": [
       "array([[0., 0., 0.],\n",
       "       [0., 0., 0.],\n",
       "       [0., 0., 0.]])"
      ]
     },
     "execution_count": 22,
     "metadata": {},
     "output_type": "execute_result"
    }
   ],
   "source": [
    "# check that L times U equals A\n",
    "L.dot(U) - A"
   ]
  },
  {
   "cell_type": "markdown",
   "id": "6c9fbbef",
   "metadata": {},
   "source": [
    "Let us time our three LU functions"
   ]
  },
  {
   "cell_type": "code",
   "execution_count": 26,
   "id": "19251172",
   "metadata": {},
   "outputs": [],
   "source": [
    "# n x n random matrix\n",
    "n = 500\n",
    "A = np.random.randn(n,n)"
   ]
  },
  {
   "cell_type": "code",
   "execution_count": 27,
   "id": "dc8ff951",
   "metadata": {},
   "outputs": [
    {
     "name": "stdout",
     "output_type": "stream",
     "text": [
      "36.1 s ± 307 ms per loop (mean ± std. dev. of 7 runs, 1 loop each)\n"
     ]
    }
   ],
   "source": [
    "%%timeit\n",
    "my_lu_3loops(A)"
   ]
  },
  {
   "cell_type": "code",
   "execution_count": 28,
   "id": "decfb67e",
   "metadata": {},
   "outputs": [
    {
     "name": "stdout",
     "output_type": "stream",
     "text": [
      "981 ms ± 16.9 ms per loop (mean ± std. dev. of 7 runs, 1 loop each)\n"
     ]
    }
   ],
   "source": [
    "%%timeit\n",
    "my_lu_2loops(A)"
   ]
  },
  {
   "cell_type": "code",
   "execution_count": 29,
   "id": "30b15f3c",
   "metadata": {},
   "outputs": [
    {
     "name": "stdout",
     "output_type": "stream",
     "text": [
      "343 ms ± 16.9 ms per loop (mean ± std. dev. of 7 runs, 1 loop each)\n"
     ]
    }
   ],
   "source": [
    "%%timeit\n",
    "my_lu(A)"
   ]
  },
  {
   "cell_type": "markdown",
   "id": "697686c1",
   "metadata": {},
   "source": [
    "## Solving linear systems Ax=b by using the LU factorization"
   ]
  },
  {
   "cell_type": "code",
   "execution_count": 30,
   "id": "7567dfd8",
   "metadata": {},
   "outputs": [],
   "source": [
    "def my_solve(A,b):\n",
    "    'this function solves Ax=b'\n",
    "\n",
    "    # size of the problem\n",
    "    n = len(b)\n",
    "    \n",
    "    # initialize vectors x and y\n",
    "    y = np.zeros(n)\n",
    "    x = np.zeros(n)\n",
    "\n",
    "    # compute LU factorization\n",
    "    L,U = my_lu(A)\n",
    "\n",
    "    # solve Ly = b\n",
    "    for i in range(n):\n",
    "        y[i] = b[i] - L[i,0:i].dot(y[0:i])\n",
    "\n",
    "    # solve Ux = y\n",
    "    for i in reversed(range(n)): # i = n,...,1\n",
    "        x[i] = (y[i] - U[i,i+1:n].dot(x[i+1:n]))/U[i,i]\n",
    "\n",
    "    return x"
   ]
  },
  {
   "cell_type": "code",
   "execution_count": 31,
   "id": "06fed95e",
   "metadata": {},
   "outputs": [],
   "source": [
    "def my_solve_lu(L,U,b):\n",
    "    'this function solves Ax=b given the LU factorization of A'\n",
    "\n",
    "    # size of the problem\n",
    "    n = len(b)\n",
    "    \n",
    "    # initialize vectors x and y\n",
    "    y = np.zeros(n)\n",
    "    x = np.zeros(n)\n",
    "\n",
    "\n",
    "    # solve Ly = b\n",
    "    for i in range(n):\n",
    "        y[i] = b[i] - L[i,0:i].dot(y[0:i])\n",
    "\n",
    "    # solve Ux = y\n",
    "    for i in reversed(range(n)): # i = n,...,1\n",
    "        x[i] = (y[i] - U[i,i+1:n].dot(x[i+1:n]))/U[i,i]\n",
    "\n",
    "    return x"
   ]
  },
  {
   "cell_type": "code",
   "execution_count": 38,
   "id": "13c8571b",
   "metadata": {},
   "outputs": [],
   "source": [
    "# small 3 x 3 random linear system\n",
    "A = np.random.randn(3,3)\n",
    "b = np.random.randn(3)"
   ]
  },
  {
   "cell_type": "code",
   "execution_count": 39,
   "id": "d57664ce",
   "metadata": {},
   "outputs": [
    {
     "data": {
      "text/plain": [
       "array([-2.92336184,  6.59144829, -7.89428344])"
      ]
     },
     "execution_count": 39,
     "metadata": {},
     "output_type": "execute_result"
    }
   ],
   "source": [
    "my_solve(A,b)"
   ]
  },
  {
   "cell_type": "code",
   "execution_count": 42,
   "id": "016638bf",
   "metadata": {},
   "outputs": [
    {
     "data": {
      "text/plain": [
       "array([-2.92336184,  6.59144829, -7.89428344])"
      ]
     },
     "execution_count": 42,
     "metadata": {},
     "output_type": "execute_result"
    }
   ],
   "source": [
    "L,U = my_lu(A)\n",
    "my_solve_lu(L,U,b)"
   ]
  },
  {
   "cell_type": "code",
   "execution_count": 43,
   "id": "51af0672",
   "metadata": {},
   "outputs": [
    {
     "data": {
      "text/plain": [
       "array([-2.92336184,  6.59144829, -7.89428344])"
      ]
     },
     "execution_count": 43,
     "metadata": {},
     "output_type": "execute_result"
    }
   ],
   "source": [
    "# NumPy built-in function\n",
    "np.linalg.solve(A,b)"
   ]
  },
  {
   "cell_type": "markdown",
   "id": "07467804",
   "metadata": {},
   "source": [
    "## Same matrix A, multiple right-hand side vectors"
   ]
  },
  {
   "cell_type": "code",
   "execution_count": 44,
   "id": "af4fc8e0",
   "metadata": {},
   "outputs": [],
   "source": [
    "# matrix A\n",
    "A = np.random.randn(500,500)\n",
    "# 10 right-hand side vectors\n",
    "B = np.random.randn(500,10)"
   ]
  },
  {
   "cell_type": "code",
   "execution_count": 45,
   "id": "a6a5cca8",
   "metadata": {},
   "outputs": [
    {
     "name": "stdout",
     "output_type": "stream",
     "text": [
      "3.3 s ± 50.7 ms per loop (mean ± std. dev. of 7 runs, 1 loop each)\n"
     ]
    }
   ],
   "source": [
    "%%timeit\n",
    "for i in range(10):\n",
    "    my_solve(A,B[:,i])"
   ]
  },
  {
   "cell_type": "code",
   "execution_count": 46,
   "id": "c261006d",
   "metadata": {},
   "outputs": [
    {
     "name": "stdout",
     "output_type": "stream",
     "text": [
      "354 ms ± 5.8 ms per loop (mean ± std. dev. of 7 runs, 1 loop each)\n"
     ]
    }
   ],
   "source": [
    "%%timeit\n",
    "L,U = my_lu(A) # we compute LU factorization once\n",
    "for i in range(10):\n",
    "    my_solve_lu(L,U,B[:,i]) # then, we use the LU factorization to solve the linear systems"
   ]
  },
  {
   "cell_type": "markdown",
   "id": "1e73a6d2",
   "metadata": {},
   "source": [
    "## Numerical instability example"
   ]
  },
  {
   "cell_type": "code",
   "execution_count": 47,
   "id": "c4daa6a1",
   "metadata": {},
   "outputs": [
    {
     "data": {
      "text/plain": [
       "array([[1.e-16, 1.e+00],\n",
       "       [1.e+00, 1.e+00]])"
      ]
     },
     "execution_count": 47,
     "metadata": {},
     "output_type": "execute_result"
    }
   ],
   "source": [
    "# the matrix A has a small pivot\n",
    "e = 1e-16 \n",
    "A = np.array([[e,1],[1,1]])\n",
    "A"
   ]
  },
  {
   "cell_type": "code",
   "execution_count": 48,
   "id": "dbcc7fb8",
   "metadata": {},
   "outputs": [],
   "source": [
    "# the computed L and U factors are close to the exact ones (we computed those by hand in class)\n",
    "L, U = my_lu(A)"
   ]
  },
  {
   "cell_type": "code",
   "execution_count": 49,
   "id": "f71350d7",
   "metadata": {},
   "outputs": [
    {
     "data": {
      "text/plain": [
       "array([[1.e+00, 0.e+00],\n",
       "       [1.e+16, 1.e+00]])"
      ]
     },
     "execution_count": 49,
     "metadata": {},
     "output_type": "execute_result"
    }
   ],
   "source": [
    "L"
   ]
  },
  {
   "cell_type": "code",
   "execution_count": 50,
   "id": "5ee203d7",
   "metadata": {},
   "outputs": [
    {
     "data": {
      "text/plain": [
       "array([[ 1.e-16,  1.e+00],\n",
       "       [ 0.e+00, -1.e+16]])"
      ]
     },
     "execution_count": 50,
     "metadata": {},
     "output_type": "execute_result"
    }
   ],
   "source": [
    "U"
   ]
  },
  {
   "cell_type": "code",
   "execution_count": 52,
   "id": "873e2beb",
   "metadata": {},
   "outputs": [
    {
     "data": {
      "text/plain": [
       "array([[ 0.,  0.],\n",
       "       [ 0., -1.]])"
      ]
     },
     "execution_count": 52,
     "metadata": {},
     "output_type": "execute_result"
    }
   ],
   "source": [
    "# but L times U is not close to A !!!!\n",
    "L.dot(U) - A"
   ]
  },
  {
   "cell_type": "code",
   "execution_count": 53,
   "id": "bd14e2b0",
   "metadata": {},
   "outputs": [],
   "source": [
    "# if we try to solve a linear system with the computed L and U factors...\n",
    "b = np.array([1,0])"
   ]
  },
  {
   "cell_type": "code",
   "execution_count": 55,
   "id": "8c93dede",
   "metadata": {},
   "outputs": [
    {
     "data": {
      "text/plain": [
       "array([0., 1.])"
      ]
     },
     "execution_count": 55,
     "metadata": {},
     "output_type": "execute_result"
    }
   ],
   "source": [
    "# by using our function\n",
    "my_solve_lu(L,U,b)"
   ]
  },
  {
   "cell_type": "code",
   "execution_count": 56,
   "id": "2fc530e1",
   "metadata": {},
   "outputs": [
    {
     "data": {
      "text/plain": [
       "array([-1.,  1.])"
      ]
     },
     "execution_count": 56,
     "metadata": {},
     "output_type": "execute_result"
    }
   ],
   "source": [
    "# by using NumPy built-in function\n",
    "np.linalg.solve(A,b)"
   ]
  },
  {
   "cell_type": "code",
   "execution_count": 57,
   "id": "4211d13c",
   "metadata": {},
   "outputs": [],
   "source": [
    "# which solution is correct?? "
   ]
  },
  {
   "cell_type": "markdown",
   "id": "757addd1",
   "metadata": {},
   "source": [
    "## Gaussian Elimination with Partial Pivoting"
   ]
  },
  {
   "cell_type": "markdown",
   "id": "c2288f8f",
   "metadata": {},
   "source": [
    "We can use vectors to store permutation matrices"
   ]
  },
  {
   "cell_type": "code",
   "execution_count": 58,
   "id": "9b1a7f48",
   "metadata": {},
   "outputs": [
    {
     "data": {
      "text/plain": [
       "array([[ 0,  1,  2,  3],\n",
       "       [ 4,  5,  6,  7],\n",
       "       [ 8,  9, 10, 11],\n",
       "       [12, 13, 14, 15]])"
      ]
     },
     "execution_count": 58,
     "metadata": {},
     "output_type": "execute_result"
    }
   ],
   "source": [
    "A = np.arange(16).reshape(4,4)\n",
    "A"
   ]
  },
  {
   "cell_type": "code",
   "execution_count": 59,
   "id": "21a497c2",
   "metadata": {},
   "outputs": [
    {
     "data": {
      "text/plain": [
       "array([[12, 13, 14, 15],\n",
       "       [ 8,  9, 10, 11],\n",
       "       [ 4,  5,  6,  7],\n",
       "       [ 0,  1,  2,  3]])"
      ]
     },
     "execution_count": 59,
     "metadata": {},
     "output_type": "execute_result"
    }
   ],
   "source": [
    "p = [3,2,1,0] # row order\n",
    "A[p]"
   ]
  },
  {
   "cell_type": "code",
   "execution_count": 60,
   "id": "297daea3",
   "metadata": {},
   "outputs": [
    {
     "data": {
      "text/plain": [
       "array([[ 8,  9, 10, 11],\n",
       "       [ 4,  5,  6,  7],\n",
       "       [12, 13, 14, 15],\n",
       "       [ 0,  1,  2,  3]])"
      ]
     },
     "execution_count": 60,
     "metadata": {},
     "output_type": "execute_result"
    }
   ],
   "source": [
    "p = [2,1,3,0]\n",
    "A[p]"
   ]
  },
  {
   "cell_type": "code",
   "execution_count": 108,
   "id": "d769c9fe",
   "metadata": {},
   "outputs": [],
   "source": [
    "def my_lu(A,pivoting=None):\n",
    "    \n",
    "    \"\"\"\n",
    "    This function factors A = LU (if pivoting=None; default) or PA = LU (if pivoting='partial')\n",
    "    INPUT:\n",
    "        matrix A\n",
    "    OUTPUT:\n",
    "        permutation vector p (if pivoting == 'partial')\n",
    "        lower triangular factor L\n",
    "        upper triangular factor U\n",
    "    \"\"\"\n",
    "    \n",
    "    n,m = A.shape # size of matrix A\n",
    "    if m!=n: # check if A is square\n",
    "        print('WARNING: A must be a square matrix') # print a warning massage\n",
    "        return  \n",
    "    \n",
    "    # initialize factors L and U\n",
    "    U = A.copy()\n",
    "    L = np.identity(n)\n",
    "    \n",
    "    # initialize permutation vector p = [0,1,...,n-1]\n",
    "    if pivoting == 'partial':\n",
    "        p = np.arange(n)\n",
    "    \n",
    "    # GAUSSIAN ELIMINATION \n",
    "    for i in range(n):  # loop over columns 1,...,n (first loop)\n",
    "        if pivoting=='partial':\n",
    "            # Find the entry with largest absolute value\n",
    "            row2swap = i + np.argmax(np.abs(U[i:n,i]))\n",
    "            # swap rows of U\n",
    "            U[[row2swap,i],i:n] = U[[i,row2swap],i:n]\n",
    "            # swap multipliers\n",
    "            L[[row2swap,i],0:i] = L[[i,row2swap],0:i] \n",
    "            # update permutation vector p\n",
    "            p[[row2swap,i]]=p[[i,row2swap]]\n",
    "        # multipliers \n",
    "        L[i+1:n,i] = U[i+1:n,i]/U[i,i] \n",
    "        # update U\n",
    "        U[i+1:n,i] = 0 \n",
    "        U[i+1:n,i+1:n] = U[i+1:n,i+1:n] - np.outer(L[i+1:n,i],U[i,i+1:n]) # update U\n",
    "    \n",
    "    if pivoting=='partial':\n",
    "        return L,U,p\n",
    "    else:\n",
    "        return L,U"
   ]
  },
  {
   "cell_type": "code",
   "execution_count": 99,
   "id": "a6beba6f",
   "metadata": {},
   "outputs": [
    {
     "data": {
      "text/plain": [
       "array([[ 2,  4, -2],\n",
       "       [ 4,  9, -3],\n",
       "       [-2, -3,  7]])"
      ]
     },
     "execution_count": 99,
     "metadata": {},
     "output_type": "execute_result"
    }
   ],
   "source": [
    "A = np.array([[2,4,-2],[4,9,-3],[-2,-3,7]])\n",
    "A"
   ]
  },
  {
   "cell_type": "code",
   "execution_count": 100,
   "id": "f7c5fd83",
   "metadata": {},
   "outputs": [
    {
     "data": {
      "text/plain": [
       "dtype('int32')"
      ]
     },
     "execution_count": 100,
     "metadata": {},
     "output_type": "execute_result"
    }
   ],
   "source": [
    "A.dtype # integers"
   ]
  },
  {
   "cell_type": "code",
   "execution_count": 101,
   "id": "33106001",
   "metadata": {
    "scrolled": true
   },
   "outputs": [
    {
     "data": {
      "text/plain": [
       "array([0, 1, 0])"
      ]
     },
     "execution_count": 101,
     "metadata": {},
     "output_type": "execute_result"
    }
   ],
   "source": [
    "# row perations with integer arithmetic...\n",
    "A[0] = A[0]/3 # Python converts everything into an interer\n",
    "A[0]"
   ]
  },
  {
   "cell_type": "code",
   "execution_count": 94,
   "id": "506c8a3b",
   "metadata": {},
   "outputs": [
    {
     "data": {
      "text/plain": [
       "array([[ 2.,  4., -2.],\n",
       "       [ 4.,  9., -3.],\n",
       "       [-2., -3.,  7.]])"
      ]
     },
     "execution_count": 94,
     "metadata": {},
     "output_type": "execute_result"
    }
   ],
   "source": [
    "# cast A as a matrix of floats\n",
    "A = A.astype('float')\n",
    "A"
   ]
  },
  {
   "cell_type": "code",
   "execution_count": 80,
   "id": "f70d95a3",
   "metadata": {},
   "outputs": [],
   "source": [
    "L,U,p = my_lu(A,pivoting='partial')"
   ]
  },
  {
   "cell_type": "code",
   "execution_count": 81,
   "id": "a8cccbcc",
   "metadata": {},
   "outputs": [
    {
     "data": {
      "text/plain": [
       "array([[ 1.        ,  0.        ,  0.        ],\n",
       "       [-0.5       ,  1.        ,  0.        ],\n",
       "       [ 0.5       , -0.33333333,  1.        ]])"
      ]
     },
     "execution_count": 81,
     "metadata": {},
     "output_type": "execute_result"
    }
   ],
   "source": [
    "L"
   ]
  },
  {
   "cell_type": "code",
   "execution_count": 82,
   "id": "e01276a4",
   "metadata": {},
   "outputs": [
    {
     "data": {
      "text/plain": [
       "array([[ 4.        ,  9.        , -3.        ],\n",
       "       [ 0.        ,  1.5       ,  5.5       ],\n",
       "       [ 0.        ,  0.        ,  1.33333333]])"
      ]
     },
     "execution_count": 82,
     "metadata": {},
     "output_type": "execute_result"
    }
   ],
   "source": [
    "U"
   ]
  },
  {
   "cell_type": "code",
   "execution_count": 83,
   "id": "d6c5eb00",
   "metadata": {},
   "outputs": [
    {
     "data": {
      "text/plain": [
       "array([[ 0.00000000e+00,  0.00000000e+00,  0.00000000e+00],\n",
       "       [ 0.00000000e+00,  0.00000000e+00,  0.00000000e+00],\n",
       "       [ 0.00000000e+00,  0.00000000e+00, -2.22044605e-16]])"
      ]
     },
     "execution_count": 83,
     "metadata": {},
     "output_type": "execute_result"
    }
   ],
   "source": [
    "# check that PA = LU\n",
    "A[p] - L.dot(U)"
   ]
  },
  {
   "cell_type": "markdown",
   "id": "82de215a",
   "metadata": {},
   "source": [
    "## Solving linear systems by using PA = LU"
   ]
  },
  {
   "cell_type": "code",
   "execution_count": 117,
   "id": "bf26c750",
   "metadata": {},
   "outputs": [],
   "source": [
    "def my_solve(A,b,pivoting=None):\n",
    "    'this function solves Ax=b'\n",
    "\n",
    "    # size of the problem\n",
    "    n = len(b)\n",
    "    \n",
    "    # initialize vectors x and y\n",
    "    y = np.zeros(n)\n",
    "    x = np.zeros(n)\n",
    "    \n",
    "    if pivoting==None:\n",
    "        # compute LU factorization\n",
    "        L,U = my_lu(A,pivoting)\n",
    "        # don't permute b\n",
    "        bp = b\n",
    "    else:\n",
    "        L,U,p = my_lu(A,pivoting)\n",
    "        # permute b\n",
    "        bp = b[p]\n",
    "\n",
    "    # solve Ly = bp\n",
    "    for i in range(n):\n",
    "        y[i] = bp[i] - L[i,0:i].dot(y[0:i])\n",
    "\n",
    "    # solve Ux = y\n",
    "    for i in reversed(range(n)): # i = n,...,1\n",
    "        x[i] = (y[i] - U[i,i+1:n].dot(x[i+1:n]))/U[i,i]\n",
    "\n",
    "    return x"
   ]
  },
  {
   "cell_type": "code",
   "execution_count": 118,
   "id": "f19b2e22",
   "metadata": {},
   "outputs": [],
   "source": [
    "A = np.array([[1e-16,1],[1,1]])\n",
    "b = np.array([1,0])"
   ]
  },
  {
   "cell_type": "code",
   "execution_count": 119,
   "id": "911fabd2",
   "metadata": {},
   "outputs": [
    {
     "data": {
      "text/plain": [
       "array([0., 1.])"
      ]
     },
     "execution_count": 119,
     "metadata": {},
     "output_type": "execute_result"
    }
   ],
   "source": [
    "my_solve(A,b,pivoting=None)"
   ]
  },
  {
   "cell_type": "code",
   "execution_count": 120,
   "id": "d0d5a46b",
   "metadata": {},
   "outputs": [
    {
     "data": {
      "text/plain": [
       "array([-1.,  1.])"
      ]
     },
     "execution_count": 120,
     "metadata": {},
     "output_type": "execute_result"
    }
   ],
   "source": [
    "my_solve(A,b,pivoting='partial')"
   ]
  },
  {
   "cell_type": "code",
   "execution_count": 121,
   "id": "30ee4cfc",
   "metadata": {},
   "outputs": [
    {
     "data": {
      "text/plain": [
       "array([-1.,  1.])"
      ]
     },
     "execution_count": 121,
     "metadata": {},
     "output_type": "execute_result"
    }
   ],
   "source": [
    "np.linalg.solve(A,b)"
   ]
  },
  {
   "cell_type": "code",
   "execution_count": 123,
   "id": "5b5402c5",
   "metadata": {},
   "outputs": [
    {
     "name": "stdout",
     "output_type": "stream",
     "text": [
      "5000\n",
      "7500\n",
      "10000\n",
      "12500\n",
      "15000\n"
     ]
    }
   ],
   "source": [
    "# timing GEPP\n",
    "import time\n",
    "n_list = [5000,7500,10000,12500,15000]\n",
    "t = []\n",
    "for n in n_list:\n",
    "    A = np.random.randn(n,n)\n",
    "    b = np.random.randn(n)\n",
    "    start = time.time()\n",
    "    x = np.linalg.solve(A,b)\n",
    "    stop = time.time()\n",
    "    t.append(stop-start)\n",
    "    print(n)"
   ]
  },
  {
   "cell_type": "code",
   "execution_count": 125,
   "id": "54b874df",
   "metadata": {},
   "outputs": [
    {
     "data": {
      "text/plain": [
       "[<matplotlib.lines.Line2D at 0x1a904f90f40>]"
      ]
     },
     "execution_count": 125,
     "metadata": {},
     "output_type": "execute_result"
    },
    {
     "data": {
      "image/png": "[encoded data removed]",
      "text/plain": [
       "<Figure size 432x288 with 1 Axes>"
      ]
     },
     "metadata": {
      "needs_background": "light"
     },
     "output_type": "display_data"
    }
   ],
   "source": [
    "import matplotlib.pyplot as plt\n",
    "plt.loglog(n_list,t,'o-')"
   ]
  },
  {
   "cell_type": "code",
   "execution_count": 126,
   "id": "77b6932a",
   "metadata": {},
   "outputs": [
    {
     "data": {
      "text/plain": [
       "2.8574262806615898"
      ]
     },
     "execution_count": 126,
     "metadata": {},
     "output_type": "execute_result"
    }
   ],
   "source": [
    "# slope (should be close to 3)\n",
    "(np.log(t[4])-np.log(t[1]))/(np.log(n_list[4])-np.log(n_list[1]))"
   ]
  },
  {
   "cell_type": "code",
   "execution_count": 1,
   "id": "d838db9b",
   "metadata": {},
   "outputs": [],
   "source": [
    "def my_solve_plu(L,U,p,b,pivoting=None):\n",
    "    'given PA = LU, this function solves Ax=b'\n",
    "\n",
    "    # size of the problem\n",
    "    n = len(b)\n",
    "    \n",
    "    # initialize vectors x and y\n",
    "    y = np.zeros(n)\n",
    "    x = np.zeros(n)\n",
    "    \n",
    "    # permute b\n",
    "    bp = b[p]\n",
    "\n",
    "    # solve Ly = bp\n",
    "    for i in range(n):\n",
    "        y[i] = bp[i] - L[i,0:i].dot(y[0:i])\n",
    "\n",
    "    # solve Ux = y\n",
    "    for i in reversed(range(n)): # i = n,...,1\n",
    "        x[i] = (y[i] - U[i,i+1:n].dot(x[i+1:n]))/U[i,i]\n",
    "\n",
    "    return x"
   ]
  }
 ],
 "metadata": {
  "kernelspec": {
   "display_name": "Python 3 (ipykernel)",
   "language": "python",
   "name": "python3"
  },
  "language_info": {
   "codemirror_mode": {
    "name": "ipython",
    "version": 3
   },
   "file_extension": ".py",
   "mimetype": "text/x-python",
   "name": "python",
   "nbconvert_exporter": "python",
   "pygments_lexer": "ipython3",
   "version": "3.9.12"
  }
 },
 "nbformat": 4,
 "nbformat_minor": 5
}
