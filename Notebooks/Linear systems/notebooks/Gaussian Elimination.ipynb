{
 "cells": [
  {
   "cell_type": "code",
   "execution_count": 5,
   "id": "7f0154af",
   "metadata": {},
   "outputs": [],
   "source": [
    "import numpy as np"
   ]
  },
  {
   "cell_type": "markdown",
   "id": "0595d945",
   "metadata": {},
   "source": [
    "# Gaussian Elimination"
   ]
  },
  {
   "cell_type": "markdown",
   "id": "05b63707",
   "metadata": {},
   "source": [
    "## LU factorization"
   ]
  },
  {
   "cell_type": "code",
   "execution_count": 6,
   "id": "73311799",
   "metadata": {},
   "outputs": [
    {
     "data": {
      "text/plain": [
       "array([[ 2,  4, -2],\n",
       "       [ 4,  9, -3],\n",
       "       [-2, -3,  7]])"
      ]
     },
     "execution_count": 6,
     "metadata": {},
     "output_type": "execute_result"
    }
   ],
   "source": [
    "A = np.array([[2,4,-2],[4,9,-3],[-2,-3,7]])\n",
    "A"
   ]
  },
  {
   "cell_type": "code",
   "execution_count": 8,
   "id": "1fa16ae8",
   "metadata": {},
   "outputs": [],
   "source": [
    "def my_lu_3loops(A):\n",
    "    'this function factors A into lower L x upper U. It uses 3 nested for-loops'\n",
    "    \n",
    "    # size of A\n",
    "    m,n=A.shape\n",
    "    # check if A is square\n",
    "    if m!=n:\n",
    "        print('WARNING: A must be a square matrix')\n",
    "        return\n",
    "    \n",
    "    # initialize U and L factors\n",
    "    L = np.eye(n) # nxn identity matrix\n",
    "    U = A.copy()\n",
    "    \n",
    "    # Gaussian Elimination steps\n",
    "    for i in range(n):\n",
    "        # loop over rows i+1,...,n\n",
    "        for j in range(i+1,n):\n",
    "            # compute the multiplier\n",
    "            L[j,i] = U[j,i]/U[i,i]\n",
    "            # update U\n",
    "            U[j,i] = 0\n",
    "            for k in range(i+1,n):\n",
    "                U[j,k] = U[j,k] - L[j,i]*U[i,k]\n",
    "    return L,U"
   ]
  },
  {
   "cell_type": "code",
   "execution_count": 9,
   "id": "ab5d9ef8",
   "metadata": {},
   "outputs": [],
   "source": [
    "# check that the function works\n",
    "L,U = my_lu_3loops(A)"
   ]
  },
  {
   "cell_type": "code",
   "execution_count": 10,
   "id": "8002e334",
   "metadata": {},
   "outputs": [
    {
     "data": {
      "text/plain": [
       "array([[ 1.,  0.,  0.],\n",
       "       [ 2.,  1.,  0.],\n",
       "       [-1.,  1.,  1.]])"
      ]
     },
     "execution_count": 10,
     "metadata": {},
     "output_type": "execute_result"
    }
   ],
   "source": [
    "L"
   ]
  },
  {
   "cell_type": "code",
   "execution_count": 11,
   "id": "94668661",
   "metadata": {},
   "outputs": [
    {
     "data": {
      "text/plain": [
       "array([[ 2,  4, -2],\n",
       "       [ 0,  1,  1],\n",
       "       [ 0,  0,  4]])"
      ]
     },
     "execution_count": 11,
     "metadata": {},
     "output_type": "execute_result"
    }
   ],
   "source": [
    "U"
   ]
  },
  {
   "cell_type": "code",
   "execution_count": 12,
   "id": "c4949acf",
   "metadata": {},
   "outputs": [
    {
     "data": {
      "text/plain": [
       "array([[0., 0., 0.],\n",
       "       [0., 0., 0.],\n",
       "       [0., 0., 0.]])"
      ]
     },
     "execution_count": 12,
     "metadata": {},
     "output_type": "execute_result"
    }
   ],
   "source": [
    "# check that L times U equals A\n",
    "L.dot(U) - A"
   ]
  },
  {
   "cell_type": "code",
   "execution_count": 13,
   "id": "68192901",
   "metadata": {},
   "outputs": [],
   "source": [
    "def my_lu_2loops(A):\n",
    "    'this function factors A into lower L x upper U. It uses 2 nested for-loops'\n",
    "    \n",
    "    # size of A\n",
    "    m,n=A.shape\n",
    "    # check if A is square\n",
    "    if m!=n:\n",
    "        print('WARNING: A must be a square matrix')\n",
    "        return\n",
    "    \n",
    "    # initialize U and L factors\n",
    "    L = np.eye(n) # nxn identity matrix\n",
    "    U = A.copy()\n",
    "    \n",
    "    # Gaussian Elimination steps\n",
    "    for i in range(n):\n",
    "        # loop over rows i+1,...,n\n",
    "        for j in range(i+1,n):\n",
    "            # compute the multiplier\n",
    "            L[j,i] = U[j,i]/U[i,i]\n",
    "            # update U\n",
    "            U[j,i] = 0\n",
    "            U[j,i+1:n] = U[j,i+1:n] - L[j,i]*U[i,i+1:n]\n",
    "    return L,U"
   ]
  },
  {
   "cell_type": "code",
   "execution_count": 14,
   "id": "bac31da4",
   "metadata": {},
   "outputs": [],
   "source": [
    "# check that the function works\n",
    "L,U = my_lu_2loops(A)"
   ]
  },
  {
   "cell_type": "code",
   "execution_count": 15,
   "id": "1c171c97",
   "metadata": {},
   "outputs": [
    {
     "data": {
      "text/plain": [
       "array([[ 1.,  0.,  0.],\n",
       "       [ 2.,  1.,  0.],\n",
       "       [-1.,  1.,  1.]])"
      ]
     },
     "execution_count": 15,
     "metadata": {},
     "output_type": "execute_result"
    }
   ],
   "source": [
    "L"
   ]
  },
  {
   "cell_type": "code",
   "execution_count": 16,
   "id": "3257dabb",
   "metadata": {},
   "outputs": [
    {
     "data": {
      "text/plain": [
       "array([[ 2,  4, -2],\n",
       "       [ 0,  1,  1],\n",
       "       [ 0,  0,  4]])"
      ]
     },
     "execution_count": 16,
     "metadata": {},
     "output_type": "execute_result"
    }
   ],
   "source": [
    "U"
   ]
  },
  {
   "cell_type": "code",
   "execution_count": 17,
   "id": "b8e44556",
   "metadata": {},
   "outputs": [
    {
     "data": {
      "text/plain": [
       "array([[0., 0., 0.],\n",
       "       [0., 0., 0.],\n",
       "       [0., 0., 0.]])"
      ]
     },
     "execution_count": 17,
     "metadata": {},
     "output_type": "execute_result"
    }
   ],
   "source": [
    "# check that L times U equals A\n",
    "L.dot(U) - A"
   ]
  },
  {
   "cell_type": "code",
   "execution_count": 18,
   "id": "68807fd7",
   "metadata": {},
   "outputs": [],
   "source": [
    "def my_lu(A,pivoting=None):\n",
    "    'this function factors A into lower L x upper U. It uses 1 for-loop'\n",
    "    \n",
    "    n,m = A.shape # size of matrix A\n",
    "    if m!=n: # check if A is square\n",
    "        print('WARNING: A must be a square matrix') # print a warning massage\n",
    "        return  \n",
    "    \n",
    "    # initialize U and L factors\n",
    "    U = A.copy()\n",
    "    L = np.identity(n)\n",
    "    \n",
    "    \n",
    "    # Gaussian Elimination steps\n",
    "    for i in range(n): \n",
    "        # multipliers \n",
    "        L[i+1:n,i] = U[i+1:n,i]/U[i,i] \n",
    "        # update U\n",
    "        U[i+1:n,i] = 0 \n",
    "        U[i+1:n,i+1:n] = U[i+1:n,i+1:n] - np.outer(L[i+1:n,i],U[i,i+1:n]) # update U\n",
    "\n",
    "    return L,U"
   ]
  },
  {
   "cell_type": "code",
   "execution_count": 19,
   "id": "d2faa4c4",
   "metadata": {},
   "outputs": [],
   "source": [
    "# check that the function works\n",
    "L,U = my_lu(A)"
   ]
  },
  {
   "cell_type": "code",
   "execution_count": 20,
   "id": "05d63479",
   "metadata": {},
   "outputs": [
    {
     "data": {
      "text/plain": [
       "array([[ 1.,  0.,  0.],\n",
       "       [ 2.,  1.,  0.],\n",
       "       [-1.,  1.,  1.]])"
      ]
     },
     "execution_count": 20,
     "metadata": {},
     "output_type": "execute_result"
    }
   ],
   "source": [
    "L"
   ]
  },
  {
   "cell_type": "code",
   "execution_count": 21,
   "id": "24d57b58",
   "metadata": {},
   "outputs": [
    {
     "data": {
      "text/plain": [
       "array([[ 2,  4, -2],\n",
       "       [ 0,  1,  1],\n",
       "       [ 0,  0,  4]])"
      ]
     },
     "execution_count": 21,
     "metadata": {},
     "output_type": "execute_result"
    }
   ],
   "source": [
    "U"
   ]
  },
  {
   "cell_type": "code",
   "execution_count": 22,
   "id": "3a4303d8",
   "metadata": {},
   "outputs": [
    {
     "data": {
      "text/plain": [
       "array([[0., 0., 0.],\n",
       "       [0., 0., 0.],\n",
       "       [0., 0., 0.]])"
      ]
     },
     "execution_count": 22,
     "metadata": {},
     "output_type": "execute_result"
    }
   ],
   "source": [
    "# check that L times U equals A\n",
    "L.dot(U) - A"
   ]
  },
  {
   "cell_type": "markdown",
   "id": "b93e55c9",
   "metadata": {},
   "source": [
    "Let us time our three LU functions"
   ]
  },
  {
   "cell_type": "code",
   "execution_count": 26,
   "id": "abd47985",
   "metadata": {},
   "outputs": [],
   "source": [
    "# n x n random matrix\n",
    "n = 500\n",
    "A = np.random.randn(n,n)"
   ]
  },
  {
   "cell_type": "code",
   "execution_count": 27,
   "id": "eb87094e",
   "metadata": {},
   "outputs": [
    {
     "name": "stdout",
     "output_type": "stream",
     "text": [
      "36.1 s ± 307 ms per loop (mean ± std. dev. of 7 runs, 1 loop each)\n"
     ]
    }
   ],
   "source": [
    "%%timeit\n",
    "my_lu_3loops(A)"
   ]
  },
  {
   "cell_type": "code",
   "execution_count": 28,
   "id": "d2e04e37",
   "metadata": {},
   "outputs": [
    {
     "name": "stdout",
     "output_type": "stream",
     "text": [
      "981 ms ± 16.9 ms per loop (mean ± std. dev. of 7 runs, 1 loop each)\n"
     ]
    }
   ],
   "source": [
    "%%timeit\n",
    "my_lu_2loops(A)"
   ]
  },
  {
   "cell_type": "code",
   "execution_count": 29,
   "id": "17cc5cc0",
   "metadata": {},
   "outputs": [
    {
     "name": "stdout",
     "output_type": "stream",
     "text": [
      "343 ms ± 16.9 ms per loop (mean ± std. dev. of 7 runs, 1 loop each)\n"
     ]
    }
   ],
   "source": [
    "%%timeit\n",
    "my_lu(A)"
   ]
  },
  {
   "cell_type": "markdown",
   "id": "6b2d312f",
   "metadata": {},
   "source": [
    "## Solving linear systems Ax=b by using the LU factorization"
   ]
  },
  {
   "cell_type": "code",
   "execution_count": 30,
   "id": "a2bb5ba5",
   "metadata": {},
   "outputs": [],
   "source": [
    "def my_solve(A,b):\n",
    "    'this function solves Ax=b'\n",
    "\n",
    "    # size of the problem\n",
    "    n = len(b)\n",
    "    \n",
    "    # initialize vectors x and y\n",
    "    y = np.zeros(n)\n",
    "    x = np.zeros(n)\n",
    "\n",
    "    # compute LU factorization\n",
    "    L,U = my_lu(A)\n",
    "\n",
    "    # solve Ly = b\n",
    "    for i in range(n):\n",
    "        y[i] = b[i] - L[i,0:i].dot(y[0:i])\n",
    "\n",
    "    # solve Ux = y\n",
    "    for i in reversed(range(n)): # i = n,...,1\n",
    "        x[i] = (y[i] - U[i,i+1:n].dot(x[i+1:n]))/U[i,i]\n",
    "\n",
    "    return x"
   ]
  },
  {
   "cell_type": "code",
   "execution_count": 31,
   "id": "eb4221d1",
   "metadata": {},
   "outputs": [],
   "source": [
    "def my_solve_lu(L,U,b):\n",
    "    'this function solves Ax=b given the LU factorization of A'\n",
    "\n",
    "    # size of the problem\n",
    "    n = len(b)\n",
    "    \n",
    "    # initialize vectors x and y\n",
    "    y = np.zeros(n)\n",
    "    x = np.zeros(n)\n",
    "\n",
    "\n",
    "    # solve Ly = b\n",
    "    for i in range(n):\n",
    "        y[i] = b[i] - L[i,0:i].dot(y[0:i])\n",
    "\n",
    "    # solve Ux = y\n",
    "    for i in reversed(range(n)): # i = n,...,1\n",
    "        x[i] = (y[i] - U[i,i+1:n].dot(x[i+1:n]))/U[i,i]\n",
    "\n",
    "    return x"
   ]
  },
  {
   "cell_type": "code",
   "execution_count": 38,
   "id": "7c922e36",
   "metadata": {},
   "outputs": [],
   "source": [
    "# small 3 x 3 random linear system\n",
    "A = np.random.randn(3,3)\n",
    "b = np.random.randn(3)"
   ]
  },
  {
   "cell_type": "code",
   "execution_count": 39,
   "id": "b086202a",
   "metadata": {},
   "outputs": [
    {
     "data": {
      "text/plain": [
       "array([-2.92336184,  6.59144829, -7.89428344])"
      ]
     },
     "execution_count": 39,
     "metadata": {},
     "output_type": "execute_result"
    }
   ],
   "source": [
    "my_solve(A,b)"
   ]
  },
  {
   "cell_type": "code",
   "execution_count": 42,
   "id": "ab7e82e3",
   "metadata": {},
   "outputs": [
    {
     "data": {
      "text/plain": [
       "array([-2.92336184,  6.59144829, -7.89428344])"
      ]
     },
     "execution_count": 42,
     "metadata": {},
     "output_type": "execute_result"
    }
   ],
   "source": [
    "L,U = my_lu(A)\n",
    "my_solve_lu(L,U,b)"
   ]
  },
  {
   "cell_type": "code",
   "execution_count": 43,
   "id": "43d7fdf9",
   "metadata": {},
   "outputs": [
    {
     "data": {
      "text/plain": [
       "array([-2.92336184,  6.59144829, -7.89428344])"
      ]
     },
     "execution_count": 43,
     "metadata": {},
     "output_type": "execute_result"
    }
   ],
   "source": [
    "# NumPy built-in function\n",
    "np.linalg.solve(A,b)"
   ]
  },
  {
   "cell_type": "markdown",
   "id": "da585701",
   "metadata": {},
   "source": [
    "## Same matrix A, multiple right-hand side vectors"
   ]
  },
  {
   "cell_type": "code",
   "execution_count": 44,
   "id": "7d217f50",
   "metadata": {},
   "outputs": [],
   "source": [
    "# matrix A\n",
    "A = np.random.randn(500,500)\n",
    "# 10 right-hand side vectors\n",
    "B = np.random.randn(500,10)"
   ]
  },
  {
   "cell_type": "code",
   "execution_count": 45,
   "id": "614f5735",
   "metadata": {},
   "outputs": [
    {
     "name": "stdout",
     "output_type": "stream",
     "text": [
      "3.3 s ± 50.7 ms per loop (mean ± std. dev. of 7 runs, 1 loop each)\n"
     ]
    }
   ],
   "source": [
    "%%timeit\n",
    "for i in range(10):\n",
    "    my_solve(A,B[:,i])"
   ]
  },
  {
   "cell_type": "code",
   "execution_count": 46,
   "id": "9fbcb14f",
   "metadata": {},
   "outputs": [
    {
     "name": "stdout",
     "output_type": "stream",
     "text": [
      "354 ms ± 5.8 ms per loop (mean ± std. dev. of 7 runs, 1 loop each)\n"
     ]
    }
   ],
   "source": [
    "%%timeit\n",
    "L,U = my_lu(A) # we compute LU factorization once\n",
    "for i in range(10):\n",
    "    my_solve_lu(L,U,B[:,i]) # then, we use the LU factorization to solve the linear systems"
   ]
  },
  {
   "cell_type": "markdown",
   "id": "a164ad87",
   "metadata": {},
   "source": [
    "## Numerical instability example"
   ]
  },
  {
   "cell_type": "code",
   "execution_count": 47,
   "id": "118555ff",
   "metadata": {},
   "outputs": [
    {
     "data": {
      "text/plain": [
       "array([[1.e-16, 1.e+00],\n",
       "       [1.e+00, 1.e+00]])"
      ]
     },
     "execution_count": 47,
     "metadata": {},
     "output_type": "execute_result"
    }
   ],
   "source": [
    "# the matrix A has a small pivot\n",
    "e = 1e-16 \n",
    "A = np.array([[e,1],[1,1]])\n",
    "A"
   ]
  },
  {
   "cell_type": "code",
   "execution_count": 48,
   "id": "9dbb77a0",
   "metadata": {},
   "outputs": [],
   "source": [
    "# the computed L and U factors are close to the exact ones (we computed those by hand in class)\n",
    "L, U = my_lu(A)"
   ]
  },
  {
   "cell_type": "code",
   "execution_count": 49,
   "id": "e1ddbaa5",
   "metadata": {},
   "outputs": [
    {
     "data": {
      "text/plain": [
       "array([[1.e+00, 0.e+00],\n",
       "       [1.e+16, 1.e+00]])"
      ]
     },
     "execution_count": 49,
     "metadata": {},
     "output_type": "execute_result"
    }
   ],
   "source": [
    "L"
   ]
  },
  {
   "cell_type": "code",
   "execution_count": 50,
   "id": "99e58e5f",
   "metadata": {},
   "outputs": [
    {
     "data": {
      "text/plain": [
       "array([[ 1.e-16,  1.e+00],\n",
       "       [ 0.e+00, -1.e+16]])"
      ]
     },
     "execution_count": 50,
     "metadata": {},
     "output_type": "execute_result"
    }
   ],
   "source": [
    "U"
   ]
  },
  {
   "cell_type": "code",
   "execution_count": 52,
   "id": "ae1475a1",
   "metadata": {},
   "outputs": [
    {
     "data": {
      "text/plain": [
       "array([[ 0.,  0.],\n",
       "       [ 0., -1.]])"
      ]
     },
     "execution_count": 52,
     "metadata": {},
     "output_type": "execute_result"
    }
   ],
   "source": [
    "# but L times U is not close to A !!!!\n",
    "L.dot(U) - A"
   ]
  },
  {
   "cell_type": "code",
   "execution_count": 53,
   "id": "28dc8dc0",
   "metadata": {},
   "outputs": [],
   "source": [
    "# if we try to solve a linear system with the computed L and U factors...\n",
    "b = np.array([1,0])"
   ]
  },
  {
   "cell_type": "code",
   "execution_count": 55,
   "id": "0c55446b",
   "metadata": {},
   "outputs": [
    {
     "data": {
      "text/plain": [
       "array([0., 1.])"
      ]
     },
     "execution_count": 55,
     "metadata": {},
     "output_type": "execute_result"
    }
   ],
   "source": [
    "# by using our function\n",
    "my_solve_lu(L,U,b)"
   ]
  },
  {
   "cell_type": "code",
   "execution_count": 56,
   "id": "9429bb18",
   "metadata": {},
   "outputs": [
    {
     "data": {
      "text/plain": [
       "array([-1.,  1.])"
      ]
     },
     "execution_count": 56,
     "metadata": {},
     "output_type": "execute_result"
    }
   ],
   "source": [
    "# by using NumPy built-in function\n",
    "np.linalg.solve(A,b)"
   ]
  },
  {
   "cell_type": "code",
   "execution_count": 57,
   "id": "9a109379",
   "metadata": {},
   "outputs": [],
   "source": [
    "# which solution is correct?? "
   ]
  },
  {
   "cell_type": "markdown",
   "id": "166f807a",
   "metadata": {},
   "source": [
    "## Gaussian Elimination with Partial Pivoting"
   ]
  },
  {
   "cell_type": "markdown",
   "id": "5fac3a42",
   "metadata": {},
   "source": [
    "We can use vectors to store permutation matrices"
   ]
  },
  {
   "cell_type": "code",
   "execution_count": 58,
   "id": "605ce83e",
   "metadata": {},
   "outputs": [
    {
     "data": {
      "text/plain": [
       "array([[ 0,  1,  2,  3],\n",
       "       [ 4,  5,  6,  7],\n",
       "       [ 8,  9, 10, 11],\n",
       "       [12, 13, 14, 15]])"
      ]
     },
     "execution_count": 58,
     "metadata": {},
     "output_type": "execute_result"
    }
   ],
   "source": [
    "A = np.arange(16).reshape(4,4)\n",
    "A"
   ]
  },
  {
   "cell_type": "code",
   "execution_count": 59,
   "id": "8a26c9ca",
   "metadata": {},
   "outputs": [
    {
     "data": {
      "text/plain": [
       "array([[12, 13, 14, 15],\n",
       "       [ 8,  9, 10, 11],\n",
       "       [ 4,  5,  6,  7],\n",
       "       [ 0,  1,  2,  3]])"
      ]
     },
     "execution_count": 59,
     "metadata": {},
     "output_type": "execute_result"
    }
   ],
   "source": [
    "p = [3,2,1,0] # row order\n",
    "A[p]"
   ]
  },
  {
   "cell_type": "code",
   "execution_count": 60,
   "id": "fea0f984",
   "metadata": {},
   "outputs": [
    {
     "data": {
      "text/plain": [
       "array([[ 8,  9, 10, 11],\n",
       "       [ 4,  5,  6,  7],\n",
       "       [12, 13, 14, 15],\n",
       "       [ 0,  1,  2,  3]])"
      ]
     },
     "execution_count": 60,
     "metadata": {},
     "output_type": "execute_result"
    }
   ],
   "source": [
    "p = [2,1,3,0]\n",
    "A[p]"
   ]
  },
  {
   "cell_type": "code",
   "execution_count": 64,
   "id": "8616c665",
   "metadata": {},
   "outputs": [],
   "source": [
    "def my_lu(A,pivoting=None):\n",
    "    \n",
    "    \"\"\"\n",
    "    This function factors A = LU (if pivoting=None; default) or PA = LU (if pivoting='partial')\n",
    "    INPUT:\n",
    "        matrix A\n",
    "    OUTPUT:\n",
    "        permutation vector p (if pivoting == 'partial')\n",
    "        lower triangular factor L\n",
    "        upper triangular factor U\n",
    "    \"\"\"\n",
    "    \n",
    "    n,m = A.shape # size of matrix A\n",
    "    if m!=n: # check if A is square\n",
    "        print('WARNING: A must be a square matrix') # print a warning massage\n",
    "        return  \n",
    "    \n",
    "    # initialize factors L and U\n",
    "    U = A.copy()\n",
    "    L = np.identity(n)\n",
    "    \n",
    "    # initialize permutation vector p = [0,1,...,n-1]\n",
    "    if pivoting == 'partial':\n",
    "        p = np.arange(n)\n",
    "    \n",
    "    # GAUSSIAN ELIMINATION \n",
    "    for i in range(n):  # loop over columns 1,...,n (first loop)\n",
    "        if pivoting=='partial':\n",
    "            # Find the entry with largest absolute value\n",
    "            row2swap = i + np.argmax(np.abs(U[i:n,i]))\n",
    "            # swap rows of U\n",
    "            U[[row2swap,i],i:n] = U[[i,row2swap],i:n]\n",
    "            # swap multipliers\n",
    "            L[[row2swap,i],0:i] = L[[i,row2swap],0:i] \n",
    "            # update permutation vector p\n",
    "            p[[row2swap,i]]=p[[i,row2swap]]\n",
    "        # multipliers \n",
    "        L[i+1:n,i] = U[i+1:n,i]/U[i,i] \n",
    "        # update U\n",
    "        U[i+1:n,i] = 0 \n",
    "        U[i+1:n,i+1:n] = U[i+1:n,i+1:n] - np.outer(L[i+1:n,i],U[i,i+1:n]) # update U\n",
    "    \n",
    "    if pivoting=='partial':\n",
    "        return L,U,p\n",
    "    else:\n",
    "        return L,U"
   ]
  },
  {
   "cell_type": "code",
   "execution_count": 75,
   "id": "7855a90b",
   "metadata": {},
   "outputs": [
    {
     "data": {
      "text/plain": [
       "array([[ 2.,  4., -2.],\n",
       "       [ 4.,  9., -3.],\n",
       "       [-2., -3.,  7.]])"
      ]
     },
     "execution_count": 75,
     "metadata": {},
     "output_type": "execute_result"
    }
   ],
   "source": [
    "A = np.array([[2,4,-2],[4,9,-3],[-2,-3,7]])\n",
    "A = A.astype('float')\n",
    "A"
   ]
  },
  {
   "cell_type": "code",
   "execution_count": 80,
   "id": "63b80579",
   "metadata": {},
   "outputs": [],
   "source": [
    "L,U,p = my_lu(A,pivoting='partial')"
   ]
  },
  {
   "cell_type": "code",
   "execution_count": 81,
   "id": "a049f161",
   "metadata": {},
   "outputs": [
    {
     "data": {
      "text/plain": [
       "array([[ 1.        ,  0.        ,  0.        ],\n",
       "       [-0.5       ,  1.        ,  0.        ],\n",
       "       [ 0.5       , -0.33333333,  1.        ]])"
      ]
     },
     "execution_count": 81,
     "metadata": {},
     "output_type": "execute_result"
    }
   ],
   "source": [
    "L"
   ]
  },
  {
   "cell_type": "code",
   "execution_count": 82,
   "id": "800601b6",
   "metadata": {},
   "outputs": [
    {
     "data": {
      "text/plain": [
       "array([[ 4.        ,  9.        , -3.        ],\n",
       "       [ 0.        ,  1.5       ,  5.5       ],\n",
       "       [ 0.        ,  0.        ,  1.33333333]])"
      ]
     },
     "execution_count": 82,
     "metadata": {},
     "output_type": "execute_result"
    }
   ],
   "source": [
    "U"
   ]
  },
  {
   "cell_type": "code",
   "execution_count": 83,
   "id": "e379ac41",
   "metadata": {},
   "outputs": [
    {
     "data": {
      "text/plain": [
       "array([[ 0.00000000e+00,  0.00000000e+00,  0.00000000e+00],\n",
       "       [ 0.00000000e+00,  0.00000000e+00,  0.00000000e+00],\n",
       "       [ 0.00000000e+00,  0.00000000e+00, -2.22044605e-16]])"
      ]
     },
     "execution_count": 83,
     "metadata": {},
     "output_type": "execute_result"
    }
   ],
   "source": [
    "# check that PA = LU\n",
    "A[p] - L.dot(U)"
   ]
  },
  {
   "cell_type": "code",
   "execution_count": null,
   "id": "32a1cfc0",
   "metadata": {},
   "outputs": [],
   "source": []
  }
 ],
 "metadata": {
  "kernelspec": {
   "display_name": "Python 3 (ipykernel)",
   "language": "python",
   "name": "python3"
  },
  "language_info": {
   "codemirror_mode": {
    "name": "ipython",
    "version": 3
   },
   "file_extension": ".py",
   "mimetype": "text/x-python",
   "name": "python",
   "nbconvert_exporter": "python",
   "pygments_lexer": "ipython3",
   "version": "3.9.12"
  }
 },
 "nbformat": 4,
 "nbformat_minor": 5
}
