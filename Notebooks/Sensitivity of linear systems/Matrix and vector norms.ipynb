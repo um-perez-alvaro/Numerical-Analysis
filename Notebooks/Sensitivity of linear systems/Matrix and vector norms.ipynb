{
 "cells": [
  {
   "cell_type": "code",
   "execution_count": 30,
   "id": "4e9dee00",
   "metadata": {},
   "outputs": [],
   "source": [
    "import numpy as np\n",
    "import matplotlib.pyplot as plt"
   ]
  },
  {
   "cell_type": "markdown",
   "id": "0d2a3169",
   "metadata": {},
   "source": [
    "## Vector norms"
   ]
  },
  {
   "cell_type": "code",
   "execution_count": 31,
   "id": "3425baf7",
   "metadata": {},
   "outputs": [],
   "source": [
    "v = np.array([1,2,3])"
   ]
  },
  {
   "cell_type": "code",
   "execution_count": 32,
   "id": "084fbce5",
   "metadata": {},
   "outputs": [
    {
     "data": {
      "text/plain": [
       "6.0"
      ]
     },
     "execution_count": 32,
     "metadata": {},
     "output_type": "execute_result"
    }
   ],
   "source": [
    "# 1-norm\n",
    "np.linalg.norm(v,1)"
   ]
  },
  {
   "cell_type": "code",
   "execution_count": 33,
   "id": "2ef4fc4d",
   "metadata": {},
   "outputs": [
    {
     "data": {
      "text/plain": [
       "3.7416573867739413"
      ]
     },
     "execution_count": 33,
     "metadata": {},
     "output_type": "execute_result"
    }
   ],
   "source": [
    "# 2-norm\n",
    "np.linalg.norm(v)"
   ]
  },
  {
   "cell_type": "code",
   "execution_count": 34,
   "id": "fbec3767",
   "metadata": {},
   "outputs": [
    {
     "data": {
      "text/plain": [
       "3.0"
      ]
     },
     "execution_count": 34,
     "metadata": {},
     "output_type": "execute_result"
    }
   ],
   "source": [
    "# infinity norm\n",
    "np.linalg.norm(v,np.inf)"
   ]
  },
  {
   "cell_type": "markdown",
   "id": "41074f55",
   "metadata": {},
   "source": [
    "## Unit balls"
   ]
  },
  {
   "cell_type": "code",
   "execution_count": 92,
   "id": "43f12d52",
   "metadata": {},
   "outputs": [],
   "source": [
    "'create meshgrid'\n",
    "n = 100\n",
    "x = np.linspace(-1.5,1.5,n) # n evenly spaced points\n",
    "y = np.linspace(-1.5,1.5,n) # n evenly spaced points\n",
    "X,Y = np.meshgrid(x,y)"
   ]
  },
  {
   "cell_type": "code",
   "execution_count": 102,
   "id": "290faa81",
   "metadata": {},
   "outputs": [],
   "source": [
    "# meshgrid points\n",
    "P = np.c_[X.flatten(),Y.flatten()].T"
   ]
  },
  {
   "cell_type": "code",
   "execution_count": 103,
   "id": "95cfdd34",
   "metadata": {},
   "outputs": [
    {
     "data": {
      "text/plain": [
       "(2, 10000)"
      ]
     },
     "execution_count": 103,
     "metadata": {},
     "output_type": "execute_result"
    }
   ],
   "source": [
    "P.shape # n 2-dim vectors"
   ]
  },
  {
   "cell_type": "code",
   "execution_count": 155,
   "id": "2c6070b3",
   "metadata": {},
   "outputs": [],
   "source": [
    "# compute norms of all the meshgrid points\n",
    "norms = np.linalg.norm(P,ord = 2,axis=0).reshape(X.shape)"
   ]
  },
  {
   "cell_type": "code",
   "execution_count": 156,
   "id": "e8eefe91",
   "metadata": {},
   "outputs": [
    {
     "data": {
      "image/png": "[encoded data removed]",
      "text/plain": [
       "<Figure size 432x288 with 1 Axes>"
      ]
     },
     "metadata": {
      "needs_background": "light"
     },
     "output_type": "display_data"
    }
   ],
   "source": [
    "plt.contour(X,Y,norms,levels=[1],colors='C0',linewidths=3)\n",
    "plt.axis('equal')\n",
    "plt.grid(True)"
   ]
  },
  {
   "cell_type": "markdown",
   "id": "240255df",
   "metadata": {},
   "source": [
    "## Induced matrix norm"
   ]
  },
  {
   "cell_type": "code",
   "execution_count": 157,
   "id": "e1928431",
   "metadata": {},
   "outputs": [
    {
     "data": {
      "text/plain": [
       "array([[ 1,  5],\n",
       "       [ 2, -1]])"
      ]
     },
     "execution_count": 157,
     "metadata": {},
     "output_type": "execute_result"
    }
   ],
   "source": [
    "A = np.array([[1,5],[2,-1]])\n",
    "A"
   ]
  },
  {
   "cell_type": "code",
   "execution_count": 158,
   "id": "2c62ddbe",
   "metadata": {},
   "outputs": [
    {
     "data": {
      "text/plain": [
       "(2, 10000)"
      ]
     },
     "execution_count": 158,
     "metadata": {},
     "output_type": "execute_result"
    }
   ],
   "source": [
    "P_trans = A.dot(P)\n",
    "P_trans.shape"
   ]
  },
  {
   "cell_type": "code",
   "execution_count": 159,
   "id": "2ecc17de",
   "metadata": {},
   "outputs": [],
   "source": [
    "X_trans = P_trans[0].reshape(X.shape)\n",
    "Y_trans = P_trans[1].reshape(Y.shape)"
   ]
  },
  {
   "cell_type": "code",
   "execution_count": 160,
   "id": "f6ad1395",
   "metadata": {},
   "outputs": [
    {
     "data": {
      "text/plain": [
       "(-9.0, 9.0, -4.5, 4.5)"
      ]
     },
     "execution_count": 160,
     "metadata": {},
     "output_type": "execute_result"
    },
    {
     "data": {
      "image/png": "[encoded data removed]",
      "text/plain": [
       "<Figure size 432x288 with 1 Axes>"
      ]
     },
     "metadata": {
      "needs_background": "light"
     },
     "output_type": "display_data"
    }
   ],
   "source": [
    "plt.contour(X_trans,Y_trans,norms, levels=[1],colors='C0')\n",
    "plt.grid(True)\n",
    "plt.axis('equal')"
   ]
  },
  {
   "cell_type": "markdown",
   "id": "c0f51300",
   "metadata": {},
   "source": [
    "## Matrix norms"
   ]
  },
  {
   "cell_type": "code",
   "execution_count": 161,
   "id": "3e32b21a",
   "metadata": {},
   "outputs": [
    {
     "data": {
      "text/plain": [
       "array([[ 1,  1],\n",
       "       [-1,  2],\n",
       "       [ 3,  0],\n",
       "       [ 0,  1]])"
      ]
     },
     "execution_count": 161,
     "metadata": {},
     "output_type": "execute_result"
    }
   ],
   "source": [
    "A = np.array([[1,1],[-1,2],[3,0],[0,1]])\n",
    "A"
   ]
  },
  {
   "cell_type": "code",
   "execution_count": 162,
   "id": "0aad4c0e",
   "metadata": {},
   "outputs": [
    {
     "data": {
      "text/plain": [
       "3.345531707153178"
      ]
     },
     "execution_count": 162,
     "metadata": {},
     "output_type": "execute_result"
    }
   ],
   "source": [
    "# 2-norm\n",
    "np.linalg.norm(A,2)"
   ]
  },
  {
   "cell_type": "code",
   "execution_count": 163,
   "id": "1abc4c47",
   "metadata": {},
   "outputs": [
    {
     "data": {
      "text/plain": [
       "5.0"
      ]
     },
     "execution_count": 163,
     "metadata": {},
     "output_type": "execute_result"
    }
   ],
   "source": [
    "# 1-norm\n",
    "np.linalg.norm(A,1)"
   ]
  },
  {
   "cell_type": "code",
   "execution_count": 164,
   "id": "6c0789d1",
   "metadata": {},
   "outputs": [
    {
     "data": {
      "text/plain": [
       "3.0"
      ]
     },
     "execution_count": 164,
     "metadata": {},
     "output_type": "execute_result"
    }
   ],
   "source": [
    "# inf norm\n",
    "np.linalg.norm(A,np.inf)"
   ]
  },
  {
   "cell_type": "code",
   "execution_count": 165,
   "id": "3bccb64c",
   "metadata": {},
   "outputs": [
    {
     "data": {
      "text/plain": [
       "4.123105625617661"
      ]
     },
     "execution_count": 165,
     "metadata": {},
     "output_type": "execute_result"
    }
   ],
   "source": [
    "# Frobenius norms\n",
    "np.linalg.norm(A,'fro')"
   ]
  },
  {
   "cell_type": "markdown",
   "id": "8193de0a",
   "metadata": {},
   "source": [
    "## Matrix norm costs"
   ]
  },
  {
   "cell_type": "code",
   "execution_count": 166,
   "id": "0fe31724",
   "metadata": {},
   "outputs": [],
   "source": [
    "n = 5000\n",
    "A = np.random.randn(n,n)"
   ]
  },
  {
   "cell_type": "code",
   "execution_count": 167,
   "id": "c92a15e2",
   "metadata": {},
   "outputs": [
    {
     "name": "stdout",
     "output_type": "stream",
     "text": [
      "9.16 ms ± 248 µs per loop (mean ± std. dev. of 7 runs, 100 loops each)\n"
     ]
    }
   ],
   "source": [
    "%%timeit\n",
    "np.linalg.norm(A,'fro')"
   ]
  },
  {
   "cell_type": "code",
   "execution_count": 168,
   "id": "28eaadc4",
   "metadata": {},
   "outputs": [
    {
     "name": "stdout",
     "output_type": "stream",
     "text": [
      "107 ms ± 319 µs per loop (mean ± std. dev. of 7 runs, 10 loops each)\n"
     ]
    }
   ],
   "source": [
    "%%timeit\n",
    "np.linalg.norm(A,1)"
   ]
  },
  {
   "cell_type": "code",
   "execution_count": 169,
   "id": "2c2bc050",
   "metadata": {},
   "outputs": [
    {
     "name": "stdout",
     "output_type": "stream",
     "text": [
      "114 ms ± 303 µs per loop (mean ± std. dev. of 7 runs, 10 loops each)\n"
     ]
    }
   ],
   "source": [
    "%%timeit\n",
    "np.linalg.norm(A,np.inf)"
   ]
  },
  {
   "cell_type": "code",
   "execution_count": 170,
   "id": "30863a60",
   "metadata": {},
   "outputs": [
    {
     "name": "stdout",
     "output_type": "stream",
     "text": [
      "7.47 s ± 155 ms per loop (mean ± std. dev. of 7 runs, 1 loop each)\n"
     ]
    }
   ],
   "source": [
    "%%timeit\n",
    "np.linalg.norm(A,2)"
   ]
  }
 ],
 "metadata": {
  "kernelspec": {
   "display_name": "Python 3 (ipykernel)",
   "language": "python",
   "name": "python3"
  },
  "language_info": {
   "codemirror_mode": {
    "name": "ipython",
    "version": 3
   },
   "file_extension": ".py",
   "mimetype": "text/x-python",
   "name": "python",
   "nbconvert_exporter": "python",
   "pygments_lexer": "ipython3",
   "version": "3.9.12"
  }
 },
 "nbformat": 4,
 "nbformat_minor": 5
}
