{
 "cells": [
  {
   "cell_type": "code",
   "execution_count": 1,
   "metadata": {},
   "outputs": [],
   "source": [
    "import numpy as np\n",
    "import matplotlib.pyplot as plt"
   ]
  },
  {
   "cell_type": "markdown",
   "metadata": {},
   "source": [
    "## Example 1: the compound interest formula"
   ]
  },
  {
   "cell_type": "markdown",
   "metadata": {},
   "source": [
    "If one dollar is invested at an interest rate $x$ with compounding $n$ times per year, at the end of the year the final value is\n",
    "\n",
    "$$\n",
    "f(x) = \\left( 1+\\frac{x}{n}\\right)^n\n",
    "$$"
   ]
  },
  {
   "cell_type": "markdown",
   "metadata": {},
   "source": [
    "This is the *compound interest formula.* It is well known that, for fixed $x$, the compound interest formula $f(x)$ has a limiting value as $n$ tends to infinity:\n",
    "\n",
    "$$\n",
    "\\lim_{n\\rightarrow \\infty} \\left(1+\\frac{x}{n}\\right)^n = e^x.\n",
    "$$"
   ]
  },
  {
   "cell_type": "markdown",
   "metadata": {},
   "source": [
    "Nonetheless, it is interesting to evaluate $f(x)$ for various choices of $n$"
   ]
  },
  {
   "cell_type": "markdown",
   "metadata": {},
   "source": [
    "Let us investigate, first, the condition number of $f(x)$.\n",
    "Its condition number is\n",
    "\n",
    "$$\n",
    "\\kappa_f(x) = \\frac{|x|}{\\left|1+\\frac{x}{n} \\right|},\n",
    "$$\n",
    "which converges to $|x|$ as n goes to infinity.\n",
    "Consequently, the compount interest formula is a well-conditioned function for very large $n$, as long as $|x|$ is not large."
   ]
  },
  {
   "cell_type": "markdown",
   "metadata": {},
   "source": [
    "A simple algorithm to compute $f(x)$ is\n",
    "\n",
    "- compute $z=1+\\frac{x}{n}$\n",
    "- return $z^n$"
   ]
  },
  {
   "cell_type": "markdown",
   "metadata": {},
   "source": [
    "The following function implements this algorithm"
   ]
  },
  {
   "cell_type": "code",
   "execution_count": 6,
   "metadata": {},
   "outputs": [],
   "source": [
    "def comp(x,n):\n",
    "    z = (1+x/n)\n",
    "    return z**n"
   ]
  },
  {
   "cell_type": "markdown",
   "metadata": {},
   "source": [
    "The following code evaluates $f(x)$ for various values of $n$ $(10^5,10^6,\\ldots,10^{20})$ at the point $x=0.05$"
   ]
  },
  {
   "cell_type": "code",
   "execution_count": 22,
   "metadata": {},
   "outputs": [],
   "source": [
    "x = 0.05"
   ]
  },
  {
   "cell_type": "code",
   "execution_count": 23,
   "metadata": {},
   "outputs": [
    {
     "name": "stdout",
     "output_type": "stream",
     "text": [
      "n = 100000\n",
      "1.051271083242487\n",
      "-----------------------\n",
      "n = 1000000\n",
      "1.0512710949759108\n",
      "-----------------------\n",
      "n = 10000000\n",
      "1.0512710959251617\n",
      "-----------------------\n",
      "n = 100000000\n",
      "1.0512711007120112\n",
      "-----------------------\n",
      "n = 1000000000\n",
      "1.051271100723838\n",
      "-----------------------\n",
      "n = 10000000000\n",
      "1.0512711007250206\n",
      "-----------------------\n",
      "n = 100000000000\n",
      "1.0512757693170298\n",
      "-----------------------\n",
      "n = 1000000000000\n",
      "1.0512290843310912\n",
      "-----------------------\n",
      "n = 10000000000000\n",
      "1.052396831174442\n",
      "-----------------------\n",
      "n = 100000000000000\n",
      "1.0454097574833083\n",
      "-----------------------\n",
      "n = 1000000000000000\n",
      "1.0\n",
      "-----------------------\n",
      "n = 10000000000000000\n",
      "1.0\n",
      "-----------------------\n",
      "n = 100000000000000000\n",
      "1.0\n",
      "-----------------------\n",
      "n = 1000000000000000000\n",
      "1.0\n",
      "-----------------------\n",
      "n = 10000000000000000000\n",
      "1.0\n",
      "-----------------------\n"
     ]
    }
   ],
   "source": [
    "n_list = [10**(i) for i in range(5,20)]\n",
    "for n in n_list:\n",
    "    print('n = '+str(n))\n",
    "    print(comp(x,n))\n",
    "    print('-----------------------')"
   ]
  },
  {
   "cell_type": "code",
   "execution_count": 24,
   "metadata": {},
   "outputs": [
    {
     "data": {
      "text/plain": [
       "1.0512710963760241"
      ]
     },
     "execution_count": 24,
     "metadata": {},
     "output_type": "execute_result"
    }
   ],
   "source": [
    "# as n goes to infinity, comp(x,n) must approach to e^0.05\n",
    "np.exp(0.05)"
   ]
  },
  {
   "cell_type": "markdown",
   "metadata": {},
   "source": [
    "The results (for large values of $n$) look really bad.\n",
    "The heart of the matter is that the algorithm to compute $f(x)$ is *unstable* because one of the steps is ill-conditioned."
   ]
  },
  {
   "cell_type": "markdown",
   "metadata": {},
   "source": [
    "The condition number of $p(z)=z^n$ is \n",
    "\n",
    "$$\n",
    "\\kappa_g(z) = n,\n",
    "$$\n",
    "\n",
    "which, unlike the condition number of $f(x)$, grows without bound as n goes to infinity."
   ]
  },
  {
   "cell_type": "markdown",
   "metadata": {},
   "source": [
    "Surprisingly, there is no obvious stable algorithm to compute the compound interest formula using only power functions, exponentials and logarithms."
   ]
  },
  {
   "cell_type": "markdown",
   "metadata": {},
   "source": [
    "One (not obvious) stable algorithm is\n",
    "\n",
    "- compute $u = \\frac{x}{n}$\n",
    "- compute $v=\\mathrm{log1p}(u)$\n",
    "- return $e^{nv}$,\n",
    "\n",
    "where the $\\mathrm{log1p}(u)$ function is given by\n",
    "\n",
    "$$\n",
    "\\mathrm{log1p}(u) = \\log(1+u)\n",
    "$$"
   ]
  },
  {
   "cell_type": "markdown",
   "metadata": {},
   "source": [
    "This algorithm is implemented in the following function"
   ]
  },
  {
   "cell_type": "code",
   "execution_count": 25,
   "metadata": {},
   "outputs": [],
   "source": [
    "def comp_mod(x,y):\n",
    "    u = x/n\n",
    "    v = np.log1p(u)\n",
    "    return np.exp(n*v)"
   ]
  },
  {
   "cell_type": "code",
   "execution_count": 26,
   "metadata": {},
   "outputs": [
    {
     "name": "stdout",
     "output_type": "stream",
     "text": [
      "n = 100000\n",
      "1.0512710832351397\n",
      "-----------------------\n",
      "n = 1000000\n",
      "1.0512710950619353\n",
      "-----------------------\n",
      "n = 10000000\n",
      "1.0512710962446152\n",
      "-----------------------\n",
      "n = 100000000\n",
      "1.051271096362883\n",
      "-----------------------\n",
      "n = 1000000000\n",
      "1.05127109637471\n",
      "-----------------------\n",
      "n = 10000000000\n",
      "1.0512710963758927\n",
      "-----------------------\n",
      "n = 100000000000\n",
      "1.0512710963760108\n",
      "-----------------------\n",
      "n = 1000000000000\n",
      "1.0512710963760228\n",
      "-----------------------\n",
      "n = 10000000000000\n",
      "1.051271096376024\n",
      "-----------------------\n",
      "n = 100000000000000\n",
      "1.0512710963760241\n",
      "-----------------------\n",
      "n = 1000000000000000\n",
      "1.0512710963760241\n",
      "-----------------------\n",
      "n = 10000000000000000\n",
      "1.0512710963760241\n",
      "-----------------------\n",
      "n = 100000000000000000\n",
      "1.0512710963760241\n",
      "-----------------------\n",
      "n = 1000000000000000000\n",
      "1.0512710963760241\n",
      "-----------------------\n",
      "n = 10000000000000000000\n",
      "1.0512710963760241\n",
      "-----------------------\n"
     ]
    }
   ],
   "source": [
    "for n in n_list:\n",
    "    print('n = '+str(n))\n",
    "    print(comp_mod(x,n))\n",
    "    print('-----------------------')"
   ]
  },
  {
   "cell_type": "markdown",
   "metadata": {},
   "source": [
    "## Example 2: a silly function"
   ]
  },
  {
   "cell_type": "markdown",
   "metadata": {},
   "source": [
    "The following function leaves $x$ unchanged\n",
    "\n",
    "$$\n",
    "f(x) = \\left(\\left(\\left(\\underbrace{\\sqrt{\\cdots\\sqrt{\\sqrt{x}}}}_{\\mbox{60 times}}\\right)^2\\right)^2\\cdots\\right)^2=x\n",
    "$$"
   ]
  },
  {
   "cell_type": "code",
   "execution_count": 16,
   "metadata": {},
   "outputs": [],
   "source": [
    "def silly_func(x):\n",
    "    for k in range(60):\n",
    "        x = np.sqrt(x)\n",
    "    for k in range(60):\n",
    "        x = x**2\n",
    "    return x"
   ]
  },
  {
   "cell_type": "markdown",
   "metadata": {},
   "source": [
    "At $x=2$, the function produces:"
   ]
  },
  {
   "cell_type": "code",
   "execution_count": 19,
   "metadata": {},
   "outputs": [
    {
     "data": {
      "text/plain": [
       "1.0"
      ]
     },
     "execution_count": 19,
     "metadata": {},
     "output_type": "execute_result"
    }
   ],
   "source": [
    "x = 2\n",
    "silly_func(x)"
   ]
  },
  {
   "cell_type": "markdown",
   "metadata": {},
   "source": [
    "At $x=0.5$, the function produces:"
   ]
  },
  {
   "cell_type": "code",
   "execution_count": 20,
   "metadata": {},
   "outputs": [
    {
     "data": {
      "text/plain": [
       "2.572206922781984e-56"
      ]
     },
     "execution_count": 20,
     "metadata": {},
     "output_type": "execute_result"
    }
   ],
   "source": [
    "x = 0.5\n",
    "silly_func(x)"
   ]
  },
  {
   "cell_type": "markdown",
   "metadata": {},
   "source": [
    "In place of $f(x)=x$, the function `silly_func` computes\n",
    "\n",
    "$$\n",
    "f(x) = \\left\\{\n",
    "\\begin{array}{cc}\n",
    "0, & 0\\leq x<1,\\\\\n",
    "1, & x>1\n",
    "\\end{array}\\right.\n",
    "$$"
   ]
  },
  {
   "cell_type": "markdown",
   "metadata": {},
   "source": [
    "## Example 3: integration by parts"
   ]
  },
  {
   "cell_type": "markdown",
   "metadata": {},
   "source": [
    "One of my favorite examples is the recurrence relation\n",
    "for computing the integrals\n",
    "\n",
    "$$\n",
    "  E_n = \\int_{0}^1 x^n e^{x-1} \\, dx.\n",
    "$$\n",
    "\n",
    "Integration by parts yields the recurrence\n",
    "\\begin{align*}\n",
    "  E_0 &= 1-1/e \\\\\n",
    "  E_n &= 1-nE_{n-1}, \\quad n \\geq 1.\n",
    "\\end{align*}\n",
    "This looks benign enough at first glance: no single step of\n",
    "this recurrence causes the error to explode.  But\n",
    "each step amplifies the error somewhat, resulting in an exponential\n",
    "growth"
   ]
  },
  {
   "cell_type": "markdown",
   "metadata": {},
   "source": [
    "For large values of $n$, we have the estimate\n",
    "\n",
    "$$\n",
    "E_n \\approx \\frac{1}{n+1}\n",
    "$$"
   ]
  },
  {
   "cell_type": "code",
   "execution_count": 35,
   "metadata": {},
   "outputs": [
    {
     "name": "stdout",
     "output_type": "stream",
     "text": [
      "n value\n",
      "1\n",
      "integral En\n",
      "0.36787944117144233\n",
      "estimate\n",
      "0.5\n",
      "--------------------------\n",
      "n value\n",
      "2\n",
      "integral En\n",
      "0.26424111765711533\n",
      "estimate\n",
      "0.3333333333333333\n",
      "--------------------------\n",
      "n value\n",
      "3\n",
      "integral En\n",
      "0.207276647028654\n",
      "estimate\n",
      "0.25\n",
      "--------------------------\n",
      "n value\n",
      "4\n",
      "integral En\n",
      "0.17089341188538398\n",
      "estimate\n",
      "0.2\n",
      "--------------------------\n",
      "n value\n",
      "5\n",
      "integral En\n",
      "0.14553294057308008\n",
      "estimate\n",
      "0.16666666666666666\n",
      "--------------------------\n",
      "n value\n",
      "6\n",
      "integral En\n",
      "0.1268023565615195\n",
      "estimate\n",
      "0.14285714285714285\n",
      "--------------------------\n",
      "n value\n",
      "7\n",
      "integral En\n",
      "0.11238350406936348\n",
      "estimate\n",
      "0.125\n",
      "--------------------------\n",
      "n value\n",
      "8\n",
      "integral En\n",
      "0.10093196744509214\n",
      "estimate\n",
      "0.1111111111111111\n",
      "--------------------------\n",
      "n value\n",
      "9\n",
      "integral En\n",
      "0.09161229299417073\n",
      "estimate\n",
      "0.1\n",
      "--------------------------\n",
      "n value\n",
      "10\n",
      "integral En\n",
      "0.0838770700582927\n",
      "estimate\n",
      "0.09090909090909091\n",
      "--------------------------\n",
      "n value\n",
      "11\n",
      "integral En\n",
      "0.07735222935878028\n",
      "estimate\n",
      "0.08333333333333333\n",
      "--------------------------\n",
      "n value\n",
      "12\n",
      "integral En\n",
      "0.07177324769463667\n",
      "estimate\n",
      "0.07692307692307693\n",
      "--------------------------\n",
      "n value\n",
      "13\n",
      "integral En\n",
      "0.06694777996972334\n",
      "estimate\n",
      "0.07142857142857142\n",
      "--------------------------\n",
      "n value\n",
      "14\n",
      "integral En\n",
      "0.06273108042387321\n",
      "estimate\n",
      "0.06666666666666667\n",
      "--------------------------\n",
      "n value\n",
      "15\n",
      "integral En\n",
      "0.059033793641901866\n",
      "estimate\n",
      "0.0625\n",
      "--------------------------\n",
      "n value\n",
      "16\n",
      "integral En\n",
      "0.05545930172957014\n",
      "estimate\n",
      "0.058823529411764705\n",
      "--------------------------\n",
      "n value\n",
      "17\n",
      "integral En\n",
      "0.05719187059730757\n",
      "estimate\n",
      "0.05555555555555555\n",
      "--------------------------\n",
      "n value\n",
      "18\n",
      "integral En\n",
      "-0.029453670751536265\n",
      "estimate\n",
      "0.05263157894736842\n",
      "--------------------------\n",
      "n value\n",
      "19\n",
      "integral En\n",
      "1.559619744279189\n",
      "estimate\n",
      "0.05\n",
      "--------------------------\n",
      "n value\n",
      "20\n",
      "integral En\n",
      "-30.19239488558378\n",
      "estimate\n",
      "0.047619047619047616\n",
      "--------------------------\n",
      "n value\n",
      "21\n",
      "integral En\n",
      "635.0402925972594\n",
      "estimate\n",
      "0.045454545454545456\n",
      "--------------------------\n",
      "n value\n",
      "22\n",
      "integral En\n",
      "-13969.886437139707\n",
      "estimate\n",
      "0.043478260869565216\n",
      "--------------------------\n",
      "n value\n",
      "23\n",
      "integral En\n",
      "321308.38805421325\n",
      "estimate\n",
      "0.041666666666666664\n",
      "--------------------------\n",
      "n value\n",
      "24\n",
      "integral En\n",
      "-7711400.313301118\n",
      "estimate\n",
      "0.04\n",
      "--------------------------\n"
     ]
    }
   ],
   "source": [
    "E = 1-1/np.e\n",
    "\n",
    "for n in range(1,25):\n",
    "    # compute integral E_n\n",
    "    E = 1-n*E\n",
    "    \n",
    "    print('n value')\n",
    "    print(n)\n",
    "    print('integral En')\n",
    "    print(E)\n",
    "    print('estimate')\n",
    "    print(1/(n+1))\n",
    "    print('--------------------------')"
   ]
  }
 ],
 "metadata": {
  "kernelspec": {
   "display_name": "Python 3",
   "language": "python",
   "name": "python3"
  },
  "language_info": {
   "codemirror_mode": {
    "name": "ipython",
    "version": 3
   },
   "file_extension": ".py",
   "mimetype": "text/x-python",
   "name": "python",
   "nbconvert_exporter": "python",
   "pygments_lexer": "ipython3",
   "version": "3.8.5"
  }
 },
 "nbformat": 4,
 "nbformat_minor": 4
}
