{
 "cells": [
  {
   "cell_type": "code",
   "execution_count": 1,
   "metadata": {},
   "outputs": [],
   "source": [
    "import numpy as np\n",
    "import matplotlib.pyplot as plt"
   ]
  },
  {
   "cell_type": "markdown",
   "metadata": {},
   "source": [
    "## Example 1"
   ]
  },
  {
   "cell_type": "markdown",
   "metadata": {},
   "source": [
    "Consider the two numbers"
   ]
  },
  {
   "cell_type": "code",
   "execution_count": 2,
   "metadata": {},
   "outputs": [],
   "source": [
    "x = 3.141592653589793\n",
    "y = 3.141592653589791"
   ]
  },
  {
   "cell_type": "markdown",
   "metadata": {},
   "source": [
    "The difference $z=x-y=2\\cdot 10^{-15}$ is in the range of the double format"
   ]
  },
  {
   "cell_type": "code",
   "execution_count": 3,
   "metadata": {},
   "outputs": [
    {
     "data": {
      "text/plain": [
       "2e-15"
      ]
     },
     "execution_count": 3,
     "metadata": {},
     "output_type": "execute_result"
    }
   ],
   "source": [
    "# exact difference\n",
    "z = 2e-15\n",
    "z"
   ]
  },
  {
   "cell_type": "markdown",
   "metadata": {},
   "source": [
    "However, if we compute the difference, we find"
   ]
  },
  {
   "cell_type": "code",
   "execution_count": 4,
   "metadata": {},
   "outputs": [
    {
     "data": {
      "text/plain": [
       "2.220446049250313e-15"
      ]
     },
     "execution_count": 4,
     "metadata": {},
     "output_type": "execute_result"
    }
   ],
   "source": [
    "# compute difference\n",
    "comp_z = x-y\n",
    "comp_z"
   ]
  },
  {
   "cell_type": "markdown",
   "metadata": {},
   "source": [
    "This agrees with the exact answer to about only 1 digits, but what is the meaning of the other digits?"
   ]
  },
  {
   "cell_type": "markdown",
   "metadata": {},
   "source": [
    "Notice that the relative error is huge:"
   ]
  },
  {
   "cell_type": "code",
   "execution_count": 6,
   "metadata": {},
   "outputs": [
    {
     "data": {
      "text/plain": [
       "0.11022302462515646"
      ]
     },
     "execution_count": 6,
     "metadata": {},
     "output_type": "execute_result"
    }
   ],
   "source": [
    "# relative error\n",
    "np.abs(z-comp_z)/np.abs(z)"
   ]
  },
  {
   "cell_type": "markdown",
   "metadata": {},
   "source": [
    "This phenomenon is called cancellation. It occurs when one number is subtracted from another number that is nearly equal to it."
   ]
  },
  {
   "cell_type": "markdown",
   "metadata": {},
   "source": [
    "## Example 2: approximating a derivative by a difference quotient"
   ]
  },
  {
   "cell_type": "markdown",
   "metadata": {},
   "source": [
    "We can approximate the derivative by the slope of the secant line\n",
    "\n",
    "$$\n",
    "f^\\prime(x) \\approx \\frac{f(x+h)-f(x)}{h}\n",
    "$$"
   ]
  },
  {
   "cell_type": "markdown",
   "metadata": {},
   "source": [
    "The following code evaluates the difference quotient for different values of $h$, at $x=1$, assuming the function if $f(x)=\\sin(x)$.\n",
    "Since we known that the derivative of $\\sin(x)$ is $\\cos(x)$, the code also compares the derivative to the difference quotient."
   ]
  },
  {
   "cell_type": "code",
   "execution_count": 7,
   "metadata": {},
   "outputs": [],
   "source": [
    "# point\n",
    "x = 1\n",
    "# exact derivative\n",
    "der = np.cos(1)"
   ]
  },
  {
   "cell_type": "code",
   "execution_count": 8,
   "metadata": {},
   "outputs": [
    {
     "data": {
      "text/plain": [
       "[1,\n",
       " 0.1,\n",
       " 0.01,\n",
       " 0.001,\n",
       " 0.0001,\n",
       " 1e-05,\n",
       " 1e-06,\n",
       " 1e-07,\n",
       " 1e-08,\n",
       " 1e-09,\n",
       " 1e-10,\n",
       " 1e-11,\n",
       " 1e-12,\n",
       " 1e-13,\n",
       " 1e-14,\n",
       " 1e-15]"
      ]
     },
     "execution_count": 8,
     "metadata": {},
     "output_type": "execute_result"
    }
   ],
   "source": [
    "h_list = [10**(-i) for i in range(16)]\n",
    "h_list"
   ]
  },
  {
   "cell_type": "code",
   "execution_count": 9,
   "metadata": {},
   "outputs": [],
   "source": [
    "errors = []\n",
    "for h in h_list:\n",
    "    # difference quotient\n",
    "    approx_der = (np.sin(x+h)-np.sin(x))/h\n",
    "    # approximation error\n",
    "    error = np.abs(der-approx_der)\n",
    "    errors.append(error)"
   ]
  },
  {
   "cell_type": "markdown",
   "metadata": {},
   "source": [
    "Let us plot the error as a function of $h$ using a log-log scale"
   ]
  },
  {
   "cell_type": "code",
   "execution_count": 12,
   "metadata": {},
   "outputs": [
    {
     "data": {
      "text/plain": [
       "Text(0, 0.5, 'error')"
      ]
     },
     "execution_count": 12,
     "metadata": {},
     "output_type": "execute_result"
    },
    {
     "data": {
      "image/png": "[encoded data removed]",
      "text/plain": [
       "<Figure size 432x288 with 1 Axes>"
      ]
     },
     "metadata": {
      "needs_background": "light"
     },
     "output_type": "display_data"
    }
   ],
   "source": [
    "plt.loglog(h_list,errors) \n",
    "plt.xlabel('h value', fontsize=15)\n",
    "plt.ylabel('error', fontsize=15)"
   ]
  },
  {
   "cell_type": "markdown",
   "metadata": {},
   "source": [
    "We see that the approximation gets better, i.e., the error gets smaller, as $h$ gets smaller. But only up to a certain point.\n",
    "When $h$ gets too small, the approximation starts to get worse!"
   ]
  },
  {
   "cell_type": "markdown",
   "metadata": {},
   "source": [
    "## Example 3"
   ]
  },
  {
   "cell_type": "markdown",
   "metadata": {},
   "source": [
    "Consider the following function \n",
    "\n",
    "$$\n",
    "f(x) = \n",
    "\\frac{1-\\cos(x)}{x^2}\n",
    "$$\n",
    "\n"
   ]
  },
  {
   "cell_type": "code",
   "execution_count": 13,
   "metadata": {},
   "outputs": [],
   "source": [
    "def f(x):\n",
    "    return (1-np.cos(x))/x**2"
   ]
  },
  {
   "cell_type": "markdown",
   "metadata": {},
   "source": [
    "At $x=1.2\\cdot 10^{-8}$, ,we get"
   ]
  },
  {
   "cell_type": "code",
   "execution_count": 14,
   "metadata": {},
   "outputs": [
    {
     "data": {
      "text/plain": [
       "0.7709882115452477"
      ]
     },
     "execution_count": 14,
     "metadata": {},
     "output_type": "execute_result"
    }
   ],
   "source": [
    "x = 1.2e-8\n",
    "f(x)"
   ]
  },
  {
   "cell_type": "markdown",
   "metadata": {},
   "source": [
    "which is clearly wrong given the fact that $0\\leq f(x)\\leq 0.5$ for all $x\\neq 0$."
   ]
  },
  {
   "cell_type": "markdown",
   "metadata": {},
   "source": [
    "## Example 4"
   ]
  },
  {
   "cell_type": "markdown",
   "metadata": {},
   "source": [
    "Consider the function\n",
    "\n",
    "$$\n",
    "f(x) = \\pi - \\sqrt{\\pi^2-x}\n",
    "$$\n",
    "\n",
    "For small values of $x$, we have\n",
    "\n",
    "$$\n",
    "f(x)\\approx \\frac{x}{2\\pi}.\n",
    "$$\n"
   ]
  },
  {
   "cell_type": "code",
   "execution_count": 16,
   "metadata": {},
   "outputs": [],
   "source": [
    "def f(x):\n",
    "    return np.pi-np.sqrt(np.pi**2-x)"
   ]
  },
  {
   "cell_type": "code",
   "execution_count": 17,
   "metadata": {},
   "outputs": [
    {
     "data": {
      "text/plain": [
       "array([1.0e-14, 9.9e-15, 9.8e-15, 9.7e-15, 9.6e-15, 9.5e-15, 9.4e-15,\n",
       "       9.3e-15, 9.2e-15, 9.1e-15, 9.0e-15, 8.9e-15, 8.8e-15, 8.7e-15,\n",
       "       8.6e-15, 8.5e-15, 8.4e-15, 8.3e-15, 8.2e-15, 8.1e-15, 8.0e-15,\n",
       "       7.9e-15, 7.8e-15, 7.7e-15, 7.6e-15, 7.5e-15, 7.4e-15, 7.3e-15,\n",
       "       7.2e-15, 7.1e-15, 7.0e-15, 6.9e-15, 6.8e-15, 6.7e-15, 6.6e-15,\n",
       "       6.5e-15, 6.4e-15, 6.3e-15, 6.2e-15, 6.1e-15, 6.0e-15, 5.9e-15,\n",
       "       5.8e-15, 5.7e-15, 5.6e-15, 5.5e-15, 5.4e-15, 5.3e-15, 5.2e-15,\n",
       "       5.1e-15, 5.0e-15, 4.9e-15, 4.8e-15, 4.7e-15, 4.6e-15, 4.5e-15,\n",
       "       4.4e-15, 4.3e-15, 4.2e-15, 4.1e-15, 4.0e-15, 3.9e-15, 3.8e-15,\n",
       "       3.7e-15, 3.6e-15, 3.5e-15, 3.4e-15, 3.3e-15, 3.2e-15, 3.1e-15,\n",
       "       3.0e-15, 2.9e-15, 2.8e-15, 2.7e-15, 2.6e-15, 2.5e-15, 2.4e-15,\n",
       "       2.3e-15, 2.2e-15, 2.1e-15, 2.0e-15, 1.9e-15, 1.8e-15, 1.7e-15,\n",
       "       1.6e-15, 1.5e-15, 1.4e-15, 1.3e-15, 1.2e-15, 1.1e-15, 1.0e-15,\n",
       "       9.0e-16, 8.0e-16, 7.0e-16, 6.0e-16, 5.0e-16, 4.0e-16, 3.0e-16,\n",
       "       2.0e-16, 1.0e-16])"
      ]
     },
     "execution_count": 17,
     "metadata": {},
     "output_type": "execute_result"
    }
   ],
   "source": [
    "x = np.linspace(1e-14,1e-16,100) # evenly spaced points\n",
    "x"
   ]
  },
  {
   "cell_type": "code",
   "execution_count": 25,
   "metadata": {},
   "outputs": [
    {
     "data": {
      "text/plain": [
       "<matplotlib.legend.Legend at 0x26554ce2f40>"
      ]
     },
     "execution_count": 25,
     "metadata": {},
     "output_type": "execute_result"
    },
    {
     "data": {
      "image/png": "[encoded data removed]",
      "text/plain": [
       "<Figure size 432x288 with 1 Axes>"
      ]
     },
     "metadata": {
      "needs_background": "light"
     },
     "output_type": "display_data"
    }
   ],
   "source": [
    "y = f(x)\n",
    "y_approx = x/(2*np.pi)\n",
    "\n",
    "plt.plot(x,y,label='f')\n",
    "plt.plot(x,y_approx, label='approximation')\n",
    "plt.legend()"
   ]
  },
  {
   "cell_type": "markdown",
   "metadata": {},
   "source": [
    "Sometimes clever algebra tricks can change an expression into a form that circumvents the problem."
   ]
  },
  {
   "cell_type": "markdown",
   "metadata": {},
   "source": [
    "\\begin{align*}\n",
    "f(x) =& \\pi - \\sqrt{\\pi^2-x} = \\\\\n",
    "& \\left( \\pi - \\sqrt{\\pi^2-x} \\right) \\frac{\\pi + \\sqrt{\\pi^2-x}}{\\pi + \\sqrt{\\pi^2-x}} = \\\\\n",
    "&\\frac{x}{\\pi + \\sqrt{\\pi^2-x}}\n",
    "\\end{align*}"
   ]
  },
  {
   "cell_type": "code",
   "execution_count": 22,
   "metadata": {},
   "outputs": [],
   "source": [
    "def mod_f(x):\n",
    "    return x/(np.pi+np.sqrt(np.pi**2-x))"
   ]
  },
  {
   "cell_type": "code",
   "execution_count": 24,
   "metadata": {},
   "outputs": [
    {
     "data": {
      "text/plain": [
       "<matplotlib.legend.Legend at 0x26554c38370>"
      ]
     },
     "execution_count": 24,
     "metadata": {},
     "output_type": "execute_result"
    },
    {
     "data": {
      "image/png": "[encoded data removed]",
      "text/plain": [
       "<Figure size 432x288 with 1 Axes>"
      ]
     },
     "metadata": {
      "needs_background": "light"
     },
     "output_type": "display_data"
    }
   ],
   "source": [
    "y = f(x)\n",
    "y_mod = mod_f(x)\n",
    "y_approx = x/(2*np.pi)\n",
    "\n",
    "plt.plot(x,y,label='f')\n",
    "plt.plot(x,y_mod,label='modified f')\n",
    "plt.plot(x,y_approx, label='approximation')\n",
    "plt.legend()"
   ]
  },
  {
   "cell_type": "code",
   "execution_count": null,
   "metadata": {},
   "outputs": [],
   "source": []
  }
 ],
 "metadata": {
  "kernelspec": {
   "display_name": "Python 3",
   "language": "python",
   "name": "python3"
  },
  "language_info": {
   "codemirror_mode": {
    "name": "ipython",
    "version": 3
   },
   "file_extension": ".py",
   "mimetype": "text/x-python",
   "name": "python",
   "nbconvert_exporter": "python",
   "pygments_lexer": "ipython3",
   "version": "3.8.5"
  }
 },
 "nbformat": 4,
 "nbformat_minor": 4
}
