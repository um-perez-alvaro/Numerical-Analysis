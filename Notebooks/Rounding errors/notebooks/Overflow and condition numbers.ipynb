{
 "cells": [
  {
   "cell_type": "code",
   "execution_count": 4,
   "metadata": {},
   "outputs": [],
   "source": [
    "import numpy as np"
   ]
  },
  {
   "cell_type": "markdown",
   "metadata": {},
   "source": [
    "## Overflow"
   ]
  },
  {
   "cell_type": "code",
   "execution_count": 7,
   "metadata": {},
   "outputs": [
    {
     "data": {
      "text/plain": [
       "8.98846567431158e+307"
      ]
     },
     "execution_count": 7,
     "metadata": {},
     "output_type": "execute_result"
    }
   ],
   "source": [
    "2.0**1023"
   ]
  },
  {
   "cell_type": "code",
   "execution_count": 8,
   "metadata": {},
   "outputs": [
    {
     "ename": "OverflowError",
     "evalue": "(34, 'Result too large')",
     "output_type": "error",
     "traceback": [
      "\u001b[1;31m---------------------------------------------------------------------------\u001b[0m",
      "\u001b[1;31mOverflowError\u001b[0m                             Traceback (most recent call last)",
      "Input \u001b[1;32mIn [8]\u001b[0m, in \u001b[0;36m<cell line: 1>\u001b[1;34m()\u001b[0m\n\u001b[1;32m----> 1\u001b[0m \u001b[38;5;241;43m2.0\u001b[39;49m\u001b[38;5;241;43m*\u001b[39;49m\u001b[38;5;241;43m*\u001b[39;49m\u001b[38;5;241;43m1024\u001b[39;49m\n",
      "\u001b[1;31mOverflowError\u001b[0m: (34, 'Result too large')"
     ]
    }
   ],
   "source": [
    "2.0**1024"
   ]
  },
  {
   "cell_type": "markdown",
   "metadata": {},
   "source": [
    "**Overflow Example 1**"
   ]
  },
  {
   "cell_type": "markdown",
   "metadata": {},
   "source": [
    "We want to compute\n",
    "\n",
    "$$\n",
    "\\sqrt{x^2+y^2} \\qquad \\mbox{with }x=10^{300} \\mbox{ and } y=3\\cdot 10^{300}\n",
    "$$"
   ]
  },
  {
   "cell_type": "code",
   "execution_count": 2,
   "metadata": {},
   "outputs": [
    {
     "data": {
      "text/plain": [
       "1e+300"
      ]
     },
     "execution_count": 2,
     "metadata": {},
     "output_type": "execute_result"
    }
   ],
   "source": [
    "x = 1e300\n",
    "x"
   ]
  },
  {
   "cell_type": "code",
   "execution_count": 3,
   "metadata": {},
   "outputs": [
    {
     "data": {
      "text/plain": [
       "3e+300"
      ]
     },
     "execution_count": 3,
     "metadata": {},
     "output_type": "execute_result"
    }
   ],
   "source": [
    "y = 3*x\n",
    "y"
   ]
  },
  {
   "cell_type": "code",
   "execution_count": 4,
   "metadata": {},
   "outputs": [
    {
     "ename": "OverflowError",
     "evalue": "(34, 'Result too large')",
     "output_type": "error",
     "traceback": [
      "\u001b[1;31m---------------------------------------------------------------------------\u001b[0m",
      "\u001b[1;31mOverflowError\u001b[0m                             Traceback (most recent call last)",
      "Input \u001b[1;32mIn [4]\u001b[0m, in \u001b[0;36m<cell line: 1>\u001b[1;34m()\u001b[0m\n\u001b[1;32m----> 1\u001b[0m np\u001b[38;5;241m.\u001b[39msqrt(\u001b[43mx\u001b[49m\u001b[38;5;241;43m*\u001b[39;49m\u001b[38;5;241;43m*\u001b[39;49m\u001b[38;5;241;43m2\u001b[39;49m\u001b[38;5;241m+\u001b[39my\u001b[38;5;241m*\u001b[39m\u001b[38;5;241m*\u001b[39m\u001b[38;5;241m2\u001b[39m)\n",
      "\u001b[1;31mOverflowError\u001b[0m: (34, 'Result too large')"
     ]
    }
   ],
   "source": [
    "np.sqrt(x**2+y**2)"
   ]
  },
  {
   "cell_type": "markdown",
   "metadata": {},
   "source": [
    "We got an overflow error because $x^2$ is larger than the largest floating point number (in double format)"
   ]
  },
  {
   "cell_type": "markdown",
   "metadata": {},
   "source": [
    "We can avoid the overflow error by scaling the variables x and y by their max value\n",
    "\n",
    "$$\n",
    "\\sqrt{x^2+y^2} = \\max\\{|x|,|y|\\}\\cdot\\sqrt{\\left(\\frac{|x|}{\\max\\{|x|,|y|\\}}\\right)^2 + \\left(\\frac{|y|}{\\max\\{|x|,|y|\\}}\\right)^2}\n",
    "$$"
   ]
  },
  {
   "cell_type": "code",
   "execution_count": 5,
   "metadata": {},
   "outputs": [
    {
     "data": {
      "text/plain": [
       "3e+300"
      ]
     },
     "execution_count": 5,
     "metadata": {},
     "output_type": "execute_result"
    }
   ],
   "source": [
    "# scale x and y\n",
    "max_value = np.max([x,y])\n",
    "max_value"
   ]
  },
  {
   "cell_type": "code",
   "execution_count": 6,
   "metadata": {},
   "outputs": [
    {
     "data": {
      "text/plain": [
       "3.1622776601683795e+300"
      ]
     },
     "execution_count": 6,
     "metadata": {},
     "output_type": "execute_result"
    }
   ],
   "source": [
    "max_value*np.sqrt((x/max_value)**2+(y/max_value)**2)"
   ]
  },
  {
   "cell_type": "markdown",
   "metadata": {},
   "source": [
    "**Overflow Example 2: the Softmax Function**"
   ]
  },
  {
   "cell_type": "markdown",
   "metadata": {},
   "source": [
    "The softmax function takes as input an $n$-dimensional vector $x=[x_1,\\ldots,x_n]$, and returns a vector $g(x)=[g_1(x),\\ldots,g_n(x)]$ with entries\n",
    "\n",
    "$$\n",
    "g_j(x) = \n",
    "\\frac{e^{x_j}}{\\sum_{i=1}^n e^{x_i}}, \\quad j=1,2,\\ldots, n.\n",
    "$$\n",
    "\n",
    "The elements of $g$ are all between 0 and 1 and they sum to 1.\n",
    "Softmax is a key function in machine learning algorithms."
   ]
  },
  {
   "cell_type": "code",
   "execution_count": 14,
   "metadata": {},
   "outputs": [
    {
     "data": {
      "text/plain": [
       "array([10,  2, 30, -1])"
      ]
     },
     "execution_count": 14,
     "metadata": {},
     "output_type": "execute_result"
    }
   ],
   "source": [
    "x = np.array([10,2,30,-1])\n",
    "x"
   ]
  },
  {
   "cell_type": "code",
   "execution_count": 15,
   "metadata": {},
   "outputs": [
    {
     "data": {
      "text/plain": [
       "array([2.20264658e+04, 7.38905610e+00, 1.06864746e+13, 3.67879441e-01])"
      ]
     },
     "execution_count": 15,
     "metadata": {},
     "output_type": "execute_result"
    }
   ],
   "source": [
    "np.exp(x)"
   ]
  },
  {
   "cell_type": "code",
   "execution_count": 16,
   "metadata": {},
   "outputs": [
    {
     "data": {
      "text/plain": [
       "10686474603558.686"
      ]
     },
     "execution_count": 16,
     "metadata": {},
     "output_type": "execute_result"
    }
   ],
   "source": [
    "np.sum(np.exp(x))"
   ]
  },
  {
   "cell_type": "code",
   "execution_count": 18,
   "metadata": {},
   "outputs": [
    {
     "data": {
      "text/plain": [
       "array([2.06115362e-09, 6.91440009e-13, 9.99999998e-01, 3.44247710e-14])"
      ]
     },
     "execution_count": 18,
     "metadata": {},
     "output_type": "execute_result"
    }
   ],
   "source": [
    "# softmax function at x\n",
    "np.exp(x)/np.sum(np.exp(x))"
   ]
  },
  {
   "cell_type": "markdown",
   "metadata": {},
   "source": [
    "A problem with numerical evaluation of  softmax is that overflow is likely even for quite modest values of $x_i$ because of the exponentials, even though g(x) cannot overflow."
   ]
  },
  {
   "cell_type": "code",
   "execution_count": 28,
   "metadata": {},
   "outputs": [
    {
     "data": {
      "text/plain": [
       "array([790, 650, 750, 700, 780])"
      ]
     },
     "execution_count": 28,
     "metadata": {},
     "output_type": "execute_result"
    }
   ],
   "source": [
    "x = np.array([790,650,750,700,780])\n",
    "x"
   ]
  },
  {
   "cell_type": "code",
   "execution_count": 29,
   "metadata": {},
   "outputs": [
    {
     "name": "stderr",
     "output_type": "stream",
     "text": [
      "C:\\Users\\javier.perez-alvaro\\AppData\\Local\\Temp\\ipykernel_14484\\3688583993.py:1: RuntimeWarning: overflow encountered in exp\n",
      "  np.exp(x)/np.sum(np.exp(x))\n",
      "C:\\Users\\javier.perez-alvaro\\AppData\\Local\\Temp\\ipykernel_14484\\3688583993.py:1: RuntimeWarning: invalid value encountered in true_divide\n",
      "  np.exp(x)/np.sum(np.exp(x))\n"
     ]
    },
    {
     "data": {
      "text/plain": [
       "array([nan,  0., nan,  0., nan])"
      ]
     },
     "execution_count": 29,
     "metadata": {},
     "output_type": "execute_result"
    }
   ],
   "source": [
    "np.exp(x)/np.sum(np.exp(x))"
   ]
  },
  {
   "cell_type": "markdown",
   "metadata": {},
   "source": [
    "A standard solution it to incorporate a shift, $a$, and use the formula\n",
    "\n",
    "$$\n",
    "g_j(x) = \n",
    "\\frac{e^{-a}e^{x_j}}{e^{-a}\\sum_{i=1}^n e^{x_i}}\n",
    "=\\frac{e^{x_j-a}}{\\sum_{i=1}^n e^{x_i-a}},\n",
    "\\quad j=1,2,\\ldots, n.\n",
    "$$\n",
    "\n",
    "where $a$ is usually set to $a=\\max\\{x_1,x_2,\\ldots,x_n\\}$."
   ]
  },
  {
   "cell_type": "code",
   "execution_count": 30,
   "metadata": {},
   "outputs": [
    {
     "data": {
      "text/plain": [
       "790"
      ]
     },
     "execution_count": 30,
     "metadata": {},
     "output_type": "execute_result"
    }
   ],
   "source": [
    "a = np.max(x)\n",
    "a"
   ]
  },
  {
   "cell_type": "code",
   "execution_count": 31,
   "metadata": {},
   "outputs": [
    {
     "data": {
      "text/plain": [
       "array([9.99954602e-01, 1.58034831e-61, 4.24816139e-18, 8.19364063e-40,\n",
       "       4.53978687e-05])"
      ]
     },
     "execution_count": 31,
     "metadata": {},
     "output_type": "execute_result"
    }
   ],
   "source": [
    "np.exp(x-a)/np.sum(np.exp(x-a))"
   ]
  },
  {
   "cell_type": "markdown",
   "metadata": {},
   "source": [
    "## checking the condition number rule of thumb"
   ]
  },
  {
   "cell_type": "code",
   "execution_count": 10,
   "metadata": {},
   "outputs": [],
   "source": [
    "def f(x):\n",
    "    return x-1"
   ]
  },
  {
   "cell_type": "code",
   "execution_count": 24,
   "metadata": {},
   "outputs": [],
   "source": [
    "def condf(x):\n",
    "    return np.abs(x)/np.abs(x-1)"
   ]
  },
  {
   "cell_type": "code",
   "execution_count": 25,
   "metadata": {},
   "outputs": [],
   "source": [
    "xlist = [0.9,0.99,0.999,0.9999,0.99999,0.999999,0.9999999,0.99999999]"
   ]
  },
  {
   "cell_type": "code",
   "execution_count": 26,
   "metadata": {},
   "outputs": [
    {
     "name": "stdout",
     "output_type": "stream",
     "text": [
      "x value\n",
      "0.9\n",
      "relative error in x\n",
      "1.111111111111111e-16\n",
      "relative error in y\n",
      "1.1102230246251567e-15\n",
      "condition number at x\n",
      "9.000000000000002\n",
      "-------------------------\n",
      "x value\n",
      "0.99\n",
      "relative error in x\n",
      "1.0101010101010101e-16\n",
      "relative error in y\n",
      "1.1102230246251556e-14\n",
      "condition number at x\n",
      "98.99999999999991\n",
      "-------------------------\n",
      "x value\n",
      "0.999\n",
      "relative error in x\n",
      "1.001001001001001e-16\n",
      "relative error in y\n",
      "1.1102230246251555e-13\n",
      "condition number at x\n",
      "998.9999999999991\n",
      "-------------------------\n",
      "x value\n",
      "0.9999\n",
      "relative error in x\n",
      "1.000100010001e-16\n",
      "relative error in y\n",
      "1.1102230246252787e-12\n",
      "condition number at x\n",
      "9999.0000000011\n",
      "-------------------------\n",
      "x value\n",
      "0.99999\n",
      "relative error in x\n",
      "1.000010000100001e-16\n",
      "relative error in y\n",
      "1.1102230246302091e-11\n",
      "condition number at x\n",
      "99999.0000004551\n",
      "-------------------------\n",
      "x value\n",
      "0.999999\n",
      "relative error in x\n",
      "1.000001000001e-16\n",
      "relative error in y\n",
      "1.1102230245932314e-10\n",
      "condition number at x\n",
      "999998.9999712444\n",
      "-------------------------\n",
      "x value\n",
      "0.9999999\n",
      "relative error in x\n",
      "1.00000010000001e-16\n",
      "relative error in y\n",
      "1.1102230252095288e-09\n",
      "condition number at x\n",
      "9999999.005263558\n",
      "-------------------------\n",
      "x value\n",
      "0.99999999\n",
      "relative error in x\n",
      "1.0000000100000002e-16\n",
      "relative error in y\n",
      "1.110223019046553e-08\n",
      "condition number at x\n",
      "99999998.49752407\n",
      "-------------------------\n"
     ]
    }
   ],
   "source": [
    "# Delta x\n",
    "error = 1e-16\n",
    "\n",
    "for x in xlist:\n",
    "\n",
    "    # x + error (x + Delta x)\n",
    "    xdx = x + error\n",
    "\n",
    "    # y value\n",
    "    y = f(x)\n",
    "\n",
    "    # y + Delta y\n",
    "    ydy = f(xdx)\n",
    "\n",
    "    print('x value')\n",
    "    print(x)\n",
    "    print('relative error in x')\n",
    "    print(np.abs(error)/np.abs(x))\n",
    "    print('relative error in y')\n",
    "    print(np.abs(ydy-y)/np.abs(y))\n",
    "    print('condition number at x')\n",
    "    print(condf(x))\n",
    "    print('-------------------------')\n",
    "    "
   ]
  },
  {
   "cell_type": "code",
   "execution_count": null,
   "metadata": {},
   "outputs": [],
   "source": []
  }
 ],
 "metadata": {
  "kernelspec": {
   "display_name": "Python 3",
   "language": "python",
   "name": "python3"
  },
  "language_info": {
   "codemirror_mode": {
    "name": "ipython",
    "version": 3
   },
   "file_extension": ".py",
   "mimetype": "text/x-python",
   "name": "python",
   "nbconvert_exporter": "python",
   "pygments_lexer": "ipython3",
   "version": "3.8.5"
  }
 },
 "nbformat": 4,
 "nbformat_minor": 5
}
